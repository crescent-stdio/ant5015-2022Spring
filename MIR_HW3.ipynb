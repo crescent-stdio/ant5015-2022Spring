{
 "cells": [
  {
   "cell_type": "markdown",
   "id": "05bbdb28",
   "metadata": {},
   "source": [
    "# Assignment 3\n",
    "- In this assignment, you will implement a melody-language model\n",
    "- You have to submit your code in **TWO** formats:\n",
    "    - Completed Notebook with `.ipynb`\n",
    "    - A `{your_student_number}.py` file that includes **ALL functions and classes you have completed**\n",
    "        - Do not include any other code except function and class\n",
    "        - Your result will be scored by an evaluation code that import this `{your_student_number}.py` file\n",
    "        - So be careful not to use any global variable inside the function\n",
    "- You have to submit a report (optional) and **three** generation results of your favorite in wav files\n",
    "    - The report is optional. If you have tried other architecture for MelodyLanguage Model, you can describe the result.\n",
    "\n",
    "\n",
    "- Caution: The `assert` lines are designed to check whether basic requirements are satisfied. Even though you passed all the assert cases, it doesn't guarantee that your implementation is fully correct"
   ]
  },
  {
   "cell_type": "code",
   "execution_count": 19,
   "id": "55d255bf",
   "metadata": {},
   "outputs": [],
   "source": [
    "import torch\n",
    "import torch.nn as nn\n",
    "torch.set_printoptions(sci_mode=False)"
   ]
  },
  {
   "cell_type": "markdown",
   "id": "dc24cd5c",
   "metadata": {},
   "source": [
    "## 0. Prepare (Install and import library)"
   ]
  },
  {
   "cell_type": "code",
   "execution_count": 20,
   "id": "c8e670ff",
   "metadata": {},
   "outputs": [
    {
     "name": "stdout",
     "output_type": "stream",
     "text": [
      "\u001b[33mDEPRECATION: Configuring installation scheme with distutils config files is deprecated and will no longer work in the near future. If you are using a Homebrew or Linuxbrew Python, please see discussion at https://github.com/Homebrew/homebrew-core/issues/76621\u001b[0m\u001b[33m\n",
      "\u001b[0mRequirement already satisfied: muspy in /opt/homebrew/lib/python3.9/site-packages (0.5.0)\n",
      "Requirement already satisfied: tqdm>=4.0 in /opt/homebrew/lib/python3.9/site-packages (from muspy) (4.64.0)\n",
      "Requirement already satisfied: music21>=6.0 in /opt/homebrew/lib/python3.9/site-packages (from muspy) (7.3.3)\n",
      "Requirement already satisfied: joblib>=0.15 in /opt/homebrew/lib/python3.9/site-packages (from muspy) (1.1.0)\n",
      "Requirement already satisfied: PyYAML>=3.0 in /opt/homebrew/lib/python3.9/site-packages (from muspy) (6.0)\n",
      "Requirement already satisfied: miditoolkit>=0.1 in /opt/homebrew/lib/python3.9/site-packages (from muspy) (0.1.16)\n",
      "Requirement already satisfied: pretty-midi>=0.2 in /opt/homebrew/lib/python3.9/site-packages (from muspy) (0.2.9)\n",
      "Requirement already satisfied: requests>=2.0 in /opt/homebrew/lib/python3.9/site-packages (from muspy) (2.27.1)\n",
      "Requirement already satisfied: pypianoroll>=1.0 in /opt/homebrew/lib/python3.9/site-packages (from muspy) (1.0.4)\n",
      "Requirement already satisfied: bidict>=0.21 in /opt/homebrew/lib/python3.9/site-packages (from muspy) (0.22.0)\n",
      "Requirement already satisfied: mido>=1.0 in /opt/homebrew/lib/python3.9/site-packages (from muspy) (1.2.10)\n",
      "Requirement already satisfied: matplotlib>=1.5 in /opt/homebrew/lib/python3.9/site-packages (from muspy) (3.5.2)\n",
      "Requirement already satisfied: kiwisolver>=1.0.1 in /opt/homebrew/lib/python3.9/site-packages (from matplotlib>=1.5->muspy) (1.4.2)\n",
      "Requirement already satisfied: fonttools>=4.22.0 in /opt/homebrew/lib/python3.9/site-packages (from matplotlib>=1.5->muspy) (4.33.3)\n",
      "Requirement already satisfied: pyparsing>=2.2.1 in /opt/homebrew/lib/python3.9/site-packages (from matplotlib>=1.5->muspy) (3.0.9)\n",
      "Requirement already satisfied: packaging>=20.0 in /opt/homebrew/lib/python3.9/site-packages (from matplotlib>=1.5->muspy) (21.3)\n",
      "Requirement already satisfied: pillow>=6.2.0 in /opt/homebrew/lib/python3.9/site-packages (from matplotlib>=1.5->muspy) (9.1.1)\n",
      "Requirement already satisfied: cycler>=0.10 in /opt/homebrew/lib/python3.9/site-packages (from matplotlib>=1.5->muspy) (0.11.0)\n",
      "Requirement already satisfied: numpy>=1.17 in /opt/homebrew/lib/python3.9/site-packages (from matplotlib>=1.5->muspy) (1.22.4)\n",
      "Requirement already satisfied: python-dateutil>=2.7 in /opt/homebrew/lib/python3.9/site-packages (from matplotlib>=1.5->muspy) (2.8.2)\n",
      "Requirement already satisfied: more-itertools in /opt/homebrew/lib/python3.9/site-packages (from music21>=6.0->muspy) (8.13.0)\n",
      "Requirement already satisfied: jsonpickle in /opt/homebrew/lib/python3.9/site-packages (from music21>=6.0->muspy) (2.2.0)\n",
      "Requirement already satisfied: webcolors>=1.5 in /opt/homebrew/lib/python3.9/site-packages (from music21>=6.0->muspy) (1.12)\n",
      "Requirement already satisfied: chardet in /opt/homebrew/lib/python3.9/site-packages (from music21>=6.0->muspy) (4.0.0)\n",
      "Requirement already satisfied: six in /opt/homebrew/lib/python3.9/site-packages (from pretty-midi>=0.2->muspy) (1.16.0)\n",
      "Requirement already satisfied: scipy>=1.0.0 in /opt/homebrew/lib/python3.9/site-packages (from pypianoroll>=1.0->muspy) (1.8.1)\n",
      "Requirement already satisfied: idna<4,>=2.5 in /opt/homebrew/lib/python3.9/site-packages (from requests>=2.0->muspy) (3.3)\n",
      "Requirement already satisfied: charset-normalizer~=2.0.0 in /opt/homebrew/lib/python3.9/site-packages (from requests>=2.0->muspy) (2.0.12)\n",
      "Requirement already satisfied: urllib3<1.27,>=1.21.1 in /opt/homebrew/lib/python3.9/site-packages (from requests>=2.0->muspy) (1.26.9)\n",
      "Requirement already satisfied: certifi>=2017.4.17 in /opt/homebrew/lib/python3.9/site-packages (from requests>=2.0->muspy) (2022.5.18.1)\n",
      "\u001b[33mDEPRECATION: Configuring installation scheme with distutils config files is deprecated and will no longer work in the near future. If you are using a Homebrew or Linuxbrew Python, please see discussion at https://github.com/Homebrew/homebrew-core/issues/76621\u001b[0m\u001b[33m\n",
      "\u001b[0mSkip downloading as the Bravura font is found.\n",
      "Skip downloading as the MuseScore General soundfont is found.\n"
     ]
    }
   ],
   "source": [
    "!pip install muspy\n",
    "import muspy\n",
    "\n",
    "muspy.download_bravura_font()\n",
    "'''\n",
    "You may have to install fluidsynth.\n",
    "In Colab, you can install by followign code\n",
    "\n",
    "!sudo apt-get install fluidsynth\n",
    "'''\n",
    "muspy.download_musescore_soundfont()"
   ]
  },
  {
   "cell_type": "markdown",
   "id": "2ac9b3ba",
   "metadata": {},
   "source": [
    "## Problem 1: Understanding and Implementing RNN (15 pts)\n",
    "- Recurrent neural network is a typical choice for handling sequential data with a neural network\n",
    "- In this problem, you have to implement a Vanilla RNN\n",
    "    - For each time step $t$, RNN takes two inputs\n",
    "        - $x_t$, which is an input vector of time step $t$\n",
    "        - $h_{t-1}$, which is an hidden state of previous time step, $t-1$\n",
    "            - $h_{t-1}$ is also the output of RNN for previous time step $t-1$\n",
    "    - For given $x_t$ and $h_{t-1}$, RNN returns $h_t$\n",
    "        - $h_t = \\tanh(Wx_t + Uh_{t-1} + b)$ \n",
    "            - $W$ and $U$ is a trainable weight matrix of RNN\n",
    "            - $W \\in \\mathbb{R}^{d \\times h}$, and $U \\in \\mathbb{R}^{h \\times h}$, where $d$ is number of input dimension and $h$ is number of hidden state dimension\n",
    "                - This means that $W$ is a matrix with real numbers and size of $\\text{num_input_dim}\\times \\text{num_hidden_dim}$  \n",
    "                - and $U$ is a matrix with real numbers and size of $\\text{num_hidden_dim}\\times \\text{num_hidden_dim}$  \n",
    "            \n",
    " - The output of fully connected layer (`nn.Linear`) for a given input vector $x$ is as below:\n",
    "     - $\\text{output} = Wx+b$\n",
    "     - Where $W$ is a weight matrix and $b$ is a bias vector\n",
    "     - Both $W$ and $b$ are trainable parameters\n",
    " "
   ]
  },
  {
   "cell_type": "markdown",
   "id": "b050d35e",
   "metadata": {},
   "source": [
    "### Problem 1.1: Calculating Forward Propagation of RNN\n",
    "- Based on the example above, implement the forward propagation of uni-directional, single layer vanilla RNN"
   ]
  },
  {
   "cell_type": "code",
   "execution_count": 21,
   "id": "3564e530",
   "metadata": {},
   "outputs": [
    {
     "name": "stdout",
     "output_type": "stream",
     "text": [
      "example_weight_for_hidden_to_hidden: \n",
      " tensor([[-1.1258, -1.1524, -0.2506, -0.4339,  0.8487,  0.6920],\n",
      "        [-0.3160, -2.1152,  0.3223, -1.2633,  0.3500,  0.3081],\n",
      "        [ 0.1198,  1.2377,  1.1168, -0.2473, -1.3527, -1.6959],\n",
      "        [ 0.5667,  0.7935,  0.4397,  0.1124,  0.6408,  0.4412],\n",
      "        [-0.2159, -0.7425,  0.5627,  0.2596,  0.5229,  2.3022],\n",
      "        [-1.4689, -1.5867,  1.2032,  0.0845, -1.2001, -0.0048]])\n",
      "example_weight_for_input_to_hidden: \n",
      " tensor([[-0.2303, -0.3918, -0.4731],\n",
      "        [ 0.3356,  1.5091,  2.0820],\n",
      "        [ 1.7067,  2.3804, -1.1256],\n",
      "        [-0.3170, -0.1407,  0.8058],\n",
      "        [ 0.3276, -0.7607, -1.5991],\n",
      "        [ 0.0185, -0.7504,  0.1854]])\n",
      "example_bias: \n",
      " tensor([-0.6776,  1.0422, -1.9513,  0.4186,  3.3214,  0.8764])\n",
      "example_input_sequence: \n",
      " tensor([[ 0.3446,  0.5199, -2.6133],\n",
      "        [-1.6965, -0.2282,  0.2800],\n",
      "        [ 0.0732,  1.1133,  0.3380],\n",
      "        [ 0.4544,  0.4569, -0.8654],\n",
      "        [ 0.7813, -0.9268,  0.2064],\n",
      "        [-0.3334, -0.0729, -0.0340],\n",
      "        [ 0.9625,  0.3492, -0.9215],\n",
      "        [-0.0562, -0.7015,  1.0367],\n",
      "        [ 1.9218, -0.4025,  0.1239],\n",
      "        [ 1.1648,  0.9234,  1.3873],\n",
      "        [ 1.3750,  0.6596, -0.8048],\n",
      "        [ 0.5656,  0.6104,  0.4669],\n",
      "        [ 1.9507, -1.0631,  1.1404],\n",
      "        [-0.0899, -0.5940, -1.2439],\n",
      "        [-0.1021, -1.0335, -0.1434],\n",
      "        [-0.3173,  0.9671, -0.9911],\n",
      "        [ 0.3016, -0.1073,  0.9985],\n",
      "        [-0.4987,  0.9910, -0.7777],\n",
      "        [ 0.3140,  0.2133, -0.1201],\n",
      "        [ 0.3605, -0.3140, -1.0787]])\n"
     ]
    }
   ],
   "source": [
    "'''\n",
    "Don't change this cell\n",
    "'''\n",
    "example_input_size = 3\n",
    "example_hidden_size = 6\n",
    "example_sequence_length = 20\n",
    "\n",
    "torch.manual_seed(0)\n",
    "example_weight_for_hidden_to_hidden = torch.randn([example_hidden_size, example_hidden_size])\n",
    "example_weight_for_input_to_hidden = torch.randn([example_hidden_size, example_input_size])\n",
    "example_bias = torch.randn([example_hidden_size])\n",
    "example_input_sequence = torch.randn([example_sequence_length, example_input_size])\n",
    "\n",
    "print('example_weight_for_hidden_to_hidden: \\n',example_weight_for_hidden_to_hidden)\n",
    "print('example_weight_for_input_to_hidden: \\n',example_weight_for_input_to_hidden)\n",
    "print('example_bias: \\n',example_bias)\n",
    "print('example_input_sequence: \\n',example_input_sequence)"
   ]
  },
  {
   "cell_type": "code",
   "execution_count": 27,
   "id": "9752e354",
   "metadata": {},
   "outputs": [],
   "source": [
    "def rnn_single_step(current_input:torch.Tensor, prev_hidden:torch.Tensor, hh_weight:torch.Tensor, ih_weight:torch.Tensor, bias:torch.Tensor) -> torch.Tensor:\n",
    "  '''\n",
    "  This function \n",
    "  \n",
    "  Arguments:\n",
    "    current_input: Input vector of the current time step. Has a shape of [input_dimension]\n",
    "    prev_hidden: Hidden state from the previous time step. Has a shape of [hidden_dimension]\n",
    "    hh_weight: Weight matrix for from hidden state to hidden state. Has a shape of [hidden_dimension, hidden_dimension]\n",
    "    ih_weight: Weight matrix for from current input to hidden state. Has a shape of [input_dimension, hidden_dimension]\n",
    "    bias: Bias of RNN. Has a shape of [hidden_dimension]\n",
    "  \n",
    "  Outputs:\n",
    "    current hidden: Updated hidden state for the current time step. Has a shape of [hidden_dimension]\n",
    "  \n",
    "  TODO: Complete this function\n",
    "  ℎ𝑡=tanh(𝑊𝑥𝑡+𝑈ℎ𝑡−1+𝑏)\n",
    "  '''\n",
    "  return torch.tanh(ih_weight@current_input + hh_weight@prev_hidden + bias)\n",
    "\n",
    "\n",
    "def initialize_hidden_state_for_single_batch(hidden_dim:int) -> torch.Tensor:\n",
    "  '''\n",
    "  This function returns zero Tensor for a given hidden dimension. This function assumes that the RNN uses single layer and single direction.\n",
    "  \n",
    "  Argument\n",
    "    hidden_dim\n",
    "    \n",
    "  Return\n",
    "    initial_hidden_state: Has a shape of [hidden_dim]\n",
    "  \n",
    "  TODO: Complete this function\n",
    "  '''\n",
    "  return torch.Tensor(hidden_dim)\n",
    "\n",
    "\n",
    "initial_hidden = initialize_hidden_state_for_single_batch(example_hidden_size)\n",
    "assert initial_hidden.shape == torch.Size([example_hidden_size])\n",
    "\n",
    "single_output = rnn_single_step(example_input_sequence[0], initial_hidden, example_weight_for_hidden_to_hidden, example_weight_for_input_to_hidden, example_bias)\n",
    "assert (torch.abs(single_output - torch.Tensor([ 0.2690, -0.9982,  0.9929, -0.9535,  1.0000,  0.0081]))<1e-4).all()"
   ]
  },
  {
   "cell_type": "code",
   "execution_count": 28,
   "id": "b93b86e8",
   "metadata": {},
   "outputs": [],
   "source": [
    "def rnn_for_entire_timestep(input_seq:torch.Tensor, prev_hidden:torch.Tensor, hh_weight:torch.Tensor, ih_weight:torch.Tensor, bias:torch.Tensor) -> tuple:\n",
    "  '''\n",
    "  This function returns the output of RNN for the given 'input_seq', for the given RNN's parameters (hh_weight, ih_weight, and bias)\n",
    "  \n",
    "  Arguments:\n",
    "    input_seq: Sequence of input vector. Has a shape of [number_of_timestep, input_dimension]\n",
    "    prev_hidden: Hidden state from the previous time step. Has a shape of [hidden_dimension]\n",
    "    hh_weight: Weight matrix for from hidden state to hidden state. Has a shape of [hidden_dimension, hidden_dimension]\n",
    "    ih_weight: Weight matrix for from current input to hidden state. Has a shape of [input_dimension, hidden_dimension]\n",
    "\n",
    "  \n",
    "  Return: tuple (output, final_hidden_state)\n",
    "    output: Sequence of output hidden state of RNN along input timesteps. Has a a shape of [number_of_timestep, hidden_dimension]\n",
    "    final_hidden_state: Hidden state of RNN of the last time step. Has a a shape of [hidden_dimension]\n",
    "    \n",
    "  TODO: Complete this function using your 'rnn_single_step()'\n",
    "  '''\n",
    "  output = []\n",
    "  for idx in range(input_seq.shape[0]):\n",
    "    curr_input = input_seq[idx] #\n",
    "    curr_hidden = rnn_single_step(curr_input, prev_hidden, hh_weight, ih_weight, bias)\n",
    "    prev_hidden = curr_hidden\n",
    "    output.append(curr_hidden)\n",
    "    \n",
    "  final_hidden_state = curr_hidden\n",
    "  output = torch.stack(output)\n",
    "  return (output, final_hidden_state)\n",
    "\n",
    "total_output = rnn_for_entire_timestep(example_input_sequence, initial_hidden, example_weight_for_hidden_to_hidden, example_weight_for_input_to_hidden, example_bias)"
   ]
  },
  {
   "cell_type": "code",
   "execution_count": 29,
   "id": "a6557792",
   "metadata": {},
   "outputs": [
    {
     "name": "stdout",
     "output_type": "stream",
     "text": [
      "Passed the test cases\n"
     ]
    }
   ],
   "source": [
    "'''\n",
    "Test case\n",
    "'''\n",
    "\n",
    "assert isinstance(total_output, tuple) and len(total_output)==2, \"RNN's output has to be tuple of two tensors\"\n",
    "assert isinstance(total_output[0], torch.Tensor), 'Hidden states has to be a tensor'\n",
    "assert (total_output[0][6] - torch.Tensor([ 0.8273,  0.5121, -0.5701, -0.9566,  0.9984,  0.5125])).abs().min() < 1e-4, f\"Output value is different: {total_output[0][6]}\"\n",
    "assert (total_output[1]- torch.Tensor([-0.2121, -0.9892, -0.9953,  0.7993,  1.0000, -0.9995])).abs().min() < 1e-4, f\"Output value is different: {total_output[1]}\"\n",
    "\n",
    "print(\"Passed the test cases\")"
   ]
  },
  {
   "cell_type": "markdown",
   "id": "9fb3661e",
   "metadata": {},
   "source": [
    "## Problem 2: Understanding Embedding Layer (10 pts)\n",
    "- Embedding Layer takes categorical indices and return corresponding vector"
   ]
  },
  {
   "cell_type": "code",
   "execution_count": 30,
   "id": "1dc07eca",
   "metadata": {},
   "outputs": [
    {
     "data": {
      "text/plain": [
       "(tensor([[[7, 6],\n",
       "          [9, 3]],\n",
       " \n",
       "         [[8, 4],\n",
       "          [4, 9]],\n",
       " \n",
       "         [[4, 4],\n",
       "          [9, 9]]]),\n",
       " tensor([[[[ 0.6430,  1.6953,  2.0655],\n",
       "           [ 0.1806,  1.3615,  2.0372]],\n",
       " \n",
       "          [[ 0.4826, -0.8298,  1.2678],\n",
       "           [-1.7174,  1.5346, -0.0032]]],\n",
       " \n",
       " \n",
       "         [[[ 0.2578, -0.5650,  0.9278],\n",
       "           [-1.6034,  0.0581, -0.1434]],\n",
       " \n",
       "          [[-1.6034,  0.0581, -0.1434],\n",
       "           [ 0.4826, -0.8298,  1.2678]]],\n",
       " \n",
       " \n",
       "         [[[-1.6034,  0.0581, -0.1434],\n",
       "           [-1.6034,  0.0581, -0.1434]],\n",
       " \n",
       "          [[ 0.4826, -0.8298,  1.2678],\n",
       "           [ 0.4826, -0.8298,  1.2678]]]]))"
      ]
     },
     "execution_count": 30,
     "metadata": {},
     "output_type": "execute_result"
    }
   ],
   "source": [
    "class CustomEmbeddingLayer(nn.Module):\n",
    "  def __init__(self, num_embeddings, embedding_dim):\n",
    "    super().__init__()\n",
    "    self.weight = torch.randn(num_embeddings, embedding_dim)\n",
    "  def forward(self, x:torch.LongTensor):\n",
    "    '''\n",
    "    Argument\n",
    "      x: torch.LongTensor of arbitrary shape, where each element represent categorical index smaller than self.num_embeddings\n",
    "      \n",
    "    Return\n",
    "      out (torch.Tensor): torch.FloatTensor with [shape of x, self.embedding_dim]\n",
    "    \n",
    "    TODO: Complete this function using self.weight\n",
    "    '''\n",
    "    return self.weight[x]\n",
    "  \n",
    "custom_embedding_layer = CustomEmbeddingLayer(10, example_input_size)\n",
    "random_categorical_input = torch.randint(0,10, [3, 2, 2])\n",
    "random_categorical_input, custom_embedding_layer(random_categorical_input)"
   ]
  },
  {
   "cell_type": "markdown",
   "id": "f9d1b7d2",
   "metadata": {},
   "source": [
    "## Problem 3: Dataset (20 pts)\n",
    "- You have to declare a path for saving dataset\n",
    "- The dataset has vocabulary information\n",
    "    - For both pitch and duration, we added `'start'` and `'end'` token\n",
    "    - This helps a language model to start the generation or end the generation\n",
    "- You have to implment `__getitem__` of this dataset "
   ]
  },
  {
   "cell_type": "code",
   "execution_count": 36,
   "id": "013d05d3",
   "metadata": {},
   "outputs": [
    {
     "name": "stdout",
     "output_type": "stream",
     "text": [
      "Downloading source : https://ifdo.ca/~seymour/runabc/esac/esac.zip ...\n"
     ]
    },
    {
     "name": "stderr",
     "output_type": "stream",
     "text": [
      "178061312it [00:02, 66725741.30it/s]                                   \n"
     ]
    },
    {
     "name": "stdout",
     "output_type": "stream",
     "text": [
      "Successfully downloaded source : /Users/crescent/Code/ant5015-2022Spring/datasets/essen_folk/esac.zip .\n",
      "Extracting archive : /Users/crescent/Code/ant5015-2022Spring/datasets/essen_folk/esac.zip ...\n",
      "Successfully extracted archive : /Users/crescent/Code/ant5015-2022Spring/datasets/essen_folk .\n",
      "Converting and saving the dataset...\n"
     ]
    },
    {
     "name": "stderr",
     "output_type": "stream",
     "text": [
      "100%|████████████████████████████| 10457/10457 [05:24<00:00, 32.18it/s]"
     ]
    },
    {
     "name": "stdout",
     "output_type": "stream",
     "text": [
      "Successfully saved 9034 out of 10457 files.\n"
     ]
    },
    {
     "name": "stderr",
     "output_type": "stream",
     "text": [
      "\n"
     ]
    },
    {
     "data": {
      "text/plain": [
       "'\\nYou can download the dataset like this, but it will take too much time in Colab\\n\\nessen = muspy.EssenFolkSongDatabase(your_path, download_and_extract=True)\\nessen.convert()\\n'"
      ]
     },
     "execution_count": 36,
     "metadata": {},
     "output_type": "execute_result"
    }
   ],
   "source": [
    "your_path = 'datasets/essen_folk/'\n",
    "essen = muspy.EssenFolkSongDatabase(your_path, download_and_extract=True)\n",
    "essen.convert()\n",
    "'''\n",
    "You can download the dataset like this, but it will take too much time in Colab\n",
    "\n",
    "essen = muspy.EssenFolkSongDatabase(your_path, download_and_extract=True)\n",
    "essen.convert()\n",
    "'''\n",
    "# # !pip install --upgrade gdown\n",
    "# !gdown 1HMHgPifMFgRtIiLJsTb3ULqbxJx4xpQY # If it doesn't work, you have to upgrade gdown by !pip install --upgrade gdown\n",
    "\n",
    "# # Following code will automatically unzip te dataset to essen_folk/\n",
    "# !unzip -oq essen_converted.zip  # option: overwrite, quiet"
   ]
  },
  {
   "cell_type": "code",
   "execution_count": 37,
   "id": "4ba4a2fe",
   "metadata": {},
   "outputs": [
    {
     "name": "stdout",
     "output_type": "stream",
     "text": [
      "Skip downloading as the `.muspy.success` file is found.\n",
      "Skip extracting as the `.muspy.success` file is found.\n",
      "Skip conversion as the `.muspy.success` file is found.\n"
     ]
    }
   ],
   "source": [
    "class MelodyDataset:\n",
    "  def __init__(self, muspy_dataset, vocabs=None):\n",
    "    self.dataset = muspy_dataset\n",
    "    \n",
    "    if vocabs is None:\n",
    "      self.idx2pitch, self.idx2dur = self._get_vocab_info()\n",
    "      self.idx2pitch += ['start', 'end']\n",
    "      self.idx2dur += ['start', 'end']\n",
    "      self.pitch2idx = {x:i for i, x in enumerate(self.idx2pitch)}\n",
    "      self.dur2idx = {x:i for i, x in enumerate(self.idx2dur)}\n",
    "      \n",
    "    else:\n",
    "      self.idx2pitch, self.idx2dur, self.pitch2idx, self.dur2idx = vocabs\n",
    "    \n",
    "  def _get_vocab_info(self):\n",
    "    entire_pitch = []\n",
    "    entire_dur = []\n",
    "    for note_rep in self.dataset:\n",
    "      pitch_in_piece = note_rep[:, 1]\n",
    "      dur_in_piece = note_rep[:, 2]\n",
    "      entire_pitch += pitch_in_piece.tolist()\n",
    "      entire_dur += dur_in_piece.tolist()\n",
    "    return list(set(entire_pitch)), list(set(entire_dur))\n",
    "  \n",
    "  def get_vocabs(self):\n",
    "    return self.idx2pitch, self.idx2dur, self.pitch2idx, self.dur2idx\n",
    "    \n",
    "  def __len__(self):\n",
    "    return len(self.dataset)\n",
    "  \n",
    "  def __getitem__(self, idx):\n",
    "    '''\n",
    "    This dataset class returns melody information as a tensor with shape of [num_notes, 2 (pitch, duration)].\n",
    "    \n",
    "    To train a melody language model, you have to provide a sequence of original note, and a sequence of next note for given original note.\n",
    "    In other word, melody[i+1] has to be the shifted_melody[i], so that melody[i]'s next note can be retrieved by shifted_melody[i]\n",
    "    (Remember, language model is trained to predict the next upcoming word)\n",
    "    \n",
    "    Also, to make genration easier, we usually add 'start' token at the beginning of sequence, and 'end' token at the end of the sequence.\n",
    "    With these tokens, we can make the model recognize where is the start and end of the sequence explicitly.\n",
    "    \n",
    "    You have to add these tokens to the note sequence at this step.\n",
    "    \n",
    "    Argument:\n",
    "      idx (int): Index of data sample in the dataset\n",
    "    \n",
    "    Returns:\n",
    "      melody (torch.LongTensor): Sequence of [categorical_index_of_pitch, categorical_index_of_duration]\n",
    "                                 Has a shape of [1 (start_token) + num_notes, 2 (pitch, dur)]. \n",
    "                                 The first element of the sequence has to be the index for 'start' token for both pitch and duration.\n",
    "                                 The melody should not include 'end' token (Because we don't have to predict next note if we know that current note is 'end' token)\n",
    "      shifted_melody (torch.LongTensor): Sequence of [categorical_index_of_pitch, categorical_index_of_duration]\n",
    "                                         Has a shape of [num_notes + 1 (end_token), 2 (pitch, dur)]\n",
    "                                         The i'th note of shifted melody has to be the same with (i+1)'th note of melody\n",
    "                                         The shifted melody should not include 'start' token \n",
    "                                         (Because we never get a 'start' token after a note)\n",
    "                                         \n",
    "    이 데이터 세트 클래스는 [num_notes, 2(피치, 지속 시간)]의 모양을 가진 텐서로 멜로디 정보를 반환합니다.\n",
    "    멜로디 언어 모델을 교육하려면 원본 노트 시퀀스와 주어진 원본 노트에 대한 다음 노트 시퀀스를 제공해야 합니다.\n",
    "    즉, 멜로디[i+1]는 shifted_melody[i]이어야 합니다. 그래야 멜로디[i]의 다음 음을 shift_melody[i]로 검색할 수 있습니다.\n",
    "    (언어 모델은 다음 단어를 예측하도록 훈련됩니다.)\n",
    "    \n",
    "    또한 생성을 쉽게 하기 위해 보통 시퀀스의 시작 부분에 'start' 토큰을 추가하고 시퀀스 끝 부분에 'end' 토큰을 추가합니다.\n",
    "    이러한 토큰을 사용하여 모델이 시퀀스의 시작과 끝이 어디인지 명시적으로 인식하도록 할 수 있습니다.\n",
    "    \n",
    "    다음의 단계에서 이러한 토큰을 노트 시퀀스에 추가해야 합니다.\n",
    "    \n",
    "    Argument:\n",
    "      idx(int): 데이터 집합의 데이터 샘플 인덱스입니다.\n",
    "    \n",
    "    Returns:\n",
    "      melody (torch.LongTensor): [categorical_index_of_pitch, categorical_index_of_duration]의 순서입니다.\n",
    "                                 모양은 [1(start_token) + num_notes, 2(피치, dur)]입니다. \n",
    "                                 시퀀스의 첫 번째 요소는 피치와 지속 시간 모두에 대한 '시작' 토큰의 인덱스가 되어야 합니다.\n",
    "                                 멜로디에는 '종료' 토큰이 포함되지 않아야 합니다(현재 노트가 '종료' 토큰인 경우 다음 노트를 예측할 필요가 없기 때문입니다).\n",
    "      shifted_melody (torch.LongTensor): [categorical_index_of_pitch, categorical_index_of_duration]의 순서입니다.\n",
    "                                         모양이 [num_notes + 1(end_token), 2(피치, dur)]입니다.\n",
    "                                         이동된 멜로디의 i' 음은 (i+1)의 멜로디 음과 같아야 합니다.\n",
    "                                         이동된 멜로디에는 '시작' 토큰이 포함되지 않아야 합니다. \n",
    "                                         (메모 뒤에 '시작' 토큰이 나타나지 않기 때문입니다.)\n",
    "    TODO: Complete this function\n",
    "       now pitch dur  ?\n",
    "    [   0   72   24   64]\n",
    "    '''\n",
    "    note_representation = self.dataset[idx]\n",
    "    note_representation = note_representation[:,1:3].tolist()\n",
    "    melody_representation = [['start', 'start']] + note_representation\n",
    "    shifted_melody_representation = note_representation + [['end', 'end']]\n",
    "    \n",
    "    melody = []\n",
    "    for pitch_dur in melody_representation:\n",
    "      melody.append([self.pitch2idx[pitch_dur[0]], self.dur2idx[pitch_dur[1]]])\n",
    "  \n",
    "    shifted_melody = []\n",
    "    for pitch_dur in shifted_melody_representation:\n",
    "      shifted_melody.append([self.pitch2idx[pitch_dur[0]], self.dur2idx[pitch_dur[1]]])\n",
    "\n",
    "    return torch.LongTensor(melody), torch.LongTensor(shifted_melody)\n",
    "#     return torch.cat(melody, shifted_melody, dim=0)\n",
    "\n",
    "your_path = 'datasets/essen_folk/'\n",
    "essen = muspy.EssenFolkSongDatabase(your_path, download_and_extract=True)\n",
    "essen.convert()\n",
    "\n",
    "essen_entire = essen.to_pytorch_dataset(representation='note')\n",
    "essen_split = essen.to_pytorch_dataset(representation='note', splits=(0.8, 0.1, 0.1), random_state=0)\n",
    "entire_set = MelodyDataset(essen_entire)\n",
    "\n",
    "train_set = MelodyDataset(essen_split['train'], vocabs=entire_set.get_vocabs())\n",
    "valid_set = MelodyDataset(essen_split['validation'], vocabs=entire_set.get_vocabs())\n",
    "test_set = MelodyDataset(essen_split['test'], vocabs=entire_set.get_vocabs())"
   ]
  },
  {
   "cell_type": "code",
   "execution_count": 38,
   "id": "c0372bb7",
   "metadata": {},
   "outputs": [
    {
     "name": "stdout",
     "output_type": "stream",
     "text": [
      "Passed test cases\n"
     ]
    }
   ],
   "source": [
    "'''\n",
    "To check the MelodyDataset implementation\n",
    "'''\n",
    "\n",
    "assert len(train_set[0]) == 2, \"You have to return two variables at __getitem__\"\n",
    "assert train_set[0][0].shape == train_set[0][1].shape, \"Shape of Melody and Shifted melody has to be the same\"\n",
    "\n",
    "assert (train_set[0][0][0] == torch.LongTensor([38, 44])).all(), \"You have to add start token at the beginning of melody\"\n",
    "assert (train_set[0][1][-1] == torch.LongTensor([39, 45])).all(), \"You have to add end token at the end of melody\"\n",
    "\n",
    "assert (train_set[0][0][-1] == torch.LongTensor([12, 26])).all(), \"Last part of melody must not include the end token\"\n",
    "assert (train_set[0][1][0] == torch.LongTensor([24, 16])).all(),  \"First part of shifted melody must not include the start token\"\n",
    "\n",
    "assert (train_set[20][0][1:] == train_set[20][1][:-1]).all(), \"Check the melody shift\"\n",
    "\n",
    "print(\"Passed test cases\")\n"
   ]
  },
  {
   "cell_type": "markdown",
   "id": "4673c342",
   "metadata": {},
   "source": [
    "## PackSequence\n",
    "- After implementing Dataset, we have to declare DataLoader that groups several training samples as a single batch\n",
    "- However, we cannot batchify the melodies in straightforward way, because the length of each melody is different\n",
    "- In this problem, you will learn about how to handle sequences of different length as a batch\n",
    "\n",
    "- You can also refer [a video lecture](https://youtu.be/IQf1zu6jdCU) in Korean"
   ]
  },
  {
   "cell_type": "code",
   "execution_count": 39,
   "id": "83754613",
   "metadata": {
    "scrolled": false
   },
   "outputs": [
    {
     "ename": "RuntimeError",
     "evalue": "stack expects each tensor to be equal size, but got [58, 2] at entry 0 and [25, 2] at entry 1",
     "output_type": "error",
     "traceback": [
      "\u001b[0;31m---------------------------------------------------------------------------\u001b[0m",
      "\u001b[0;31mRuntimeError\u001b[0m                              Traceback (most recent call last)",
      "Input \u001b[0;32mIn [39]\u001b[0m, in \u001b[0;36m<module>\u001b[0;34m\u001b[0m\n\u001b[1;32m      3\u001b[0m \u001b[38;5;124;03m'''\u001b[39;00m\n\u001b[1;32m      4\u001b[0m \u001b[38;5;124;03mThis cell will make error, because the length of each sample is different to each other\u001b[39;00m\n\u001b[1;32m      5\u001b[0m \u001b[38;5;124;03m'''\u001b[39;00m\n\u001b[1;32m      7\u001b[0m train_loader \u001b[38;5;241m=\u001b[39m DataLoader(train_set, batch_size\u001b[38;5;241m=\u001b[39m\u001b[38;5;241m8\u001b[39m)\n\u001b[0;32m----> 8\u001b[0m batch \u001b[38;5;241m=\u001b[39m \u001b[38;5;28;43mnext\u001b[39;49m\u001b[43m(\u001b[49m\u001b[38;5;28;43miter\u001b[39;49m\u001b[43m(\u001b[49m\u001b[43mtrain_loader\u001b[49m\u001b[43m)\u001b[49m\u001b[43m)\u001b[49m\n",
      "File \u001b[0;32m/opt/homebrew/lib/python3.9/site-packages/torch/utils/data/dataloader.py:578\u001b[0m, in \u001b[0;36m_BaseDataLoaderIter.__next__\u001b[0;34m(self)\u001b[0m\n\u001b[1;32m    575\u001b[0m \u001b[38;5;28;01mif\u001b[39;00m \u001b[38;5;28mself\u001b[39m\u001b[38;5;241m.\u001b[39m_sampler_iter \u001b[38;5;129;01mis\u001b[39;00m \u001b[38;5;28;01mNone\u001b[39;00m:\n\u001b[1;32m    576\u001b[0m     \u001b[38;5;66;03m# TODO(https://github.com/pytorch/pytorch/issues/76750)\u001b[39;00m\n\u001b[1;32m    577\u001b[0m     \u001b[38;5;28mself\u001b[39m\u001b[38;5;241m.\u001b[39m_reset()  \u001b[38;5;66;03m# type: ignore[call-arg]\u001b[39;00m\n\u001b[0;32m--> 578\u001b[0m data \u001b[38;5;241m=\u001b[39m \u001b[38;5;28;43mself\u001b[39;49m\u001b[38;5;241;43m.\u001b[39;49m\u001b[43m_next_data\u001b[49m\u001b[43m(\u001b[49m\u001b[43m)\u001b[49m\n\u001b[1;32m    579\u001b[0m \u001b[38;5;28mself\u001b[39m\u001b[38;5;241m.\u001b[39m_num_yielded \u001b[38;5;241m+\u001b[39m\u001b[38;5;241m=\u001b[39m \u001b[38;5;241m1\u001b[39m\n\u001b[1;32m    580\u001b[0m \u001b[38;5;28;01mif\u001b[39;00m \u001b[38;5;28mself\u001b[39m\u001b[38;5;241m.\u001b[39m_dataset_kind \u001b[38;5;241m==\u001b[39m _DatasetKind\u001b[38;5;241m.\u001b[39mIterable \u001b[38;5;129;01mand\u001b[39;00m \\\n\u001b[1;32m    581\u001b[0m         \u001b[38;5;28mself\u001b[39m\u001b[38;5;241m.\u001b[39m_IterableDataset_len_called \u001b[38;5;129;01mis\u001b[39;00m \u001b[38;5;129;01mnot\u001b[39;00m \u001b[38;5;28;01mNone\u001b[39;00m \u001b[38;5;129;01mand\u001b[39;00m \\\n\u001b[1;32m    582\u001b[0m         \u001b[38;5;28mself\u001b[39m\u001b[38;5;241m.\u001b[39m_num_yielded \u001b[38;5;241m>\u001b[39m \u001b[38;5;28mself\u001b[39m\u001b[38;5;241m.\u001b[39m_IterableDataset_len_called:\n",
      "File \u001b[0;32m/opt/homebrew/lib/python3.9/site-packages/torch/utils/data/dataloader.py:618\u001b[0m, in \u001b[0;36m_SingleProcessDataLoaderIter._next_data\u001b[0;34m(self)\u001b[0m\n\u001b[1;32m    616\u001b[0m \u001b[38;5;28;01mdef\u001b[39;00m \u001b[38;5;21m_next_data\u001b[39m(\u001b[38;5;28mself\u001b[39m):\n\u001b[1;32m    617\u001b[0m     index \u001b[38;5;241m=\u001b[39m \u001b[38;5;28mself\u001b[39m\u001b[38;5;241m.\u001b[39m_next_index()  \u001b[38;5;66;03m# may raise StopIteration\u001b[39;00m\n\u001b[0;32m--> 618\u001b[0m     data \u001b[38;5;241m=\u001b[39m \u001b[38;5;28;43mself\u001b[39;49m\u001b[38;5;241;43m.\u001b[39;49m\u001b[43m_dataset_fetcher\u001b[49m\u001b[38;5;241;43m.\u001b[39;49m\u001b[43mfetch\u001b[49m\u001b[43m(\u001b[49m\u001b[43mindex\u001b[49m\u001b[43m)\u001b[49m  \u001b[38;5;66;03m# may raise StopIteration\u001b[39;00m\n\u001b[1;32m    619\u001b[0m     \u001b[38;5;28;01mif\u001b[39;00m \u001b[38;5;28mself\u001b[39m\u001b[38;5;241m.\u001b[39m_pin_memory:\n\u001b[1;32m    620\u001b[0m         data \u001b[38;5;241m=\u001b[39m _utils\u001b[38;5;241m.\u001b[39mpin_memory\u001b[38;5;241m.\u001b[39mpin_memory(data, \u001b[38;5;28mself\u001b[39m\u001b[38;5;241m.\u001b[39m_pin_memory_device)\n",
      "File \u001b[0;32m/opt/homebrew/lib/python3.9/site-packages/torch/utils/data/_utils/fetch.py:52\u001b[0m, in \u001b[0;36m_MapDatasetFetcher.fetch\u001b[0;34m(self, possibly_batched_index)\u001b[0m\n\u001b[1;32m     50\u001b[0m \u001b[38;5;28;01melse\u001b[39;00m:\n\u001b[1;32m     51\u001b[0m     data \u001b[38;5;241m=\u001b[39m \u001b[38;5;28mself\u001b[39m\u001b[38;5;241m.\u001b[39mdataset[possibly_batched_index]\n\u001b[0;32m---> 52\u001b[0m \u001b[38;5;28;01mreturn\u001b[39;00m \u001b[38;5;28;43mself\u001b[39;49m\u001b[38;5;241;43m.\u001b[39;49m\u001b[43mcollate_fn\u001b[49m\u001b[43m(\u001b[49m\u001b[43mdata\u001b[49m\u001b[43m)\u001b[49m\n",
      "File \u001b[0;32m/opt/homebrew/lib/python3.9/site-packages/torch/utils/data/_utils/collate.py:175\u001b[0m, in \u001b[0;36mdefault_collate\u001b[0;34m(batch)\u001b[0m\n\u001b[1;32m    172\u001b[0m transposed \u001b[38;5;241m=\u001b[39m \u001b[38;5;28mlist\u001b[39m(\u001b[38;5;28mzip\u001b[39m(\u001b[38;5;241m*\u001b[39mbatch))  \u001b[38;5;66;03m# It may be accessed twice, so we use a list.\u001b[39;00m\n\u001b[1;32m    174\u001b[0m \u001b[38;5;28;01mif\u001b[39;00m \u001b[38;5;28misinstance\u001b[39m(elem, \u001b[38;5;28mtuple\u001b[39m):\n\u001b[0;32m--> 175\u001b[0m     \u001b[38;5;28;01mreturn\u001b[39;00m [default_collate(samples) \u001b[38;5;28;01mfor\u001b[39;00m samples \u001b[38;5;129;01min\u001b[39;00m transposed]  \u001b[38;5;66;03m# Backwards compatibility.\u001b[39;00m\n\u001b[1;32m    176\u001b[0m \u001b[38;5;28;01melse\u001b[39;00m:\n\u001b[1;32m    177\u001b[0m     \u001b[38;5;28;01mtry\u001b[39;00m:\n",
      "File \u001b[0;32m/opt/homebrew/lib/python3.9/site-packages/torch/utils/data/_utils/collate.py:175\u001b[0m, in \u001b[0;36m<listcomp>\u001b[0;34m(.0)\u001b[0m\n\u001b[1;32m    172\u001b[0m transposed \u001b[38;5;241m=\u001b[39m \u001b[38;5;28mlist\u001b[39m(\u001b[38;5;28mzip\u001b[39m(\u001b[38;5;241m*\u001b[39mbatch))  \u001b[38;5;66;03m# It may be accessed twice, so we use a list.\u001b[39;00m\n\u001b[1;32m    174\u001b[0m \u001b[38;5;28;01mif\u001b[39;00m \u001b[38;5;28misinstance\u001b[39m(elem, \u001b[38;5;28mtuple\u001b[39m):\n\u001b[0;32m--> 175\u001b[0m     \u001b[38;5;28;01mreturn\u001b[39;00m [\u001b[43mdefault_collate\u001b[49m\u001b[43m(\u001b[49m\u001b[43msamples\u001b[49m\u001b[43m)\u001b[49m \u001b[38;5;28;01mfor\u001b[39;00m samples \u001b[38;5;129;01min\u001b[39;00m transposed]  \u001b[38;5;66;03m# Backwards compatibility.\u001b[39;00m\n\u001b[1;32m    176\u001b[0m \u001b[38;5;28;01melse\u001b[39;00m:\n\u001b[1;32m    177\u001b[0m     \u001b[38;5;28;01mtry\u001b[39;00m:\n",
      "File \u001b[0;32m/opt/homebrew/lib/python3.9/site-packages/torch/utils/data/_utils/collate.py:141\u001b[0m, in \u001b[0;36mdefault_collate\u001b[0;34m(batch)\u001b[0m\n\u001b[1;32m    139\u001b[0m         storage \u001b[38;5;241m=\u001b[39m elem\u001b[38;5;241m.\u001b[39mstorage()\u001b[38;5;241m.\u001b[39m_new_shared(numel, device\u001b[38;5;241m=\u001b[39melem\u001b[38;5;241m.\u001b[39mdevice)\n\u001b[1;32m    140\u001b[0m         out \u001b[38;5;241m=\u001b[39m elem\u001b[38;5;241m.\u001b[39mnew(storage)\u001b[38;5;241m.\u001b[39mresize_(\u001b[38;5;28mlen\u001b[39m(batch), \u001b[38;5;241m*\u001b[39m\u001b[38;5;28mlist\u001b[39m(elem\u001b[38;5;241m.\u001b[39msize()))\n\u001b[0;32m--> 141\u001b[0m     \u001b[38;5;28;01mreturn\u001b[39;00m \u001b[43mtorch\u001b[49m\u001b[38;5;241;43m.\u001b[39;49m\u001b[43mstack\u001b[49m\u001b[43m(\u001b[49m\u001b[43mbatch\u001b[49m\u001b[43m,\u001b[49m\u001b[43m \u001b[49m\u001b[38;5;241;43m0\u001b[39;49m\u001b[43m,\u001b[49m\u001b[43m \u001b[49m\u001b[43mout\u001b[49m\u001b[38;5;241;43m=\u001b[39;49m\u001b[43mout\u001b[49m\u001b[43m)\u001b[49m\n\u001b[1;32m    142\u001b[0m \u001b[38;5;28;01melif\u001b[39;00m elem_type\u001b[38;5;241m.\u001b[39m\u001b[38;5;18m__module__\u001b[39m \u001b[38;5;241m==\u001b[39m \u001b[38;5;124m'\u001b[39m\u001b[38;5;124mnumpy\u001b[39m\u001b[38;5;124m'\u001b[39m \u001b[38;5;129;01mand\u001b[39;00m elem_type\u001b[38;5;241m.\u001b[39m\u001b[38;5;18m__name__\u001b[39m \u001b[38;5;241m!=\u001b[39m \u001b[38;5;124m'\u001b[39m\u001b[38;5;124mstr_\u001b[39m\u001b[38;5;124m'\u001b[39m \\\n\u001b[1;32m    143\u001b[0m         \u001b[38;5;129;01mand\u001b[39;00m elem_type\u001b[38;5;241m.\u001b[39m\u001b[38;5;18m__name__\u001b[39m \u001b[38;5;241m!=\u001b[39m \u001b[38;5;124m'\u001b[39m\u001b[38;5;124mstring_\u001b[39m\u001b[38;5;124m'\u001b[39m:\n\u001b[1;32m    144\u001b[0m     \u001b[38;5;28;01mif\u001b[39;00m elem_type\u001b[38;5;241m.\u001b[39m\u001b[38;5;18m__name__\u001b[39m \u001b[38;5;241m==\u001b[39m \u001b[38;5;124m'\u001b[39m\u001b[38;5;124mndarray\u001b[39m\u001b[38;5;124m'\u001b[39m \u001b[38;5;129;01mor\u001b[39;00m elem_type\u001b[38;5;241m.\u001b[39m\u001b[38;5;18m__name__\u001b[39m \u001b[38;5;241m==\u001b[39m \u001b[38;5;124m'\u001b[39m\u001b[38;5;124mmemmap\u001b[39m\u001b[38;5;124m'\u001b[39m:\n\u001b[1;32m    145\u001b[0m         \u001b[38;5;66;03m# array of string classes and object\u001b[39;00m\n",
      "\u001b[0;31mRuntimeError\u001b[0m: stack expects each tensor to be equal size, but got [58, 2] at entry 0 and [25, 2] at entry 1"
     ]
    }
   ],
   "source": [
    "from torch.utils.data import DataLoader\n",
    "\n",
    "'''\n",
    "This cell will make error, because the length of each sample is different to each other\n",
    "'''\n",
    "\n",
    "train_loader = DataLoader(train_set, batch_size=8)\n",
    "batch = next(iter(train_loader))"
   ]
  },
  {
   "cell_type": "code",
   "execution_count": 40,
   "id": "58708cbf",
   "metadata": {},
   "outputs": [],
   "source": [
    "'''\n",
    "To handle that problem, you have to make your collate function \n",
    "'''\n",
    "def your_collate_function(raw_batch):\n",
    "  '''\n",
    "  You can make your own function to handle the batch\n",
    "  '''\n",
    "  ret_batch = raw_batch[:-1]\n",
    "  ret_batch.append(raw_batch[0])\n",
    "#   return raw_batch[0] # This returns the first melody of each batch. So it will avoid the error, but it doesn't do proper batchifying\n",
    "  return ret_batch\n",
    "\n",
    "batch_size = 8\n",
    "raw_batch = [train_set[i] for i in range(batch_size)] # This is the input for the collate function\n",
    "batch = your_collate_function(raw_batch)\n",
    "\n",
    "'''\n",
    "This is what the 'collate_fn' does in DataLoader\n",
    "'''\n",
    "\n",
    "train_loader = DataLoader(train_set, batch_size=batch_size, collate_fn=your_collate_function)\n",
    "batch_by_loader = next(iter(train_loader))"
   ]
  },
  {
   "cell_type": "markdown",
   "id": "86b0a209",
   "metadata": {},
   "source": [
    "#### Pad Sequence and Pack Sequence\n",
    "In PyTorch, there are two ways to batchify a group of sequence with different length.\n",
    "- `torch.nn.utils.rnn.pad_sequence`\n",
    "    - This function takes list of tensors with different length and return padded sequence\n",
    "    - Padding is adding some constant number as a PAD token to match the length of short sequence to the maximum length\n",
    "        - e.g. If there are sequence of length (3,7,4), we can add 4 zeros to sequence with length 3, 3 zeros to sequence with length 4 to make them length 7\n",
    "    - In default, we use 0 for padding (zero padding)\n",
    "    - The result \n",
    "- `torch.nn.utils.rnn.pack_sequence`\n",
    "    - pad_sequence "
   ]
  },
  {
   "cell_type": "markdown",
   "id": "f5f2a21e",
   "metadata": {},
   "source": [
    "Below cells show the example of pad sequence"
   ]
  },
  {
   "cell_type": "code",
   "execution_count": 41,
   "id": "24424475",
   "metadata": {},
   "outputs": [
    {
     "data": {
      "text/plain": [
       "tensor([[ 0.,  3.,  2.],\n",
       "        [ 1.,  6.,  3.],\n",
       "        [ 2.,  8.,  4.],\n",
       "        [ 0., 12.,  3.],\n",
       "        [ 0.,  1.,  0.],\n",
       "        [ 0.,  2.,  0.],\n",
       "        [ 0.,  3.,  0.]])"
      ]
     },
     "execution_count": 41,
     "metadata": {},
     "output_type": "execute_result"
    }
   ],
   "source": [
    "from torch.nn.utils.rnn import pad_sequence, pack_sequence, PackedSequence\n",
    "short = torch.Tensor([0, 1, 2])\n",
    "long = torch.Tensor([3, 6, 8, 12, 1, 2, 3])\n",
    "middle = torch.Tensor([2, 3, 4, 3, 0])\n",
    "\n",
    "pad_sequence([short, long, middle], batch_first=False)  # T x N "
   ]
  },
  {
   "cell_type": "code",
   "execution_count": 42,
   "id": "99aec137",
   "metadata": {
    "scrolled": false
   },
   "outputs": [
    {
     "data": {
      "text/plain": [
       "tensor([[ 0.,  1.,  2.,  0.,  0.,  0.,  0.],\n",
       "        [ 3.,  6.,  8., 12.,  1.,  2.,  3.],\n",
       "        [ 2.,  3.,  4.,  3.,  0.,  0.,  0.]])"
      ]
     },
     "execution_count": 42,
     "metadata": {},
     "output_type": "execute_result"
    }
   ],
   "source": [
    "# Default value of batch_first in pad_sequence is False.\n",
    "# So you have to always be careful not to miss batch_first=True in pad_sequence, if you use batch_first=True for your RNN layer.\n",
    "pad_sequence([short, long, middle], batch_first=True)  # N x T "
   ]
  },
  {
   "cell_type": "markdown",
   "id": "f4b420b0",
   "metadata": {},
   "source": [
    "1) However, the problem is that you can't figure out whether the 0 at the end of each sequence is a padded one, or was included in the original sequence\n",
    "- e.g. `[2, 3, 4, 3, 0]` becomes `[ 2,  3,  4,  5,  0,  0,  0]`. Now we don't know how many zeros were added for padding\n",
    "\n",
    "2) Also, if you run RNN for this padded sequence, RNN will calculate for the padded part also.\n",
    "- RNN doesn't know whether it is padded data, or existing data\n",
    "- This makes computation slower\n",
    "\n",
    "3) If you want to use bi-directional, which also reads the sequence from backward, paddings can make the result different.\n",
    "\n",
    "To solve this issue, we use PackedSequence, by using `pack_sequence`"
   ]
  },
  {
   "cell_type": "code",
   "execution_count": 43,
   "id": "f553adab",
   "metadata": {
    "scrolled": true
   },
   "outputs": [
    {
     "data": {
      "text/plain": [
       "PackedSequence(data=tensor([ 3.,  2.,  0.,  6.,  3.,  1.,  8.,  4.,  2., 12.,  3.,  1.,  0.,  2.,\n",
       "         3.]), batch_sizes=tensor([3, 3, 3, 2, 2, 1, 1]), sorted_indices=tensor([1, 2, 0]), unsorted_indices=tensor([2, 0, 1]))"
      ]
     },
     "execution_count": 43,
     "metadata": {},
     "output_type": "execute_result"
    }
   ],
   "source": [
    "packed_sequence = pack_sequence([short, long, middle], enforce_sorted=False)\n",
    "packed_sequence"
   ]
  },
  {
   "cell_type": "markdown",
   "id": "d4c04cfe",
   "metadata": {},
   "source": [
    "`PackedSequence` has `data` and `batch_sizes`\n",
    "- `data` contains the flattened value of given batch\n",
    "    - To optimize the computation, the sequences have to be sorted by descending of length\n",
    "- `batch_sizes` represents how many valid batch sample exists for each time step\n",
    "    - `[3, 3, 3, 2, 2, 1, 1]` means that there are 3 sequences for first three time steps, and then 2 sequences for next two steps, and then only 1 sequence for next two steps.\n",
    "- `sorted_indices` shows how the sorted sequences can be converted to original order.\n",
    "    - `[1,2,0]` means that \n",
    "        - the 0th sequence in the sorted sequences (the longest one) was indexed as 1 in the original input batch\n",
    "        - the 1st sequence in the sorted sequences (`middle`) was indexed as 2 in the original input batch\n",
    "        - the 2nd sequence in the sorted sequences (`short`) was index as 0 in the original input batch\n",
    "- `unsorted_indices` shows how the original sequences are sorted.\n",
    "    - `[2,0,1]` means that\n",
    "        - the 0th sequence in the original input was sorted as 2nd in the sorted sequences\n",
    "        \n",
    "       \n",
    "        "
   ]
  },
  {
   "cell_type": "markdown",
   "id": "cdc405b5",
   "metadata": {},
   "source": [
    "If you feed PackedSequence to RNN (or LSTM, GRU), it will return PackedSequence with same "
   ]
  },
  {
   "cell_type": "code",
   "execution_count": 44,
   "id": "a65589f3",
   "metadata": {},
   "outputs": [
    {
     "name": "stdout",
     "output_type": "stream",
     "text": [
      "Type of output of RNN for PackedSequence: <class 'torch.nn.utils.rnn.PackedSequence'>\n",
      "Type of last_hidden of RNN for PackedSequence: <class 'torch.Tensor'>\n"
     ]
    }
   ],
   "source": [
    "rnn_layer = nn.GRU(1, 1)\n",
    "packed_sequence = pack_sequence([short.unsqueeze(1), long.unsqueeze(1), middle.unsqueeze(1)], enforce_sorted=False)\n",
    "out, last_hidden = rnn_layer(packed_sequence)\n",
    "\n",
    "print(f\"Type of output of RNN for PackedSequence: {type(out)}\")\n",
    "print(f\"Type of last_hidden of RNN for PackedSequence: {type(last_hidden)}\")"
   ]
  },
  {
   "cell_type": "markdown",
   "id": "89df707e",
   "metadata": {},
   "source": [
    "- RNN or its family of PyTorch can automatically handle `PackedSequence`\n",
    "- However, other layers like `nn.Embedding` or `nn.Linear` cannot take `PackedSequence` as its input\n",
    "- There are two ways to feed `PackedSequence` to these layers\n",
    "    - First, convert PackedSequence to ordinary torch.Tensor by `torch.nn.utils.rnn.pad_packed_sequence`\n",
    "        - This will convert PackedSequence to a tensor of sequneces with same length but different padding\n",
    "    - The other way is to feed only PackedSequence.data, and then declaring new PackedSequence with the output as `data`"
   ]
  },
  {
   "cell_type": "code",
   "execution_count": 45,
   "id": "3e983f58",
   "metadata": {},
   "outputs": [
    {
     "ename": "TypeError",
     "evalue": "linear(): argument 'input' (position 1) must be Tensor, not PackedSequence",
     "output_type": "error",
     "traceback": [
      "\u001b[0;31m---------------------------------------------------------------------------\u001b[0m",
      "\u001b[0;31mTypeError\u001b[0m                                 Traceback (most recent call last)",
      "Input \u001b[0;32mIn [45]\u001b[0m, in \u001b[0;36m<module>\u001b[0;34m\u001b[0m\n\u001b[1;32m      1\u001b[0m \u001b[38;5;124;03m'''\u001b[39;00m\n\u001b[1;32m      2\u001b[0m \u001b[38;5;124;03mThis will make error, because other layers cannot handle PackedSequence\u001b[39;00m\n\u001b[1;32m      3\u001b[0m \u001b[38;5;124;03m'''\u001b[39;00m\n\u001b[1;32m      4\u001b[0m test_linear_layer \u001b[38;5;241m=\u001b[39m nn\u001b[38;5;241m.\u001b[39mLinear(in_features\u001b[38;5;241m=\u001b[39m\u001b[38;5;241m1\u001b[39m, out_features\u001b[38;5;241m=\u001b[39m\u001b[38;5;241m2\u001b[39m)\n\u001b[0;32m----> 5\u001b[0m \u001b[43mtest_linear_layer\u001b[49m\u001b[43m(\u001b[49m\u001b[43mpacked_sequence\u001b[49m\u001b[43m)\u001b[49m\n",
      "File \u001b[0;32m/opt/homebrew/lib/python3.9/site-packages/torch/nn/modules/module.py:1130\u001b[0m, in \u001b[0;36mModule._call_impl\u001b[0;34m(self, *input, **kwargs)\u001b[0m\n\u001b[1;32m   1126\u001b[0m \u001b[38;5;66;03m# If we don't have any hooks, we want to skip the rest of the logic in\u001b[39;00m\n\u001b[1;32m   1127\u001b[0m \u001b[38;5;66;03m# this function, and just call forward.\u001b[39;00m\n\u001b[1;32m   1128\u001b[0m \u001b[38;5;28;01mif\u001b[39;00m \u001b[38;5;129;01mnot\u001b[39;00m (\u001b[38;5;28mself\u001b[39m\u001b[38;5;241m.\u001b[39m_backward_hooks \u001b[38;5;129;01mor\u001b[39;00m \u001b[38;5;28mself\u001b[39m\u001b[38;5;241m.\u001b[39m_forward_hooks \u001b[38;5;129;01mor\u001b[39;00m \u001b[38;5;28mself\u001b[39m\u001b[38;5;241m.\u001b[39m_forward_pre_hooks \u001b[38;5;129;01mor\u001b[39;00m _global_backward_hooks\n\u001b[1;32m   1129\u001b[0m         \u001b[38;5;129;01mor\u001b[39;00m _global_forward_hooks \u001b[38;5;129;01mor\u001b[39;00m _global_forward_pre_hooks):\n\u001b[0;32m-> 1130\u001b[0m     \u001b[38;5;28;01mreturn\u001b[39;00m \u001b[43mforward_call\u001b[49m\u001b[43m(\u001b[49m\u001b[38;5;241;43m*\u001b[39;49m\u001b[38;5;28;43minput\u001b[39;49m\u001b[43m,\u001b[49m\u001b[43m \u001b[49m\u001b[38;5;241;43m*\u001b[39;49m\u001b[38;5;241;43m*\u001b[39;49m\u001b[43mkwargs\u001b[49m\u001b[43m)\u001b[49m\n\u001b[1;32m   1131\u001b[0m \u001b[38;5;66;03m# Do not call functions when jit is used\u001b[39;00m\n\u001b[1;32m   1132\u001b[0m full_backward_hooks, non_full_backward_hooks \u001b[38;5;241m=\u001b[39m [], []\n",
      "File \u001b[0;32m/opt/homebrew/lib/python3.9/site-packages/torch/nn/modules/linear.py:114\u001b[0m, in \u001b[0;36mLinear.forward\u001b[0;34m(self, input)\u001b[0m\n\u001b[1;32m    113\u001b[0m \u001b[38;5;28;01mdef\u001b[39;00m \u001b[38;5;21mforward\u001b[39m(\u001b[38;5;28mself\u001b[39m, \u001b[38;5;28minput\u001b[39m: Tensor) \u001b[38;5;241m-\u001b[39m\u001b[38;5;241m>\u001b[39m Tensor:\n\u001b[0;32m--> 114\u001b[0m     \u001b[38;5;28;01mreturn\u001b[39;00m \u001b[43mF\u001b[49m\u001b[38;5;241;43m.\u001b[39;49m\u001b[43mlinear\u001b[49m\u001b[43m(\u001b[49m\u001b[38;5;28;43minput\u001b[39;49m\u001b[43m,\u001b[49m\u001b[43m \u001b[49m\u001b[38;5;28;43mself\u001b[39;49m\u001b[38;5;241;43m.\u001b[39;49m\u001b[43mweight\u001b[49m\u001b[43m,\u001b[49m\u001b[43m \u001b[49m\u001b[38;5;28;43mself\u001b[39;49m\u001b[38;5;241;43m.\u001b[39;49m\u001b[43mbias\u001b[49m\u001b[43m)\u001b[49m\n",
      "\u001b[0;31mTypeError\u001b[0m: linear(): argument 'input' (position 1) must be Tensor, not PackedSequence"
     ]
    }
   ],
   "source": [
    "'''\n",
    "This will make error, because other layers cannot handle PackedSequence\n",
    "'''\n",
    "test_linear_layer = nn.Linear(in_features=1, out_features=2)\n",
    "test_linear_layer(packed_sequence)\n"
   ]
  },
  {
   "cell_type": "code",
   "execution_count": 46,
   "id": "1754e2dd",
   "metadata": {},
   "outputs": [
    {
     "name": "stdout",
     "output_type": "stream",
     "text": [
      "The padded sequence generated from packed sequence (squeezed for printing): \n",
      " tensor([[ 0.,  3.,  2.],\n",
      "        [ 1.,  6.,  3.],\n",
      "        [ 2.,  8.,  4.],\n",
      "        [ 0., 12.,  3.],\n",
      "        [ 0.,  1.,  0.],\n",
      "        [ 0.,  2.,  0.],\n",
      "        [ 0.,  3.,  0.]])\n",
      "\"pad_packed_sequence\" also returns \"batch_lengths\", to clarify the original length before the padding: \n",
      " tensor([3, 7, 5])\n"
     ]
    }
   ],
   "source": [
    "'''\n",
    "One way to to this is using torch.nn.utils.rnn.pad_packed_sequence to convert PackedSequence to ordinary tensor\n",
    "'''\n",
    "\n",
    "from torch.nn.utils.rnn import pad_packed_sequence\n",
    "padded_sequence, batch_lengths = pad_packed_sequence(packed_sequence)\n",
    "print(f'The padded sequence generated from packed sequence (squeezed for printing): \\n {padded_sequence.squeeze()}')\n",
    "print(f'\"pad_packed_sequence\" also returns \"batch_lengths\", to clarify the original length before the padding: \\n {batch_lengths}')\n",
    "\n"
   ]
  },
  {
   "cell_type": "code",
   "execution_count": 47,
   "id": "7871b5da",
   "metadata": {
    "scrolled": true
   },
   "outputs": [
    {
     "name": "stdout",
     "output_type": "stream",
     "text": [
      "Output of feeding padded_sequence to a linear layer: tensor([[[ 0.3958, -0.1259],\n",
      "         [ 0.8953,  1.1519],\n",
      "         [ 0.7288,  0.7260]],\n",
      "\n",
      "        [[ 0.5623,  0.3001],\n",
      "         [ 1.3948,  2.4297],\n",
      "         [ 0.8953,  1.1519]],\n",
      "\n",
      "        [[ 0.7288,  0.7260],\n",
      "         [ 1.7278,  3.2816],\n",
      "         [ 1.0618,  1.5778]],\n",
      "\n",
      "        [[ 0.3958, -0.1259],\n",
      "         [ 2.3938,  4.9853],\n",
      "         [ 0.8953,  1.1519]],\n",
      "\n",
      "        [[ 0.3958, -0.1259],\n",
      "         [ 0.5623,  0.3001],\n",
      "         [ 0.3958, -0.1259]],\n",
      "\n",
      "        [[ 0.3958, -0.1259],\n",
      "         [ 0.7288,  0.7260],\n",
      "         [ 0.3958, -0.1259]],\n",
      "\n",
      "        [[ 0.3958, -0.1259],\n",
      "         [ 0.8953,  1.1519],\n",
      "         [ 0.3958, -0.1259]]], grad_fn=<ViewBackward0>)\n",
      "Caution that it returns non-zero values for timestep with zero padding, because linear layer has a bias\n"
     ]
    }
   ],
   "source": [
    "'''\n",
    "Now you can feed padded sequence to linear layer.\n",
    "'''\n",
    "\n",
    "linear_output = test_linear_layer(padded_sequence)\n",
    "print(f\"Output of feeding padded_sequence to a linear layer: {linear_output}\")\n",
    "print(\"Caution that it returns non-zero values for timestep with zero padding, because linear layer has a bias\")"
   ]
  },
  {
   "cell_type": "code",
   "execution_count": 48,
   "id": "71d104d5",
   "metadata": {
    "scrolled": true
   },
   "outputs": [
    {
     "data": {
      "text/plain": [
       "PackedSequence(data=tensor([[ 0.8953,  1.1519],\n",
       "        [ 0.7288,  0.7260],\n",
       "        [ 0.3958, -0.1259],\n",
       "        [ 1.3948,  2.4297],\n",
       "        [ 0.8953,  1.1519],\n",
       "        [ 0.5623,  0.3001],\n",
       "        [ 1.7278,  3.2816],\n",
       "        [ 1.0618,  1.5778],\n",
       "        [ 0.7288,  0.7260],\n",
       "        [ 2.3938,  4.9853],\n",
       "        [ 0.8953,  1.1519],\n",
       "        [ 0.5623,  0.3001],\n",
       "        [ 0.3958, -0.1259],\n",
       "        [ 0.7288,  0.7260],\n",
       "        [ 0.8953,  1.1519]], grad_fn=<PackPaddedSequenceBackward0>), batch_sizes=tensor([3, 3, 3, 2, 2, 1, 1]), sorted_indices=tensor([1, 2, 0]), unsorted_indices=tensor([2, 0, 1]))"
      ]
     },
     "execution_count": 48,
     "metadata": {},
     "output_type": "execute_result"
    }
   ],
   "source": [
    "'''\n",
    "You can make the output as a PackedSequence, by using torch.nn.utils.rnn.pack_padded_sequence\n",
    "'''\n",
    "from torch.nn.utils.rnn import pack_padded_sequence\n",
    "re_packed_sequence = pack_padded_sequence(linear_output, batch_lengths, enforce_sorted=False)\n",
    "re_packed_sequence"
   ]
  },
  {
   "cell_type": "code",
   "execution_count": 49,
   "id": "a869f708",
   "metadata": {},
   "outputs": [
    {
     "data": {
      "text/plain": [
       "PackedSequence(data=tensor([[ 0.8953,  1.1519],\n",
       "        [ 0.7288,  0.7260],\n",
       "        [ 0.3958, -0.1259],\n",
       "        [ 1.3948,  2.4297],\n",
       "        [ 0.8953,  1.1519],\n",
       "        [ 0.5623,  0.3001],\n",
       "        [ 1.7278,  3.2816],\n",
       "        [ 1.0618,  1.5778],\n",
       "        [ 0.7288,  0.7260],\n",
       "        [ 2.3938,  4.9853],\n",
       "        [ 0.8953,  1.1519],\n",
       "        [ 0.5623,  0.3001],\n",
       "        [ 0.3958, -0.1259],\n",
       "        [ 0.7288,  0.7260],\n",
       "        [ 0.8953,  1.1519]], grad_fn=<AddmmBackward0>), batch_sizes=tensor([3, 3, 3, 2, 2, 1, 1]), sorted_indices=tensor([1, 2, 0]), unsorted_indices=tensor([2, 0, 1]))"
      ]
     },
     "execution_count": 49,
     "metadata": {},
     "output_type": "execute_result"
    }
   ],
   "source": [
    "'''\n",
    "Another way to do it is using PackedSequence.data\n",
    "'''\n",
    "\n",
    "linear_out_pack = test_linear_layer(packed_sequence.data)\n",
    "packed_sequence_after_linear = PackedSequence(linear_out_pack, packed_sequence.batch_sizes, packed_sequence.sorted_indices, packed_sequence.unsorted_indices)\n",
    "packed_sequence_after_linear"
   ]
  },
  {
   "cell_type": "markdown",
   "id": "aef97f8e",
   "metadata": {},
   "source": [
    "## Problem 4: Implement pack_collate(), (20 pts)\n",
    "- Implement a collate function that returns PackedSequence"
   ]
  },
  {
   "cell_type": "code",
   "execution_count": 50,
   "id": "518ed3d1",
   "metadata": {},
   "outputs": [
    {
     "name": "stdout",
     "output_type": "stream",
     "text": [
      "torch.Size([341, 2]) torch.Size([341, 2])\n"
     ]
    },
    {
     "data": {
      "text/plain": [
       "(PackedSequence(data=tensor([[38, 44],\n",
       "         [38, 44],\n",
       "         [38, 44],\n",
       "         [38, 44],\n",
       "         [38, 44],\n",
       "         [38, 44],\n",
       "         [38, 44],\n",
       "         [38, 44],\n",
       "         [19, 10],\n",
       "         [24, 16],\n",
       "         [27, 14],\n",
       "         [24, 10],\n",
       "         [34, 10],\n",
       "         [24, 10],\n",
       "         [26, 16],\n",
       "         [28, 16],\n",
       "         [17,  5],\n",
       "         [24, 16],\n",
       "         [24,  5],\n",
       "         [24, 10],\n",
       "         [31, 10],\n",
       "         [26, 22],\n",
       "         [21, 16],\n",
       "         [16, 16],\n",
       "         [16,  5],\n",
       "         [29, 10],\n",
       "         [22, 10],\n",
       "         [26, 10],\n",
       "         [29, 16],\n",
       "         [31, 10],\n",
       "         [26, 10],\n",
       "         [21, 10],\n",
       "         [14, 10],\n",
       "         [24, 16],\n",
       "         [20, 10],\n",
       "         [29, 10],\n",
       "         [34, 10],\n",
       "         [26, 10],\n",
       "         [26, 10],\n",
       "         [19,  5],\n",
       "         [14,  5],\n",
       "         [22, 10],\n",
       "         [22, 10],\n",
       "         [24, 26],\n",
       "         [24, 22],\n",
       "         [28,  5],\n",
       "         [21, 16],\n",
       "         [21,  5],\n",
       "         [14,  5],\n",
       "         [19, 10],\n",
       "         [15, 10],\n",
       "         [29, 10],\n",
       "         [29, 16],\n",
       "         [26,  5],\n",
       "         [26, 10],\n",
       "         [23, 16],\n",
       "         [19, 10],\n",
       "         [24, 10],\n",
       "         [17, 16],\n",
       "         [26,  5],\n",
       "         [24, 10],\n",
       "         [24, 10],\n",
       "         [21, 10],\n",
       "         [28, 16],\n",
       "         [21,  5],\n",
       "         [15, 10],\n",
       "         [27, 14],\n",
       "         [24,  5],\n",
       "         [29, 10],\n",
       "         [21, 10],\n",
       "         [26, 16],\n",
       "         [26, 10],\n",
       "         [28,  5],\n",
       "         [17, 10],\n",
       "         [24,  5],\n",
       "         [21, 10],\n",
       "         [34,  5],\n",
       "         [24, 10],\n",
       "         [19, 10],\n",
       "         [28, 10],\n",
       "         [26, 33],\n",
       "         [19, 26],\n",
       "         [22, 10],\n",
       "         [19, 10],\n",
       "         [31,  5],\n",
       "         [21, 10],\n",
       "         [16, 10],\n",
       "         [23, 26],\n",
       "         [24, 14],\n",
       "         [24, 16],\n",
       "         [20,  5],\n",
       "         [17, 26],\n",
       "         [29, 22],\n",
       "         [19, 10],\n",
       "         [14, 16],\n",
       "         [28, 16],\n",
       "         [21,  5],\n",
       "         [24, 16],\n",
       "         [20,  5],\n",
       "         [24, 10],\n",
       "         [29, 10],\n",
       "         [14, 26],\n",
       "         [26, 10],\n",
       "         [16, 16],\n",
       "         [24, 10],\n",
       "         [29, 10],\n",
       "         [22, 10],\n",
       "         [14, 10],\n",
       "         [24, 16],\n",
       "         [24, 10],\n",
       "         [26, 10],\n",
       "         [21, 10],\n",
       "         [21,  5],\n",
       "         [24, 16],\n",
       "         [15, 10],\n",
       "         [17, 16],\n",
       "         [34, 10],\n",
       "         [24, 16],\n",
       "         [31, 10],\n",
       "         [19,  5],\n",
       "         [19,  5],\n",
       "         [22, 10],\n",
       "         [17, 16],\n",
       "         [17, 10],\n",
       "         [24, 10],\n",
       "         [26, 10],\n",
       "         [31, 10],\n",
       "         [21,  5],\n",
       "         [17, 10],\n",
       "         [19, 10],\n",
       "         [27, 14],\n",
       "         [29, 10],\n",
       "         [29, 16],\n",
       "         [28, 10],\n",
       "         [26, 10],\n",
       "         [23, 16],\n",
       "         [14, 22],\n",
       "         [24, 10],\n",
       "         [29,  5],\n",
       "         [26, 10],\n",
       "         [31, 10],\n",
       "         [26,  5],\n",
       "         [19, 10],\n",
       "         [26, 10],\n",
       "         [19,  5],\n",
       "         [15, 10],\n",
       "         [27, 10],\n",
       "         [24, 10],\n",
       "         [34, 14],\n",
       "         [24,  5],\n",
       "         [21, 10],\n",
       "         [23,  5],\n",
       "         [21,  5],\n",
       "         [17, 10],\n",
       "         [29, 10],\n",
       "         [24, 10],\n",
       "         [24,  5],\n",
       "         [21, 10],\n",
       "         [23, 10],\n",
       "         [21,  5],\n",
       "         [17, 16],\n",
       "         [19, 26],\n",
       "         [27, 10],\n",
       "         [17,  5],\n",
       "         [29,  5],\n",
       "         [19, 10],\n",
       "         [21, 10],\n",
       "         [19,  5],\n",
       "         [19, 10],\n",
       "         [29, 10],\n",
       "         [24, 10],\n",
       "         [19,  5],\n",
       "         [24,  5],\n",
       "         [24, 10],\n",
       "         [16, 10],\n",
       "         [23,  5],\n",
       "         [21, 16],\n",
       "         [26, 10],\n",
       "         [22, 16],\n",
       "         [24, 10],\n",
       "         [34,  5],\n",
       "         [21, 10],\n",
       "         [19, 10],\n",
       "         [21,  5],\n",
       "         [26, 10],\n",
       "         [29, 14],\n",
       "         [20, 10],\n",
       "         [21,  5],\n",
       "         [31,  5],\n",
       "         [21, 10],\n",
       "         [16, 10],\n",
       "         [19,  5],\n",
       "         [24, 10],\n",
       "         [26,  5],\n",
       "         [20, 16],\n",
       "         [19,  5],\n",
       "         [29,  5],\n",
       "         [19, 10],\n",
       "         [14, 26],\n",
       "         [16, 26],\n",
       "         [21, 10],\n",
       "         [24, 10],\n",
       "         [17, 10],\n",
       "         [17, 26],\n",
       "         [31,  5],\n",
       "         [14, 26],\n",
       "         [17, 10],\n",
       "         [29, 10],\n",
       "         [15, 10],\n",
       "         [17, 14],\n",
       "         [29, 22],\n",
       "         [19,  5],\n",
       "         [26, 10],\n",
       "         [12, 10],\n",
       "         [19,  5],\n",
       "         [21,  5],\n",
       "         [29, 10],\n",
       "         [10, 16],\n",
       "         [21, 10],\n",
       "         [17, 10],\n",
       "         [24, 16],\n",
       "         [27, 10],\n",
       "         [21, 10],\n",
       "         [14, 26],\n",
       "         [22, 10],\n",
       "         [27,  5],\n",
       "         [19, 10],\n",
       "         [26, 10],\n",
       "         [19, 10],\n",
       "         [24,  5],\n",
       "         [24, 10],\n",
       "         [26, 10],\n",
       "         [24, 26],\n",
       "         [22, 10],\n",
       "         [21,  5],\n",
       "         [31, 10],\n",
       "         [19, 10],\n",
       "         [27, 10],\n",
       "         [19,  5],\n",
       "         [26,  5],\n",
       "         [19,  5],\n",
       "         [22, 16],\n",
       "         [17, 10],\n",
       "         [24,  5],\n",
       "         [19,  5],\n",
       "         [20, 10],\n",
       "         [19, 10],\n",
       "         [21,  5],\n",
       "         [19, 10],\n",
       "         [17, 10],\n",
       "         [19, 10],\n",
       "         [24,  5],\n",
       "         [24, 10],\n",
       "         [15, 10],\n",
       "         [19, 10],\n",
       "         [21,  5],\n",
       "         [19, 10],\n",
       "         [17, 10],\n",
       "         [14, 10],\n",
       "         [19,  5],\n",
       "         [17, 10],\n",
       "         [15, 10],\n",
       "         [17, 14],\n",
       "         [17, 10],\n",
       "         [15, 10],\n",
       "         [12, 10],\n",
       "         [14,  5],\n",
       "         [14, 10],\n",
       "         [14, 10],\n",
       "         [10, 26],\n",
       "         [12, 16],\n",
       "         [26, 10],\n",
       "         [12, 26],\n",
       "         [26, 10],\n",
       "         [17, 10],\n",
       "         [31, 10],\n",
       "         [15, 16],\n",
       "         [26,  5],\n",
       "         [17, 10],\n",
       "         [24,  5],\n",
       "         [19, 26],\n",
       "         [21, 26],\n",
       "         [24, 26],\n",
       "         [26, 10],\n",
       "         [19, 16],\n",
       "         [26, 10],\n",
       "         [21, 10],\n",
       "         [31, 10],\n",
       "         [19, 10],\n",
       "         [26,  5],\n",
       "         [17, 22],\n",
       "         [24,  5],\n",
       "         [21, 10],\n",
       "         [21,  5],\n",
       "         [19, 10],\n",
       "         [24,  5],\n",
       "         [17, 10],\n",
       "         [21,  5],\n",
       "         [15, 10],\n",
       "         [19,  5],\n",
       "         [14, 10],\n",
       "         [17, 10],\n",
       "         [12, 26],\n",
       "         [14, 10],\n",
       "         [19, 10],\n",
       "         [19, 10],\n",
       "         [24, 10],\n",
       "         [21,  5],\n",
       "         [19,  5],\n",
       "         [17,  5],\n",
       "         [14, 25],\n",
       "         [19, 10],\n",
       "         [17,  5],\n",
       "         [16,  5],\n",
       "         [14, 10],\n",
       "         [14,  5],\n",
       "         [14,  5],\n",
       "         [19, 10],\n",
       "         [21,  5],\n",
       "         [28,  5],\n",
       "         [26, 33],\n",
       "         [24, 14],\n",
       "         [21,  5],\n",
       "         [24, 10],\n",
       "         [21,  5],\n",
       "         [19,  5],\n",
       "         [17, 10],\n",
       "         [14, 22],\n",
       "         [19,  5],\n",
       "         [21,  5],\n",
       "         [17, 16],\n",
       "         [19, 10],\n",
       "         [21, 16],\n",
       "         [26, 10],\n",
       "         [24, 10],\n",
       "         [21, 10],\n",
       "         [17, 10],\n",
       "         [19,  5],\n",
       "         [21,  5],\n",
       "         [17, 10],\n",
       "         [14, 26]]), batch_sizes=tensor([8, 8, 8, 8, 8, 8, 8, 8, 8, 8, 8, 8, 8, 8, 8, 8, 8, 8, 8, 8, 8, 8, 8, 8,\n",
       "         8, 6, 5, 4, 4, 4, 4, 4, 4, 4, 4, 4, 4, 4, 4, 4, 4, 4, 2, 2, 2, 2, 2, 2,\n",
       "         2, 2, 2, 2, 2, 2, 2, 2, 2, 2, 1, 1, 1, 1, 1, 1, 1, 1, 1, 1, 1, 1, 1, 1,\n",
       "         1, 1, 1, 1, 1, 1, 1, 1, 1, 1, 1, 1, 1, 1, 1, 1, 1, 1, 1, 1, 1, 1, 1, 1]), sorted_indices=None, unsorted_indices=None),\n",
       " PackedSequence(data=tensor([[19, 10],\n",
       "         [24, 16],\n",
       "         [27, 14],\n",
       "         [24, 10],\n",
       "         [34, 10],\n",
       "         [24, 10],\n",
       "         [26, 16],\n",
       "         [28, 16],\n",
       "         [17,  5],\n",
       "         [24, 16],\n",
       "         [24,  5],\n",
       "         [24, 10],\n",
       "         [31, 10],\n",
       "         [26, 22],\n",
       "         [21, 16],\n",
       "         [16, 16],\n",
       "         [16,  5],\n",
       "         [29, 10],\n",
       "         [22, 10],\n",
       "         [26, 10],\n",
       "         [29, 16],\n",
       "         [31, 10],\n",
       "         [26, 10],\n",
       "         [21, 10],\n",
       "         [14, 10],\n",
       "         [24, 16],\n",
       "         [20, 10],\n",
       "         [29, 10],\n",
       "         [34, 10],\n",
       "         [26, 10],\n",
       "         [26, 10],\n",
       "         [19,  5],\n",
       "         [14,  5],\n",
       "         [22, 10],\n",
       "         [22, 10],\n",
       "         [24, 26],\n",
       "         [24, 22],\n",
       "         [28,  5],\n",
       "         [21, 16],\n",
       "         [21,  5],\n",
       "         [14,  5],\n",
       "         [19, 10],\n",
       "         [15, 10],\n",
       "         [29, 10],\n",
       "         [29, 16],\n",
       "         [26,  5],\n",
       "         [26, 10],\n",
       "         [23, 16],\n",
       "         [19, 10],\n",
       "         [24, 10],\n",
       "         [17, 16],\n",
       "         [26,  5],\n",
       "         [24, 10],\n",
       "         [24, 10],\n",
       "         [21, 10],\n",
       "         [28, 16],\n",
       "         [21,  5],\n",
       "         [15, 10],\n",
       "         [27, 14],\n",
       "         [24,  5],\n",
       "         [29, 10],\n",
       "         [21, 10],\n",
       "         [26, 16],\n",
       "         [26, 10],\n",
       "         [28,  5],\n",
       "         [17, 10],\n",
       "         [24,  5],\n",
       "         [21, 10],\n",
       "         [34,  5],\n",
       "         [24, 10],\n",
       "         [19, 10],\n",
       "         [28, 10],\n",
       "         [26, 33],\n",
       "         [19, 26],\n",
       "         [22, 10],\n",
       "         [19, 10],\n",
       "         [31,  5],\n",
       "         [21, 10],\n",
       "         [16, 10],\n",
       "         [23, 26],\n",
       "         [24, 14],\n",
       "         [24, 16],\n",
       "         [20,  5],\n",
       "         [17, 26],\n",
       "         [29, 22],\n",
       "         [19, 10],\n",
       "         [14, 16],\n",
       "         [28, 16],\n",
       "         [21,  5],\n",
       "         [24, 16],\n",
       "         [20,  5],\n",
       "         [24, 10],\n",
       "         [29, 10],\n",
       "         [14, 26],\n",
       "         [26, 10],\n",
       "         [16, 16],\n",
       "         [24, 10],\n",
       "         [29, 10],\n",
       "         [22, 10],\n",
       "         [14, 10],\n",
       "         [24, 16],\n",
       "         [24, 10],\n",
       "         [26, 10],\n",
       "         [21, 10],\n",
       "         [21,  5],\n",
       "         [24, 16],\n",
       "         [15, 10],\n",
       "         [17, 16],\n",
       "         [34, 10],\n",
       "         [24, 16],\n",
       "         [31, 10],\n",
       "         [19,  5],\n",
       "         [19,  5],\n",
       "         [22, 10],\n",
       "         [17, 16],\n",
       "         [17, 10],\n",
       "         [24, 10],\n",
       "         [26, 10],\n",
       "         [31, 10],\n",
       "         [21,  5],\n",
       "         [17, 10],\n",
       "         [19, 10],\n",
       "         [27, 14],\n",
       "         [29, 10],\n",
       "         [29, 16],\n",
       "         [28, 10],\n",
       "         [26, 10],\n",
       "         [23, 16],\n",
       "         [14, 22],\n",
       "         [24, 10],\n",
       "         [29,  5],\n",
       "         [26, 10],\n",
       "         [31, 10],\n",
       "         [26,  5],\n",
       "         [19, 10],\n",
       "         [26, 10],\n",
       "         [19,  5],\n",
       "         [15, 10],\n",
       "         [27, 10],\n",
       "         [24, 10],\n",
       "         [34, 14],\n",
       "         [24,  5],\n",
       "         [21, 10],\n",
       "         [23,  5],\n",
       "         [21,  5],\n",
       "         [17, 10],\n",
       "         [29, 10],\n",
       "         [24, 10],\n",
       "         [24,  5],\n",
       "         [21, 10],\n",
       "         [23, 10],\n",
       "         [21,  5],\n",
       "         [17, 16],\n",
       "         [19, 26],\n",
       "         [27, 10],\n",
       "         [17,  5],\n",
       "         [29,  5],\n",
       "         [19, 10],\n",
       "         [21, 10],\n",
       "         [19,  5],\n",
       "         [19, 10],\n",
       "         [29, 10],\n",
       "         [24, 10],\n",
       "         [19,  5],\n",
       "         [24,  5],\n",
       "         [24, 10],\n",
       "         [16, 10],\n",
       "         [23,  5],\n",
       "         [21, 16],\n",
       "         [26, 10],\n",
       "         [22, 16],\n",
       "         [24, 10],\n",
       "         [34,  5],\n",
       "         [21, 10],\n",
       "         [19, 10],\n",
       "         [21,  5],\n",
       "         [26, 10],\n",
       "         [29, 14],\n",
       "         [20, 10],\n",
       "         [21,  5],\n",
       "         [31,  5],\n",
       "         [21, 10],\n",
       "         [16, 10],\n",
       "         [19,  5],\n",
       "         [24, 10],\n",
       "         [26,  5],\n",
       "         [20, 16],\n",
       "         [19,  5],\n",
       "         [29,  5],\n",
       "         [19, 10],\n",
       "         [14, 26],\n",
       "         [16, 26],\n",
       "         [21, 10],\n",
       "         [24, 10],\n",
       "         [17, 10],\n",
       "         [17, 26],\n",
       "         [31,  5],\n",
       "         [14, 26],\n",
       "         [39, 45],\n",
       "         [39, 45],\n",
       "         [17, 10],\n",
       "         [29, 10],\n",
       "         [15, 10],\n",
       "         [17, 14],\n",
       "         [29, 22],\n",
       "         [39, 45],\n",
       "         [19,  5],\n",
       "         [26, 10],\n",
       "         [12, 10],\n",
       "         [19,  5],\n",
       "         [39, 45],\n",
       "         [21,  5],\n",
       "         [29, 10],\n",
       "         [10, 16],\n",
       "         [21, 10],\n",
       "         [17, 10],\n",
       "         [24, 16],\n",
       "         [27, 10],\n",
       "         [21, 10],\n",
       "         [14, 26],\n",
       "         [22, 10],\n",
       "         [27,  5],\n",
       "         [19, 10],\n",
       "         [26, 10],\n",
       "         [19, 10],\n",
       "         [24,  5],\n",
       "         [24, 10],\n",
       "         [26, 10],\n",
       "         [24, 26],\n",
       "         [22, 10],\n",
       "         [21,  5],\n",
       "         [31, 10],\n",
       "         [19, 10],\n",
       "         [27, 10],\n",
       "         [19,  5],\n",
       "         [26,  5],\n",
       "         [19,  5],\n",
       "         [22, 16],\n",
       "         [17, 10],\n",
       "         [24,  5],\n",
       "         [19,  5],\n",
       "         [20, 10],\n",
       "         [19, 10],\n",
       "         [21,  5],\n",
       "         [19, 10],\n",
       "         [17, 10],\n",
       "         [19, 10],\n",
       "         [24,  5],\n",
       "         [24, 10],\n",
       "         [15, 10],\n",
       "         [19, 10],\n",
       "         [21,  5],\n",
       "         [19, 10],\n",
       "         [17, 10],\n",
       "         [14, 10],\n",
       "         [19,  5],\n",
       "         [17, 10],\n",
       "         [15, 10],\n",
       "         [17, 14],\n",
       "         [17, 10],\n",
       "         [15, 10],\n",
       "         [12, 10],\n",
       "         [14,  5],\n",
       "         [14, 10],\n",
       "         [14, 10],\n",
       "         [10, 26],\n",
       "         [12, 16],\n",
       "         [26, 10],\n",
       "         [12, 26],\n",
       "         [39, 45],\n",
       "         [39, 45],\n",
       "         [26, 10],\n",
       "         [17, 10],\n",
       "         [31, 10],\n",
       "         [15, 16],\n",
       "         [26,  5],\n",
       "         [17, 10],\n",
       "         [24,  5],\n",
       "         [19, 26],\n",
       "         [21, 26],\n",
       "         [24, 26],\n",
       "         [26, 10],\n",
       "         [19, 16],\n",
       "         [26, 10],\n",
       "         [21, 10],\n",
       "         [31, 10],\n",
       "         [19, 10],\n",
       "         [26,  5],\n",
       "         [17, 22],\n",
       "         [24,  5],\n",
       "         [21, 10],\n",
       "         [21,  5],\n",
       "         [19, 10],\n",
       "         [24,  5],\n",
       "         [17, 10],\n",
       "         [21,  5],\n",
       "         [15, 10],\n",
       "         [19,  5],\n",
       "         [14, 10],\n",
       "         [17, 10],\n",
       "         [12, 26],\n",
       "         [14, 10],\n",
       "         [39, 45],\n",
       "         [19, 10],\n",
       "         [19, 10],\n",
       "         [24, 10],\n",
       "         [21,  5],\n",
       "         [19,  5],\n",
       "         [17,  5],\n",
       "         [14, 25],\n",
       "         [19, 10],\n",
       "         [17,  5],\n",
       "         [16,  5],\n",
       "         [14, 10],\n",
       "         [14,  5],\n",
       "         [14,  5],\n",
       "         [19, 10],\n",
       "         [21,  5],\n",
       "         [28,  5],\n",
       "         [26, 33],\n",
       "         [24, 14],\n",
       "         [21,  5],\n",
       "         [24, 10],\n",
       "         [21,  5],\n",
       "         [19,  5],\n",
       "         [17, 10],\n",
       "         [14, 22],\n",
       "         [19,  5],\n",
       "         [21,  5],\n",
       "         [17, 16],\n",
       "         [19, 10],\n",
       "         [21, 16],\n",
       "         [26, 10],\n",
       "         [24, 10],\n",
       "         [21, 10],\n",
       "         [17, 10],\n",
       "         [19,  5],\n",
       "         [21,  5],\n",
       "         [17, 10],\n",
       "         [14, 26],\n",
       "         [39, 45]]), batch_sizes=tensor([8, 8, 8, 8, 8, 8, 8, 8, 8, 8, 8, 8, 8, 8, 8, 8, 8, 8, 8, 8, 8, 8, 8, 8,\n",
       "         8, 6, 5, 4, 4, 4, 4, 4, 4, 4, 4, 4, 4, 4, 4, 4, 4, 4, 2, 2, 2, 2, 2, 2,\n",
       "         2, 2, 2, 2, 2, 2, 2, 2, 2, 2, 1, 1, 1, 1, 1, 1, 1, 1, 1, 1, 1, 1, 1, 1,\n",
       "         1, 1, 1, 1, 1, 1, 1, 1, 1, 1, 1, 1, 1, 1, 1, 1, 1, 1, 1, 1, 1, 1, 1, 1]), sorted_indices=None, unsorted_indices=None))"
      ]
     },
     "execution_count": 50,
     "metadata": {},
     "output_type": "execute_result"
    }
   ],
   "source": [
    "from torch.nn.utils.rnn import pack_sequence, PackedSequence\n",
    "\n",
    "def pack_collate(raw_batch:list):\n",
    "  '''\n",
    "  This function takes a list of data, and returns two PackedSequences\n",
    "  \n",
    "  Argument\n",
    "    raw_batch: A list of MelodyDataset[idx]. Each item in the list is a tuple of (melody, shifted_melody)\n",
    "               melody and shifted_melody has a shape of [num_notes (+1 if you don't consider \"start\" and \"end\" token as note), 2]\n",
    "  Returns\n",
    "    packed_melody (torch.nn.utils.rnn.PackedSequence)\n",
    "    packed_shifted_melody (torch.nn.utils.rnn.PackedSequence)\n",
    "\n",
    "  TODO: Complete this function\n",
    "  '''  \n",
    "  melody = [x[0] for x in raw_batch]\n",
    "  shifted_melody = [x[1] for x in raw_batch]\n",
    "  \n",
    "  melody.sort(key=lambda x:len(x), reverse=True)\n",
    "  shifted_melody.sort(key=lambda x:len(x), reverse=True)\n",
    "  \n",
    "  packed_melody = pack_sequence(melody)\n",
    "  packed_shifted_melody = pack_sequence(shifted_melody)\n",
    "  return packed_melody, packed_shifted_melody\n",
    "\n",
    "raw_batch = [train_set[i] for i in range(batch_size)]\n",
    "packed_melody, packed_shifted_melody = pack_collate(raw_batch)\n",
    "print(packed_melody.data.shape, packed_shifted_melody.data.shape)\n",
    "packed_melody, packed_shifted_melody"
   ]
  },
  {
   "cell_type": "code",
   "execution_count": 51,
   "id": "ff1e46bf",
   "metadata": {},
   "outputs": [
    {
     "name": "stdout",
     "output_type": "stream",
     "text": [
      "Passed all the test cases\n"
     ]
    }
   ],
   "source": [
    "'''\n",
    "Test whether you have implemented pack_collate correctly\n",
    "'''\n",
    "\n",
    "assert isinstance(packed_melody, PackedSequence)\n",
    "assert isinstance(packed_shifted_melody, PackedSequence)\n",
    "\n",
    "assert packed_melody.data.shape==packed_shifted_melody.data.shape\n",
    "\n",
    "print(\"Passed all the test cases\")"
   ]
  },
  {
   "cell_type": "code",
   "execution_count": 52,
   "id": "6d182eeb",
   "metadata": {
    "scrolled": true
   },
   "outputs": [
    {
     "data": {
      "text/plain": [
       "(PackedSequence(data=tensor([[38, 44],\n",
       "         [38, 44],\n",
       "         [38, 44],\n",
       "         ...,\n",
       "         [21, 26],\n",
       "         [19, 38],\n",
       "         [17, 30]]), batch_sizes=tensor([64, 64, 64, 64, 64, 64, 64, 64, 64, 64, 64, 64, 64, 64, 64, 63, 63, 63,\n",
       "         63, 62, 62, 62, 62, 62, 62, 62, 62, 60, 57, 57, 55, 54, 54, 51, 50, 49,\n",
       "         48, 45, 45, 44, 44, 42, 42, 41, 40, 39, 37, 35, 34, 33, 32, 29, 28, 27,\n",
       "         26, 26, 23, 20, 20, 19, 19, 19, 16, 16, 16, 16, 15, 13, 13, 13, 13, 13,\n",
       "         13, 13, 13, 11, 11, 10, 10, 10, 10, 10,  9,  9,  9,  9,  9,  9,  9,  9,\n",
       "          9,  9,  8,  8,  8,  8,  7,  7,  7,  7,  6,  6,  5,  4,  4,  4,  4,  4,\n",
       "          4,  4,  3,  3,  3,  3,  3,  3,  3,  3,  3,  3,  3,  3,  3,  3,  3,  3,\n",
       "          3,  3,  3,  3,  3,  3,  3,  3,  2,  2,  2,  2,  2,  2,  2,  2,  2,  2,\n",
       "          2,  2,  2,  2,  2,  2,  2,  2,  2,  2,  2,  2,  2,  2,  2,  2,  2,  2,\n",
       "          2,  2,  2,  2,  2,  2,  2,  2,  2,  2,  2,  2,  2,  1,  1,  1,  1,  1,\n",
       "          1,  1,  1,  1,  1,  1,  1,  1,  1,  1,  1,  1,  1,  1,  1,  1,  1,  1,\n",
       "          1,  1,  1,  1,  1,  1,  1,  1,  1,  1,  1,  1,  1,  1,  1,  1,  1,  1,\n",
       "          1,  1,  1,  1,  1,  1,  1,  1,  1,  1,  1,  1,  1,  1,  1,  1,  1,  1,\n",
       "          1,  1,  1,  1,  1,  1,  1,  1,  1,  1,  1,  1,  1,  1,  1,  1,  1,  1,\n",
       "          1,  1,  1,  1,  1,  1,  1,  1]), sorted_indices=None, unsorted_indices=None),\n",
       " PackedSequence(data=tensor([[17, 38],\n",
       "         [18,  5],\n",
       "         [21, 10],\n",
       "         ...,\n",
       "         [19, 38],\n",
       "         [17, 30],\n",
       "         [39, 45]]), batch_sizes=tensor([64, 64, 64, 64, 64, 64, 64, 64, 64, 64, 64, 64, 64, 64, 64, 63, 63, 63,\n",
       "         63, 62, 62, 62, 62, 62, 62, 62, 62, 60, 57, 57, 55, 54, 54, 51, 50, 49,\n",
       "         48, 45, 45, 44, 44, 42, 42, 41, 40, 39, 37, 35, 34, 33, 32, 29, 28, 27,\n",
       "         26, 26, 23, 20, 20, 19, 19, 19, 16, 16, 16, 16, 15, 13, 13, 13, 13, 13,\n",
       "         13, 13, 13, 11, 11, 10, 10, 10, 10, 10,  9,  9,  9,  9,  9,  9,  9,  9,\n",
       "          9,  9,  8,  8,  8,  8,  7,  7,  7,  7,  6,  6,  5,  4,  4,  4,  4,  4,\n",
       "          4,  4,  3,  3,  3,  3,  3,  3,  3,  3,  3,  3,  3,  3,  3,  3,  3,  3,\n",
       "          3,  3,  3,  3,  3,  3,  3,  3,  2,  2,  2,  2,  2,  2,  2,  2,  2,  2,\n",
       "          2,  2,  2,  2,  2,  2,  2,  2,  2,  2,  2,  2,  2,  2,  2,  2,  2,  2,\n",
       "          2,  2,  2,  2,  2,  2,  2,  2,  2,  2,  2,  2,  2,  1,  1,  1,  1,  1,\n",
       "          1,  1,  1,  1,  1,  1,  1,  1,  1,  1,  1,  1,  1,  1,  1,  1,  1,  1,\n",
       "          1,  1,  1,  1,  1,  1,  1,  1,  1,  1,  1,  1,  1,  1,  1,  1,  1,  1,\n",
       "          1,  1,  1,  1,  1,  1,  1,  1,  1,  1,  1,  1,  1,  1,  1,  1,  1,  1,\n",
       "          1,  1,  1,  1,  1,  1,  1,  1,  1,  1,  1,  1,  1,  1,  1,  1,  1,  1,\n",
       "          1,  1,  1,  1,  1,  1,  1,  1]), sorted_indices=None, unsorted_indices=None))"
      ]
     },
     "execution_count": 52,
     "metadata": {},
     "output_type": "execute_result"
    }
   ],
   "source": [
    "from torch.utils.data import DataLoader\n",
    "from torch.nn.utils.rnn import pack_sequence, PackedSequence\n",
    "\n",
    "train_loader = DataLoader(train_set, batch_size=64, collate_fn=pack_collate, shuffle=True)\n",
    "valid_loader = DataLoader(valid_set, batch_size=128, collate_fn=pack_collate, shuffle=True)\n",
    "test_loader = DataLoader(test_set, batch_size=128, collate_fn=pack_collate, shuffle=True)\n",
    "\n",
    "batch = next(iter(train_loader))\n",
    "batch"
   ]
  },
  {
   "cell_type": "markdown",
   "id": "73263352",
   "metadata": {},
   "source": [
    "## Problem 5: Define Melody Language Model (25 pts)\n",
    "- In this problem, you have to define a Language Model for model\n",
    "    - It is almost same as an ordinary language model for natural language processing\n",
    "    - The key difference is that the melody language model has to predict pitch **and** duration\n",
    "- Complete the model step-by-step\n",
    "    - Complete each function and test the function with the cells below\n",
    "    - `get_concat_embedding()` makes concatenated embedding for each note given pitch and duration\n",
    "\n"
   ]
  },
  {
   "cell_type": "code",
   "execution_count": 53,
   "id": "893efba3",
   "metadata": {},
   "outputs": [
    {
     "data": {
      "text/plain": [
       "(PackedSequence(data=tensor([[0.0278, 0.0266, 0.0262,  ..., 0.0229, 0.0220, 0.0250],\n",
       "         [0.0278, 0.0266, 0.0262,  ..., 0.0229, 0.0220, 0.0250],\n",
       "         [0.0278, 0.0266, 0.0262,  ..., 0.0229, 0.0220, 0.0250],\n",
       "         ...,\n",
       "         [0.0255, 0.0280, 0.0270,  ..., 0.0217, 0.0212, 0.0270],\n",
       "         [0.0260, 0.0275, 0.0265,  ..., 0.0218, 0.0217, 0.0269],\n",
       "         [0.0263, 0.0269, 0.0264,  ..., 0.0220, 0.0223, 0.0266]],\n",
       "        grad_fn=<PackPaddedSequenceBackward0>), batch_sizes=tensor([64, 64, 64, 64, 64, 64, 64, 64, 64, 64, 64, 64, 64, 64, 64, 63, 63, 63,\n",
       "         63, 62, 62, 62, 62, 62, 62, 62, 62, 60, 57, 57, 55, 54, 54, 51, 50, 49,\n",
       "         48, 45, 45, 44, 44, 42, 42, 41, 40, 39, 37, 35, 34, 33, 32, 29, 28, 27,\n",
       "         26, 26, 23, 20, 20, 19, 19, 19, 16, 16, 16, 16, 15, 13, 13, 13, 13, 13,\n",
       "         13, 13, 13, 11, 11, 10, 10, 10, 10, 10,  9,  9,  9,  9,  9,  9,  9,  9,\n",
       "          9,  9,  8,  8,  8,  8,  7,  7,  7,  7,  6,  6,  5,  4,  4,  4,  4,  4,\n",
       "          4,  4,  3,  3,  3,  3,  3,  3,  3,  3,  3,  3,  3,  3,  3,  3,  3,  3,\n",
       "          3,  3,  3,  3,  3,  3,  3,  3,  2,  2,  2,  2,  2,  2,  2,  2,  2,  2,\n",
       "          2,  2,  2,  2,  2,  2,  2,  2,  2,  2,  2,  2,  2,  2,  2,  2,  2,  2,\n",
       "          2,  2,  2,  2,  2,  2,  2,  2,  2,  2,  2,  2,  2,  1,  1,  1,  1,  1,\n",
       "          1,  1,  1,  1,  1,  1,  1,  1,  1,  1,  1,  1,  1,  1,  1,  1,  1,  1,\n",
       "          1,  1,  1,  1,  1,  1,  1,  1,  1,  1,  1,  1,  1,  1,  1,  1,  1,  1,\n",
       "          1,  1,  1,  1,  1,  1,  1,  1,  1,  1,  1,  1,  1,  1,  1,  1,  1,  1,\n",
       "          1,  1,  1,  1,  1,  1,  1,  1,  1,  1,  1,  1,  1,  1,  1,  1,  1,  1,\n",
       "          1,  1,  1,  1,  1,  1,  1,  1]), sorted_indices=None, unsorted_indices=None),\n",
       " PackedSequence(data=tensor([[0.0249, 0.0215, 0.0250,  ..., 0.0237, 0.0246, 0.0213],\n",
       "         [0.0249, 0.0215, 0.0250,  ..., 0.0237, 0.0246, 0.0213],\n",
       "         [0.0249, 0.0215, 0.0250,  ..., 0.0237, 0.0246, 0.0213],\n",
       "         ...,\n",
       "         [0.0258, 0.0216, 0.0249,  ..., 0.0233, 0.0231, 0.0226],\n",
       "         [0.0257, 0.0216, 0.0247,  ..., 0.0234, 0.0232, 0.0225],\n",
       "         [0.0259, 0.0215, 0.0245,  ..., 0.0237, 0.0234, 0.0225]],\n",
       "        grad_fn=<PackPaddedSequenceBackward0>), batch_sizes=tensor([64, 64, 64, 64, 64, 64, 64, 64, 64, 64, 64, 64, 64, 64, 64, 63, 63, 63,\n",
       "         63, 62, 62, 62, 62, 62, 62, 62, 62, 60, 57, 57, 55, 54, 54, 51, 50, 49,\n",
       "         48, 45, 45, 44, 44, 42, 42, 41, 40, 39, 37, 35, 34, 33, 32, 29, 28, 27,\n",
       "         26, 26, 23, 20, 20, 19, 19, 19, 16, 16, 16, 16, 15, 13, 13, 13, 13, 13,\n",
       "         13, 13, 13, 11, 11, 10, 10, 10, 10, 10,  9,  9,  9,  9,  9,  9,  9,  9,\n",
       "          9,  9,  8,  8,  8,  8,  7,  7,  7,  7,  6,  6,  5,  4,  4,  4,  4,  4,\n",
       "          4,  4,  3,  3,  3,  3,  3,  3,  3,  3,  3,  3,  3,  3,  3,  3,  3,  3,\n",
       "          3,  3,  3,  3,  3,  3,  3,  3,  2,  2,  2,  2,  2,  2,  2,  2,  2,  2,\n",
       "          2,  2,  2,  2,  2,  2,  2,  2,  2,  2,  2,  2,  2,  2,  2,  2,  2,  2,\n",
       "          2,  2,  2,  2,  2,  2,  2,  2,  2,  2,  2,  2,  2,  1,  1,  1,  1,  1,\n",
       "          1,  1,  1,  1,  1,  1,  1,  1,  1,  1,  1,  1,  1,  1,  1,  1,  1,  1,\n",
       "          1,  1,  1,  1,  1,  1,  1,  1,  1,  1,  1,  1,  1,  1,  1,  1,  1,  1,\n",
       "          1,  1,  1,  1,  1,  1,  1,  1,  1,  1,  1,  1,  1,  1,  1,  1,  1,  1,\n",
       "          1,  1,  1,  1,  1,  1,  1,  1,  1,  1,  1,  1,  1,  1,  1,  1,  1,  1,\n",
       "          1,  1,  1,  1,  1,  1,  1,  1]), sorted_indices=None, unsorted_indices=None))"
      ]
     },
     "execution_count": 53,
     "metadata": {},
     "output_type": "execute_result"
    }
   ],
   "source": [
    "from torch.nn.utils.rnn import PackedSequence\n",
    "\n",
    "class MelodyLanguageModel(nn.Module):\n",
    "  def __init__(self, hidden_size, embed_size, vocabs):\n",
    "    super().__init__()\n",
    "    \n",
    "    self.idx2pitch, self.idx2dur, self.pitch2idx, self.dur2idx = vocabs\n",
    "    self.hidden_size = hidden_size\n",
    "    self.embed_size = embed_size\n",
    "    self.num_pitch = len(self.idx2pitch)\n",
    "    self.num_dur = len(self.idx2dur)\n",
    "    self.num_layers = 3\n",
    "    \n",
    "    \n",
    "    '''\n",
    "    TODO: Declare four modules. Please follow the name strictly.\n",
    "      1) self.pitch_embedder: nn.Embedding layer that embed pitch category index to a vector with size of 'embed_size'\n",
    "      2) self.dur_embedder = nn.Embedding layer that embed duration category index to a vector with size of 'embed_size'\n",
    "      3) self.rnn = nn.GRU layer that takes concatenated_embedding \n",
    "                    and has a hidden size of 'hidden_size', num_layers of self.num_layers, and batch_first=True\n",
    "      4) self.final_layer = nn.Linear layer that takes self.rnn's output and convert it \n",
    "                            to logits (that can be used as input of softmax) of pitch + duration\n",
    "   \n",
    "   TODO: 모듈 4개를 선언합니다. 이름을 엄격하게 지켜주세요.\n",
    "      1) self.pitch_embedder: 'embed_size' 크기의 벡터에 피치 범주 인덱스를 포함하는 nn.Embedding layer.\n",
    "      2) self.dur_embedder = duration category index를 'embed_size' 크기의 벡터에 포함하는 nn.Embedding layer.\n",
    "      3) self.rnn = concatated_size를 사용하고 숨겨진 크기가 'hidden_size'인 GRU 계층, num_layers of self.num_layers,  batch_first=True\n",
    "      4) self.final_layer = [nn.Linear layer] self.rnn의 출력을 가져와서 \n",
    "                            'pitch + duration'의 로짓(소프트맥스의 입력으로 사용될 수 있음)으로 변환\n",
    "      self.rnn = GRU(80, 64, num_layers=3, batch_first=True)\n",
    "    '''    \n",
    "    \n",
    "    self.pitch_embedder = nn.Embedding(self.num_pitch, self.embed_size)\n",
    "    self.dur_embedder = nn.Embedding(self.num_dur, self.embed_size)\n",
    "    self.rnn =  nn.GRU(2*self.embed_size, self.hidden_size, num_layers=self.num_layers, batch_first=True)\n",
    "    self.final_layer = nn.Linear(self.hidden_size, self.num_pitch + self.num_dur)\n",
    "    \n",
    "  def get_concat_embedding(self, input_seq):\n",
    "    '''\n",
    "    This function returns concatenated pitch embedding and duration embedding for a given input seq\n",
    "    \n",
    "    Arguments:\n",
    "      input_seq: A batch of melodies represented as a sequence of vector (pitch_idx, dur_idx). \n",
    "                 Has a shape of [num_batch, num_timesteps (num_notes), 2(pitch, dur)], or [num_timesteps (num_notes), 2]\n",
    "                 \n",
    "                 벡터 (pitch_idx, dur_idx)의 시퀀스로 표현된 멜로디들의 집합으로 이루어진 배치. \n",
    "                 Shape은 [배치 샘플 수, 타임스텝의 수 (==음표의 수), 2 (음고, 길이)] 혹은 [타임스텝의 수 (num_notes), 2]\n",
    "    Return:\n",
    "      concat_embedding: A batch of sequence of concatenated embedding of pitch embedding and duration embedding.\n",
    "                        Has a shape of [num_batch, num_timesteps (num_notes), embedding_size * 2]\n",
    "                        Each vector of time t is [pitch_embedding ; duration_embedding] (concatenation)\n",
    "                        \n",
    "                        pitch embedding is the output of an nn.Embedding layer of given note pitch index\n",
    "                        duration embedding is the output of an nn.Embedding layer of given note duration index\n",
    "    \n",
    "    \n",
    "    TODO: Complete this function using self.pitch_embedder and self.dur_embedder\n",
    "    You can use torch.cat to concatenate two tensors or vectors\n",
    "    '''\n",
    "#     print(input_seq)\n",
    "    input_pitch = input_seq[..., 0]\n",
    "    input_dur = input_seq[..., 1]\n",
    "    return torch.cat([self.pitch_embedder(input_pitch), self.dur_embedder(input_dur)], dim=-1)\n",
    "  \n",
    "  \n",
    "  def initialize_rnn(self, batch_size: int) -> torch.Tensor :\n",
    "    '''\n",
    "    This function returns initial hidden state for self.rnn for given batch_size\n",
    "    \n",
    "    Argument\n",
    "      batch_size (int): \n",
    "      \n",
    "    Return\n",
    "      initial_hidden_state (torch.Tensor):\n",
    "    '''\n",
    "    \n",
    "    return torch.zeros([self.num_layers, batch_size, self.hidden_size])\n",
    "  \n",
    "    \n",
    "  \n",
    "  def forward(self, input_seq:torch.LongTensor):\n",
    "    '''\n",
    "    Forward propgation of Melody Language Model.\n",
    "    \n",
    "    Argument\n",
    "      input_seq: A batch of melodies represented as a sequence of vector (pitch_idx, dur_idx). \n",
    "                 Has a shape of [num_batch, num_timesteps (num_notes), 2(pitch, dur)], or can be a PackedSequence\n",
    "                 벡터 (pitch_idx, dur_idx)의 시퀀스로 표현된 멜로디들의 집합으로 이루어진 배치. \n",
    "                 Shape은 [배치 샘플 수, 타임스텝의 수 (==음표의 수), 2 (음고, 길이)] 혹은 PackedSequence.\n",
    "    \n",
    "    Output\n",
    "      pitch_dist: Probability distribution of pitch of next upcoming note for each timestep 't'.\n",
    "                  Has a shape of [num_batch, numtimesteps, self.num_pitch]\n",
    "                매 타임 스텝 t에 대해, 그 다음에 등장할 음표 음고의 확률 분포\n",
    "      dur_dist: Probability distribution of duration of next upcoming note for each timestep 't'.\n",
    "                Has a shape of [num_batch, numtimesteps, self.num_dur]\n",
    "                매 타임 스텝 t에 대해, 그 다음에 등장할 음표 길이의 확률 분포\n",
    "      \n",
    "    '''\n",
    "      \n",
    "  \n",
    "    '''\n",
    "    TODO: Complete this function. You have to handle both cases: input_seq as ordinary Tensor / input_seq as PackedSequence\n",
    "    If the input_seq is PackedSequence, return PackedSequence\n",
    "    \n",
    "    \n",
    "    input_seq → self.get_concat_embedding → self.rnn → self.final_layer → torch.softmax for [pitch, duration]\n",
    "    \n",
    "    Follow the instruction\n",
    "    '''\n",
    "\n",
    "    if isinstance(input_seq, torch.Tensor): # If input is an ordinary tensor\n",
    "      # 1. Get concatenated_embeddings using self.get_concat_embedding\n",
    "      x = self.get_concat_embedding(input_seq)\n",
    "      \n",
    "      # 2. Put concatenated_embeddings to self.rnn.\n",
    "      # Remember: RNN, GRU, LSTM returns two outputs\n",
    "      h_0 = self.initialize_rnn(batch_size=x.size(0))\n",
    "      out, _ = self.rnn(x, h_0)\n",
    "      \n",
    "      # 3. Put rnn's output with a shape of [num_batch, num_timestep, hidden_size] to self.final_layer\n",
    "      logits = self.final_layer(out)\n",
    "      \n",
    "      # 4. Convert logits (output of self.final_layer) to pitch probability and duration probability\n",
    "      # Caution! You have to get separately softmax-ed pitch and duration\n",
    "      # Because you have to pick one pitch and one duration from the probability distribution\n",
    "      # 4. 로짓(self.final_layer 출력)을 피치 확률 및 지속 확률로 변환합니다.\n",
    "      # 조심하세요! 소프트맥스 피치와 지속시간을 따로 구하셔야 합니다.\n",
    "      # 왜냐하면 확률 분포에서 피치 1개와 지속 시간 1개를 선택해야 하기 때문입니다.\n",
    "      \n",
    "      pitch_out = logits[..., :self.num_pitch]\n",
    "      dur_out = logits[..., self.num_pitch:]\n",
    "      pitch_out = torch.softmax(pitch_out, dim=-1)\n",
    "      dur_out = torch.softmax(dur_out, dim=-1)\n",
    "\n",
    "      return pitch_out, dur_out\n",
    "    \n",
    "    elif isinstance(input_seq, PackedSequence):      \n",
    "      # 1. Get concatenated_embeddings using self.get_concat_embedding\n",
    "      # To get concatenated_embeddings, You have to either pad_packed_sequence(input_seq, batch_first=True)\n",
    "      # Or use input_seq.data, \n",
    "      # and then make new PackedSequence using concatenated_embeddings as data, and copy batch_lengths, sorted_indices, unsorted_indices.\n",
    "      '''\n",
    "      1) pack -> pad, using pad_packed_sequence(input_seq, batch_first=True)\n",
    "      2) 새로운 PackedSequence(embedding_data, batch_lengths, sorted_indices, unsorted_indices)\n",
    "      '''\n",
    "#       pad_seq, pad_seq_len = pad_packed_sequence(input_seq, batch_first=True)\n",
    "#       embed = self.get_concat_embedding(pad_seq)\n",
    "      embed = self.get_concat_embedding(input_seq.data)\n",
    "      embed_pack_seq = PackedSequence(embed, batch_sizes=input_seq.batch_sizes,\n",
    "                                      sorted_indices=input_seq.sorted_indices, unsorted_indices=input_seq.unsorted_indices)\n",
    "    \n",
    "      # 2. Put concatenated embedding to self.rnn\n",
    "      out, _ = self.rnn(embed_pack_seq)\n",
    "  \n",
    "      # 3. Put rnn output to self.final_layer to get probability logit for pitch and duration\n",
    "      # Again, rnn's output is PackedSequence so you have to handle it\n",
    "      # 3. rnn 출력을 self.final_layer에 넣어 피치 및 지속 시간에 대한 확률 로짓(probability logit)을 가져옵니다.\n",
    "      # 다시 말하지만 rnn의 출력은 PackedSequence이므로 사용자가 처리해야 합니다.\n",
    "      '''\n",
    "      1) out(PackedSequence) -> unpack_out(pad)\n",
    "      2) logit = self.final_layer(unpack_out)\n",
    "      '''\n",
    "      unpacked_out, unpacked_out_len = pad_packed_sequence(out, batch_first=True)\n",
    "      logits = self.final_layer(unpacked_out)\n",
    "      \n",
    "      # 4. Convert logits to pitch probability and duration probability\n",
    "      # Caution! You have to get separately softmax-ed pitch and duration\n",
    "      # Because you have to pick one pitch and one duration from the probability distribution\n",
    "      # 4. 로짓들을 피치 확률과 지속 확률로 변환합니다.\n",
    "      # 조심하세요! 소프트맥스 피치와 지속시간을 따로 구하셔야 합니다.\n",
    "      # 확률 분포에서 피치 1개와 지속 시간 1개를 선택해야 하기 때문입니다.\n",
    "      \n",
    "      pitch_out = logits[..., :self.num_pitch]\n",
    "      dur_out = logits[..., self.num_pitch:]\n",
    "      pitch_out = torch.softmax(pitch_out, dim=-1)\n",
    "      dur_out = torch.softmax(dur_out, dim=-1)\n",
    "\n",
    "      # Return output as PackedSequence \n",
    "      packed_pitch_out = pack_padded_sequence(pitch_out, unpacked_out_len, batch_first=True)\n",
    "      packed_dur_out = pack_padded_sequence(dur_out, unpacked_out_len, batch_first=True)\n",
    "      \n",
    "      return packed_pitch_out, packed_dur_out\n",
    "\n",
    "    else:\n",
    "      print(f\"Unrecognized input type: {type(input_seq)}\")\n",
    "  \n",
    "\n",
    "hidden_size = 64\n",
    "embed_size = 40\n",
    "    \n",
    "model = MelodyLanguageModel(hidden_size, embed_size, entire_set.get_vocabs())\n",
    "model(batch[0])"
   ]
  },
  {
   "cell_type": "code",
   "execution_count": 54,
   "id": "108a8117",
   "metadata": {},
   "outputs": [
    {
     "name": "stdout",
     "output_type": "stream",
     "text": [
      "Your concart_embedding: \n",
      "tensor([[[-1.3129, -0.4756,  1.2102,  ..., -1.5082,  1.6598,  0.1772],\n",
      "         [ 1.7682,  0.7709,  0.8021,  ..., -0.9295,  0.4493,  0.0180],\n",
      "         [ 0.3453, -0.3663,  0.6949,  ..., -0.3951, -0.7608, -0.4998],\n",
      "         ...,\n",
      "         [ 1.7682,  0.7709,  0.8021,  ...,  0.4306, -1.2245, -0.2752],\n",
      "         [ 0.4231,  0.2378, -0.4044,  ...,  0.4306, -1.2245, -0.2752],\n",
      "         [ 1.7682,  0.7709,  0.8021,  ..., -0.9295,  0.4493,  0.0180]],\n",
      "\n",
      "        [[-1.3129, -0.4756,  1.2102,  ..., -1.5082,  1.6598,  0.1772],\n",
      "         [ 0.4231,  0.2378, -0.4044,  ...,  0.4306, -1.2245, -0.2752],\n",
      "         [ 0.4231,  0.2378, -0.4044,  ..., -1.0564, -0.7562,  2.1363],\n",
      "         ...,\n",
      "         [ 1.1975, -1.8345,  0.4201,  ...,  0.6955,  2.2746, -0.9119],\n",
      "         [ 1.1975, -1.8345,  0.4201,  ...,  0.6955,  2.2746, -0.9119],\n",
      "         [ 1.1975, -1.8345,  0.4201,  ...,  0.6955,  2.2746, -0.9119]],\n",
      "\n",
      "        [[-1.3129, -0.4756,  1.2102,  ..., -1.5082,  1.6598,  0.1772],\n",
      "         [-0.8960, -0.6369,  0.1142,  ..., -0.9295,  0.4493,  0.0180],\n",
      "         [-0.5915,  1.0529, -1.6517,  ..., -0.9295,  0.4493,  0.0180],\n",
      "         ...,\n",
      "         [ 1.1975, -1.8345,  0.4201,  ...,  0.6955,  2.2746, -0.9119],\n",
      "         [ 1.1975, -1.8345,  0.4201,  ...,  0.6955,  2.2746, -0.9119],\n",
      "         [ 1.1975, -1.8345,  0.4201,  ...,  0.6955,  2.2746, -0.9119]],\n",
      "\n",
      "        ...,\n",
      "\n",
      "        [[-1.3129, -0.4756,  1.2102,  ..., -1.5082,  1.6598,  0.1772],\n",
      "         [-0.6527, -0.5069,  0.0146,  ..., -0.9295,  0.4493,  0.0180],\n",
      "         [-0.8578,  0.2134,  1.6378,  ..., -0.9295,  0.4493,  0.0180],\n",
      "         ...,\n",
      "         [ 1.1975, -1.8345,  0.4201,  ...,  0.6955,  2.2746, -0.9119],\n",
      "         [ 1.1975, -1.8345,  0.4201,  ...,  0.6955,  2.2746, -0.9119],\n",
      "         [ 1.1975, -1.8345,  0.4201,  ...,  0.6955,  2.2746, -0.9119]],\n",
      "\n",
      "        [[-1.3129, -0.4756,  1.2102,  ..., -1.5082,  1.6598,  0.1772],\n",
      "         [ 0.4231,  0.2378, -0.4044,  ..., -0.9295,  0.4493,  0.0180],\n",
      "         [ 1.1260,  0.5749,  0.9157,  ...,  0.4306, -1.2245, -0.2752],\n",
      "         ...,\n",
      "         [ 1.1975, -1.8345,  0.4201,  ...,  0.6955,  2.2746, -0.9119],\n",
      "         [ 1.1975, -1.8345,  0.4201,  ...,  0.6955,  2.2746, -0.9119],\n",
      "         [ 1.1975, -1.8345,  0.4201,  ...,  0.6955,  2.2746, -0.9119]],\n",
      "\n",
      "        [[-1.3129, -0.4756,  1.2102,  ..., -1.5082,  1.6598,  0.1772],\n",
      "         [-0.5915,  1.0529, -1.6517,  ..., -0.9295,  0.4493,  0.0180],\n",
      "         [ 0.4231,  0.2378, -0.4044,  ...,  0.4306, -1.2245, -0.2752],\n",
      "         ...,\n",
      "         [ 1.1975, -1.8345,  0.4201,  ...,  0.6955,  2.2746, -0.9119],\n",
      "         [ 1.1975, -1.8345,  0.4201,  ...,  0.6955,  2.2746, -0.9119],\n",
      "         [ 1.1975, -1.8345,  0.4201,  ...,  0.6955,  2.2746, -0.9119]]],\n",
      "       grad_fn=<CatBackward0>)\n"
     ]
    }
   ],
   "source": [
    "'''\n",
    "Test model.get_concat_embedding\n",
    "'''\n",
    "batch = next(iter(train_loader))\n",
    "melody, shifted_melody = batch\n",
    "padded_melody, _ = pad_packed_sequence(melody, batch_first=True)\n",
    "\n",
    "concat_embedding = model.get_concat_embedding(padded_melody)\n",
    "print(f'Your concart_embedding: \\n{concat_embedding}')\n",
    "\n",
    "assert concat_embedding.shape[:-1] == padded_melody.shape[:-1], \"Num_batch and num_timestep of concat_embedding has to be the same with input melody\"\n",
    "assert concat_embedding.shape[2] == embed_size * 2, \"Error in size of embedding dimension\"\n",
    "assert (concat_embedding[0,0,:] == concat_embedding[1,0,:]).all(), \"Error: your embedding vectors for the same input notes are different\"\n"
   ]
  },
  {
   "cell_type": "code",
   "execution_count": 55,
   "id": "cd0050c6",
   "metadata": {},
   "outputs": [],
   "source": [
    "'''\n",
    "Test code with ordinary tensor (using batch_size=1)\n",
    "'''\n",
    "single_loader = DataLoader(train_set, batch_size=1, shuffle=True)\n",
    "single_batch = next(iter(single_loader))\n",
    "single_melody, single_shifted_melody = single_batch\n",
    "# print(f\"[!]single_melody: {single_melody.shape}\")\n",
    "pitch_out, dur_out = model(single_melody)\n",
    "\n",
    "assert pitch_out.shape == (1,single_melody.shape[1], model.num_pitch),  \\\n",
    "          f\"Error in pitch_out.shape. Expected {1,single_melody.shape[1], model.num_pitch}, but got {pitch_out.shape}\"\n",
    "assert dur_out.shape == (1,single_melody.shape[1], model.num_dur), \\\n",
    "          f\"Error in dur_out.shape. Expected {1,single_melody.shape[1], model.num_dur}, but got {dur_out.shape}\"\n",
    "\n",
    "assert (0<pitch_out).all() and (pitch_out<1).all() and (0<dur_out).all() and (dur_out<1).all(), \\\n",
    "          \"Every output must have a value between 0 and 1 \"\n",
    "assert (torch.abs(torch.sum(pitch_out, dim=-1)-1)<1e-5).all(), \\\n",
    "          \"Sum of probability of every pitch class has to be 1\"\n",
    "assert (torch.abs(torch.sum(dur_out, dim=-1)-1)<1e-5).all(), \\\n",
    "          \"Sum of probability of every duration class has to be 1\""
   ]
  },
  {
   "cell_type": "code",
   "execution_count": 56,
   "id": "91f6c773",
   "metadata": {},
   "outputs": [
    {
     "data": {
      "text/plain": [
       "tensor([[1.0000, 1.0000, 1.0000, 1.0000, 1.0000, 1.0000, 1.0000, 1.0000, 1.0000,\n",
       "         1.0000, 1.0000, 1.0000, 1.0000, 1.0000, 1.0000, 1.0000, 1.0000, 1.0000,\n",
       "         1.0000, 1.0000, 1.0000, 1.0000, 1.0000, 1.0000]],\n",
       "       grad_fn=<SumBackward1>)"
      ]
     },
     "execution_count": 56,
     "metadata": {},
     "output_type": "execute_result"
    }
   ],
   "source": [
    "torch.sum(pitch_out, dim=-1)"
   ]
  },
  {
   "cell_type": "code",
   "execution_count": 57,
   "id": "a022349b",
   "metadata": {},
   "outputs": [],
   "source": [
    "'''\n",
    "Test code with PackedSequence\n",
    "'''\n",
    "\n",
    "train_loader = DataLoader(train_set, batch_size=64, collate_fn=pack_collate, shuffle=True)\n",
    "batch = next(iter(train_loader))\n",
    "melody, shifted_melody = batch\n",
    "pitch_out, dur_out = model(melody)\n",
    "\n",
    "assert isinstance(pitch_out, type(melody)) and isinstance(dur_out, type(melody)), f\"Input of model was {type(melody)} but output is {type(pitch_out)}\"\n",
    "\n",
    "assert (pitch_out.batch_sizes == melody.batch_sizes).all(), \\\n",
    "          \"batch_sizes of input and output has to be the same\"\n",
    "assert len(pitch_out.data) == len(batch[0].data), \"Number of notes in input and output has to be the same\"\n",
    "assert (torch.abs(torch.sum(pitch_out.data, dim=-1)-1)<1e-5).all(), \\\n",
    "          \"Sum of probability of every pitch class has to be 1\"\n",
    "assert (torch.abs(torch.sum(dur_out.data, dim=-1)-1)<1e-5).all(), \\\n",
    "          \"Sum of probability of every duration class has to be 1\"  \n"
   ]
  },
  {
   "cell_type": "markdown",
   "id": "a734ec23",
   "metadata": {},
   "source": [
    "## Problem 6. Implement training loop (25 pts)\n",
    "- If you have succeeded in implementing model for PackedSequence, you can implement the training loop assuming that input batch is a PackedSequence\n",
    "- If not, you can implement the training loop using batch_size=1"
   ]
  },
  {
   "cell_type": "code",
   "execution_count": 58,
   "id": "c1d8d6c3",
   "metadata": {
    "scrolled": false
   },
   "outputs": [
    {
     "name": "stdout",
     "output_type": "stream",
     "text": [
      "prob_distribution: \n",
      "tensor([[0.2287, 0.2227, 0.5487],\n",
      "        [0.1301, 0.4690, 0.4010],\n",
      "        [0.3269, 0.0541, 0.6190],\n",
      "        [0.0923, 0.4633, 0.4444],\n",
      "        [0.2072, 0.6336, 0.1592],\n",
      "        [0.3624, 0.2194, 0.4182],\n",
      "        [0.1773, 0.3721, 0.4505],\n",
      "        [0.6786, 0.2615, 0.0598],\n",
      "        [0.2339, 0.5722, 0.1939],\n",
      "        [0.0827, 0.1324, 0.7848]]), \n",
      " correct_class for each datasample: \n",
      " tensor([[1],\n",
      "        [1],\n",
      "        [2],\n",
      "        [1],\n",
      "        [1],\n",
      "        [2],\n",
      "        [2],\n",
      "        [1],\n",
      "        [2],\n",
      "        [2]])\n",
      "Loss:  tensor([1.5020, 0.7572, 0.4797, 0.7693, 0.4563, 0.8718, 0.7973, 1.3412, 1.6403,\n",
      "        0.2423])\n"
     ]
    }
   ],
   "source": [
    "def get_cross_entropy_loss(prob_distribution, correct_class):\n",
    "  '''\n",
    "  This function takes predicted probability distrubtion and the corresponding correct_class.\n",
    "  \n",
    "  For example,  prob_distribution = [[0.2287, 0.2227, 0.5487], [0.1301, 0.4690, 0.4010]] means that\n",
    "  for 0th data sample, the predicted probability for 0th category is 0.2287, for 1st category is 0.2227, and for 2nd category is 0.5487,\n",
    "  and for 1st data sample, the predicted probability for 0th category is 0.1301, for 1st category is 0.4690, and for 2nd category is 0.4010,\n",
    "  \n",
    "  Cross entropy, which is -y*log(y_hat), can be regarded as negative log value of predicted probability for correct class (y==1).\n",
    "  If the given correct_class is [1, 2], the loss for 0th data sample becomes negative log of [0.2287, 0.2227, 0.5487][1], which is -torch.log(0.2227), \n",
    "  because the correct category for this sample was 1st category, and the predicted probability was 0.2227\n",
    "  And the loss for 1st data sample becomes negative log of [0.1301, 0.4690, 0.4010][2], which is -torch.log(0.4010),\n",
    "  because the correct category for this sample was 2nd category, and the predicted probability was 0.4010\n",
    "  \n",
    "  To make implementation easy, let's assume we have 2D tensor for prob_distribution and  1D tensor for correct_class\n",
    "   \n",
    "  Arguments:\n",
    "    prob_distribution (2D Tensor)\n",
    "    correct_class (1D Tensor)\n",
    "    \n",
    "  Return:\n",
    "    loss (torch.Tensor): Cross entropy loss for every data sample in prob_distrubition. Has a same shape with correct_class\n",
    "  \n",
    "  TODO: Complete this function\n",
    "  \n",
    "  Caution: When use torch.log(), don't forget to add small epsilon value (like 1e-6) to avoid infinity\n",
    "  Do not return the mean loss. Return loss that has same shape with correct_class\n",
    "  Try not to use for loop, or torch.nn.CrossEntropyLoss, or torch.nn.NLLLoss\n",
    "  \n",
    "  이 함수는 예측 확률 분포와 해당 correct_class를 사용합니다.\n",
    "  예를 들어 prob_distribution = [[0.2287, 0.2227, 0.5487], [0.1301, 0.4690, 0.4010]]은 다음을 의미합니다.\n",
    "  0번째 데이터 표본의 경우 0번째 범주의 예측 확률은 0.2287, 1번째 범주의 예측 확률은 0.227, 2번째 범주의 예측 확률은 0.5487입니다.\n",
    "  첫 번째 데이터 표본의 경우 0번째 범주의 예측 확률은 0.1301, 첫 번째 범주의 경우 0.4690, 두 번째 범주의 경우 0.4010입니다.\n",
    "  \n",
    "  Cross entropy, 즉 -y*log(y_hat)는 올바른 클래스에 대한 예측 확률의 음수 로그 값(y==1)으로 간주할 수 있습니다.\n",
    "  주어진 correct_class가 [1, 2]이면 0번째 데이터 샘플에 대한 손실은 -torch.log(0.2227)인 [0.2287, 0.2227, 0.5487][1]의 음의 로그가 됩니다. \n",
    "  이 표본에 대한 올바른 범주는 첫 번째 범주이고 예측 확률은 0.227이기 때문입니다.\n",
    "  그리고 1번째 데이터 표본의 손실은 [0.1301, 0.4690, 0.4010][2]의 음의 로그가 됩니다. 이는 -torch.log(0.4010)입니다.\n",
    "  이 표본에 대한 올바른 범주는 두 번째 범주이고 예측 확률은 0.4010이기 때문입니다.\n",
    "  \n",
    "  구현을 쉽게 하기 위해 prob_distribution에 대한 2D 텐서와 correct_class에 대한 1D 텐서가 있다고 가정합니다.\n",
    "  '''\n",
    "  assert prob_distribution.dim() == 2 and correct_class.dim() == 1, \"Let's assume we only take 2D tensor for prob_distribution and 1D tensor for correct_class\"\n",
    "  # Write your code from here\n",
    "  cross_entropy_loss = []\n",
    "  \n",
    "  for idx in range(len(prob_distribution)):\n",
    "    loss = -torch.log(prob_distribution[idx, correct_class[idx]])\n",
    "    cross_entropy_loss.append(loss)\n",
    "  \n",
    "  return torch.stack(cross_entropy_loss)\n",
    "\n",
    "torch.manual_seed(0)\n",
    "prob_distribution = torch.softmax(torch.randn([10, 3]), dim=-1)\n",
    "correct_class = torch.randint(0,3, [10])\n",
    "\n",
    "print(f\"prob_distribution: \\n{prob_distribution}, \\n correct_class for each datasample: \\n {correct_class.unsqueeze(1)}\")\n",
    "\n",
    "loss = get_cross_entropy_loss(prob_distribution, correct_class)\n",
    "print('Loss: ', loss)\n",
    "assert (torch.abs(loss-torch.Tensor([1.5020, 0.7572, 0.4797, 0.7693, 0.4563, 0.8718, 0.7973, 1.3412, 1.6403, 0.2423]))<1e-4).all(), \"Error in loss value\""
   ]
  },
  {
   "cell_type": "code",
   "execution_count": 63,
   "id": "963172fe",
   "metadata": {
    "scrolled": false
   },
   "outputs": [
    {
     "data": {
      "text/plain": [
       "tensor(3.7381, grad_fn=<MeanBackward0>)"
      ]
     },
     "execution_count": 63,
     "metadata": {},
     "output_type": "execute_result"
    }
   ],
   "source": [
    "def get_loss_for_single_batch(model, batch, device):\n",
    "  '''\n",
    "  This function takes model and batch and calculate Cross Entropy Loss for given batch.\n",
    "  \n",
    "  Arguments:\n",
    "    model (MelodyLanguageModel)\n",
    "    batch (batch collated by pack_collate): Tuple of (melody_batch, shifted_melody_batch)\n",
    "    device (str): cuda or cpu. In which device to calculate the batch\n",
    "    \n",
    "  Return:\n",
    "    loss (torch.Tensor): Calculated mean loss for given model and batch\n",
    "    \n",
    "  TODO: Complete this function using get_cross_entropy_loss().\n",
    "  Now you have to return the mean loss of every data sample in the batch \n",
    "  \n",
    "  Caution: You have to calculate loss for pitch, and loss for duration separately.\n",
    "  Then you can take average of pitch_loss and duration_loss\n",
    "  \n",
    "  Important Tip: If you are using PackedSequence, you can feed PackedSequence.data directly to get_cross_entropy_loss.\n",
    "  It makes the implementation much easier, because it doesn't need to reshape probabilty distribution to 2D and correct class to 1D.\n",
    "  \n",
    "  TODO: get_cross_entropy_loss()를 사용하여 이 함수를 완료합니다.\n",
    "  이제 배치에 있는 모든 데이터 샘플의 평균 손실을 반환해야 합니다. \n",
    "  \n",
    "  주의: 당신은 pitch_loss와 duration_loss을 따로 계산해야 합니다.\n",
    "  그러면 pitch_loss와 duration_loss의 평균을 구할 수 있습니다.\n",
    "  \n",
    "  참고: PackedSequence를 사용하는 경우 PackedSequence.data를 get_cross_entropy_loss에 직접 공급할 수 있습니다.\n",
    "  확률 분포를 2D로 재구성하고 클래스를 1D로 수정할 필요가 없기 때문에 구현이 훨씬 쉬워집니다.\n",
    "  '''\n",
    "  melody_batch, shifted_melody_batch = batch\n",
    "  melody_batch = melody_batch.to(device)\n",
    "  shifted_melody_batch = shifted_melody_batch.to(device)\n",
    "\n",
    "  pred_pitch, pred_dur = model(melody_batch)\n",
    "\n",
    "  target_pitch, target_dur = shifted_melody_batch.data[..., 0], shifted_melody_batch.data[..., 1]\n",
    "  pred_pitch = pred_pitch.data.to(device)\n",
    "  pred_loss = pred_pitch.data.to(device)\n",
    "\n",
    "  pitch_loss = get_cross_entropy_loss(pred_pitch.data, target_pitch)\n",
    "  dur_loss = get_cross_entropy_loss(pred_dur.data, target_dur)\n",
    "#   return torch.stack([pitch_loss.mean(), dur_loss.mean()]).mean()\n",
    "#   pitch_loss = pitch_loss.to(device)\n",
    "#   print(pitch_loss)\n",
    "  return torch.mean((pitch_loss.float()+dur_loss.float())/2)\n",
    "\n",
    "######################################### TODO 제출 전 고치기 #########################################\n",
    "# DEV = 'cuda' if torch.cuda.is_available() else 'mps' if torch.backends.mps.is_available() else 'cpu'\n",
    "# DEV = torch.device('mps:0')\n",
    "# DEV = 'mps'\n",
    "DEV = 'cuda' if torch.cuda.is_available() else 'cpu'\n",
    "model.to(DEV)\n",
    "batch = next(iter(train_loader))\n",
    "get_loss_for_single_batch(model, batch, device=DEV)\n",
    "\n",
    "# model.to('cuda')\n",
    "# batch = next(iter(train_loader))\n",
    "# get_loss_for_single_batch(model, batch, device='cuda')"
   ]
  },
  {
   "cell_type": "code",
   "execution_count": 64,
   "id": "9aeb02b8",
   "metadata": {},
   "outputs": [
    {
     "data": {
      "application/vnd.jupyter.widget-view+json": {
       "model_id": "052791a8348e4e439a1ff9615c12c2bf",
       "version_major": 2,
       "version_minor": 0
      },
      "text/plain": [
       "  0%|          | 0/30 [00:00<?, ?it/s]"
      ]
     },
     "metadata": {},
     "output_type": "display_data"
    },
    {
     "data": {
      "application/vnd.jupyter.widget-view+json": {
       "model_id": "a68d3b658c2e408288696e95b4b2df7c",
       "version_major": 2,
       "version_minor": 0
      },
      "text/plain": [
       "  0%|          | 0/113 [00:00<?, ?it/s]"
      ]
     },
     "metadata": {},
     "output_type": "display_data"
    },
    {
     "data": {
      "application/vnd.jupyter.widget-view+json": {
       "model_id": "80d04143951d4e6396d07d17a8075735",
       "version_major": 2,
       "version_minor": 0
      },
      "text/plain": [
       "  0%|          | 0/113 [00:00<?, ?it/s]"
      ]
     },
     "metadata": {},
     "output_type": "display_data"
    },
    {
     "data": {
      "application/vnd.jupyter.widget-view+json": {
       "model_id": "9f7d66db77264ef983d0b8ad445623ee",
       "version_major": 2,
       "version_minor": 0
      },
      "text/plain": [
       "  0%|          | 0/113 [00:00<?, ?it/s]"
      ]
     },
     "metadata": {},
     "output_type": "display_data"
    },
    {
     "data": {
      "application/vnd.jupyter.widget-view+json": {
       "model_id": "204103ee2fb849ccbb5e4788ef9d9ff0",
       "version_major": 2,
       "version_minor": 0
      },
      "text/plain": [
       "  0%|          | 0/113 [00:00<?, ?it/s]"
      ]
     },
     "metadata": {},
     "output_type": "display_data"
    },
    {
     "data": {
      "application/vnd.jupyter.widget-view+json": {
       "model_id": "7bd4fff7a0604e7da8cd75aa4a56753b",
       "version_major": 2,
       "version_minor": 0
      },
      "text/plain": [
       "  0%|          | 0/113 [00:00<?, ?it/s]"
      ]
     },
     "metadata": {},
     "output_type": "display_data"
    },
    {
     "data": {
      "application/vnd.jupyter.widget-view+json": {
       "model_id": "98d80696eb1f462eb83d3456d7402665",
       "version_major": 2,
       "version_minor": 0
      },
      "text/plain": [
       "  0%|          | 0/113 [00:00<?, ?it/s]"
      ]
     },
     "metadata": {},
     "output_type": "display_data"
    },
    {
     "data": {
      "application/vnd.jupyter.widget-view+json": {
       "model_id": "0c49338b0fa3418b984c76881049c6b7",
       "version_major": 2,
       "version_minor": 0
      },
      "text/plain": [
       "  0%|          | 0/113 [00:00<?, ?it/s]"
      ]
     },
     "metadata": {},
     "output_type": "display_data"
    },
    {
     "data": {
      "application/vnd.jupyter.widget-view+json": {
       "model_id": "1c7fc4b2f64d41f2ad271b5628bb264a",
       "version_major": 2,
       "version_minor": 0
      },
      "text/plain": [
       "  0%|          | 0/113 [00:00<?, ?it/s]"
      ]
     },
     "metadata": {},
     "output_type": "display_data"
    },
    {
     "data": {
      "application/vnd.jupyter.widget-view+json": {
       "model_id": "0299656acdc848059ed60bf4ffddfd73",
       "version_major": 2,
       "version_minor": 0
      },
      "text/plain": [
       "  0%|          | 0/113 [00:00<?, ?it/s]"
      ]
     },
     "metadata": {},
     "output_type": "display_data"
    },
    {
     "data": {
      "application/vnd.jupyter.widget-view+json": {
       "model_id": "77256be565044a6d919b7f7d621b38be",
       "version_major": 2,
       "version_minor": 0
      },
      "text/plain": [
       "  0%|          | 0/113 [00:00<?, ?it/s]"
      ]
     },
     "metadata": {},
     "output_type": "display_data"
    },
    {
     "data": {
      "application/vnd.jupyter.widget-view+json": {
       "model_id": "7254980cadab4a99833700cf635a1f6c",
       "version_major": 2,
       "version_minor": 0
      },
      "text/plain": [
       "  0%|          | 0/113 [00:00<?, ?it/s]"
      ]
     },
     "metadata": {},
     "output_type": "display_data"
    },
    {
     "data": {
      "application/vnd.jupyter.widget-view+json": {
       "model_id": "beb7a795e41143adacca99a2d8c2aa41",
       "version_major": 2,
       "version_minor": 0
      },
      "text/plain": [
       "  0%|          | 0/113 [00:00<?, ?it/s]"
      ]
     },
     "metadata": {},
     "output_type": "display_data"
    },
    {
     "data": {
      "application/vnd.jupyter.widget-view+json": {
       "model_id": "3a68871c3f6a426e8512ecf677c8a061",
       "version_major": 2,
       "version_minor": 0
      },
      "text/plain": [
       "  0%|          | 0/113 [00:00<?, ?it/s]"
      ]
     },
     "metadata": {},
     "output_type": "display_data"
    },
    {
     "data": {
      "application/vnd.jupyter.widget-view+json": {
       "model_id": "214e56bc062f4840825c213886f4cdd0",
       "version_major": 2,
       "version_minor": 0
      },
      "text/plain": [
       "  0%|          | 0/113 [00:00<?, ?it/s]"
      ]
     },
     "metadata": {},
     "output_type": "display_data"
    },
    {
     "data": {
      "application/vnd.jupyter.widget-view+json": {
       "model_id": "2657098a3aa6449ca1136f84ae68dcdd",
       "version_major": 2,
       "version_minor": 0
      },
      "text/plain": [
       "  0%|          | 0/113 [00:00<?, ?it/s]"
      ]
     },
     "metadata": {},
     "output_type": "display_data"
    },
    {
     "data": {
      "application/vnd.jupyter.widget-view+json": {
       "model_id": "d25ea0ec2bbd46459fd67daebbae7ecc",
       "version_major": 2,
       "version_minor": 0
      },
      "text/plain": [
       "  0%|          | 0/113 [00:00<?, ?it/s]"
      ]
     },
     "metadata": {},
     "output_type": "display_data"
    },
    {
     "data": {
      "application/vnd.jupyter.widget-view+json": {
       "model_id": "e84f9ae4f10d4555b456ec29169a7688",
       "version_major": 2,
       "version_minor": 0
      },
      "text/plain": [
       "  0%|          | 0/113 [00:00<?, ?it/s]"
      ]
     },
     "metadata": {},
     "output_type": "display_data"
    },
    {
     "data": {
      "application/vnd.jupyter.widget-view+json": {
       "model_id": "c184312f1b6e41bd9c3f4923aec2a2fa",
       "version_major": 2,
       "version_minor": 0
      },
      "text/plain": [
       "  0%|          | 0/113 [00:00<?, ?it/s]"
      ]
     },
     "metadata": {},
     "output_type": "display_data"
    },
    {
     "data": {
      "application/vnd.jupyter.widget-view+json": {
       "model_id": "c551225f597f40d3bdc9e366ed1725b4",
       "version_major": 2,
       "version_minor": 0
      },
      "text/plain": [
       "  0%|          | 0/113 [00:00<?, ?it/s]"
      ]
     },
     "metadata": {},
     "output_type": "display_data"
    },
    {
     "data": {
      "application/vnd.jupyter.widget-view+json": {
       "model_id": "2eb88a4241884d3992403df91f19a699",
       "version_major": 2,
       "version_minor": 0
      },
      "text/plain": [
       "  0%|          | 0/113 [00:00<?, ?it/s]"
      ]
     },
     "metadata": {},
     "output_type": "display_data"
    },
    {
     "data": {
      "application/vnd.jupyter.widget-view+json": {
       "model_id": "e24aa0a8fae24cb5982baa88f2db0d67",
       "version_major": 2,
       "version_minor": 0
      },
      "text/plain": [
       "  0%|          | 0/113 [00:00<?, ?it/s]"
      ]
     },
     "metadata": {},
     "output_type": "display_data"
    },
    {
     "data": {
      "application/vnd.jupyter.widget-view+json": {
       "model_id": "87bb39b254fb4501900d2b59a5281f30",
       "version_major": 2,
       "version_minor": 0
      },
      "text/plain": [
       "  0%|          | 0/113 [00:00<?, ?it/s]"
      ]
     },
     "metadata": {},
     "output_type": "display_data"
    },
    {
     "data": {
      "application/vnd.jupyter.widget-view+json": {
       "model_id": "5c68857958754dcbbc21f2acf20600d5",
       "version_major": 2,
       "version_minor": 0
      },
      "text/plain": [
       "  0%|          | 0/113 [00:00<?, ?it/s]"
      ]
     },
     "metadata": {},
     "output_type": "display_data"
    },
    {
     "data": {
      "application/vnd.jupyter.widget-view+json": {
       "model_id": "7a79995cf30248a196829fc1e5e5efe2",
       "version_major": 2,
       "version_minor": 0
      },
      "text/plain": [
       "  0%|          | 0/113 [00:00<?, ?it/s]"
      ]
     },
     "metadata": {},
     "output_type": "display_data"
    },
    {
     "data": {
      "application/vnd.jupyter.widget-view+json": {
       "model_id": "5bb69a513c6e4f7ca79f78408cc56370",
       "version_major": 2,
       "version_minor": 0
      },
      "text/plain": [
       "  0%|          | 0/113 [00:00<?, ?it/s]"
      ]
     },
     "metadata": {},
     "output_type": "display_data"
    },
    {
     "data": {
      "application/vnd.jupyter.widget-view+json": {
       "model_id": "b66621fb75e343869c3b095a27649f4c",
       "version_major": 2,
       "version_minor": 0
      },
      "text/plain": [
       "  0%|          | 0/113 [00:00<?, ?it/s]"
      ]
     },
     "metadata": {},
     "output_type": "display_data"
    },
    {
     "data": {
      "application/vnd.jupyter.widget-view+json": {
       "model_id": "e3b8b392413f4dfb897f7e22d2bb54ac",
       "version_major": 2,
       "version_minor": 0
      },
      "text/plain": [
       "  0%|          | 0/113 [00:00<?, ?it/s]"
      ]
     },
     "metadata": {},
     "output_type": "display_data"
    },
    {
     "data": {
      "application/vnd.jupyter.widget-view+json": {
       "model_id": "f0356b965fdd46dfa7ec5cd2de24f12c",
       "version_major": 2,
       "version_minor": 0
      },
      "text/plain": [
       "  0%|          | 0/113 [00:00<?, ?it/s]"
      ]
     },
     "metadata": {},
     "output_type": "display_data"
    },
    {
     "data": {
      "application/vnd.jupyter.widget-view+json": {
       "model_id": "1bf51250e3974e7fb3f4972b23e97324",
       "version_major": 2,
       "version_minor": 0
      },
      "text/plain": [
       "  0%|          | 0/113 [00:00<?, ?it/s]"
      ]
     },
     "metadata": {},
     "output_type": "display_data"
    },
    {
     "data": {
      "application/vnd.jupyter.widget-view+json": {
       "model_id": "d1c567d86c78439798b44e6199c7b67d",
       "version_major": 2,
       "version_minor": 0
      },
      "text/plain": [
       "  0%|          | 0/113 [00:00<?, ?it/s]"
      ]
     },
     "metadata": {},
     "output_type": "display_data"
    }
   ],
   "source": [
    "'''\n",
    "If you have implemented the previous function correctly, this code will train the model\n",
    "'''\n",
    "\n",
    "from tqdm.auto import tqdm\n",
    "\n",
    "######################################### TODO: 고치기 #########################################\n",
    "# DEV = 'cuda' if torch.cuda.is_available() else 'mps' if torch.backends.mps.is_available() else 'cpu'\n",
    "# DEV = 'mps'\n",
    "DEV = 'cuda' if torch.cuda.is_available() else 'cpu'# or cpu, but using cpu will be too slow\n",
    "model = MelodyLanguageModel(hidden_size, embed_size, entire_set.get_vocabs())\n",
    "optimizer = torch.optim.Adam(model.parameters(), lr=1e-3)\n",
    "num_epochs = 30\n",
    "\n",
    "model.to(DEV)\n",
    "loss_record = []\n",
    "valid_loss_record = []\n",
    "\n",
    "for epoch in tqdm(range(num_epochs)):\n",
    "  model.train()\n",
    "  for batch in tqdm(train_loader,leave=False):\n",
    "    loss = get_loss_for_single_batch(model, batch, device=DEV)\n",
    "    loss.backward()\n",
    "    \n",
    "    optimizer.step()\n",
    "    optimizer.zero_grad()\n",
    "    \n",
    "    loss_record.append(loss.item())\n",
    "    \n",
    "  # Validation\n",
    "  with torch.no_grad():\n",
    "    model.eval()\n",
    "    loss_for_entire_valid = 0\n",
    "    num_notes = 0\n",
    "    for batch in valid_loader:\n",
    "      loss = get_loss_for_single_batch(model, batch, device=DEV)\n",
    "      if isinstance(batch[0], PackedSequence):\n",
    "        n_note = len(batch[0].data)        \n",
    "      else:\n",
    "        n_note = batch[0].shape[1]\n",
    "        \n",
    "      loss_for_entire_valid += loss.item() * n_note\n",
    "      num_notes += n_note\n",
    "    valid_loss_record.append(loss_for_entire_valid/num_notes)"
   ]
  },
  {
   "cell_type": "code",
   "execution_count": 65,
   "id": "4be25b1c",
   "metadata": {},
   "outputs": [
    {
     "data": {
      "text/plain": [
       "[<matplotlib.lines.Line2D at 0x2ab85a970>]"
      ]
     },
     "execution_count": 65,
     "metadata": {},
     "output_type": "execute_result"
    },
    {
     "data": {
      "image/png": "[encoded data removed]",
      "text/plain": [
       "<Figure size 720x720 with 2 Axes>"
      ]
     },
     "metadata": {
      "image/png": {
       "height": 589,
       "width": 605
      },
      "needs_background": "light"
     },
     "output_type": "display_data"
    }
   ],
   "source": [
    "import matplotlib.pyplot as plt\n",
    "plt.figure(figsize=(10,10))\n",
    "plt.subplot(2,1,1)\n",
    "plt.title('Training Loss')\n",
    "plt.plot(loss_record)\n",
    "plt.subplot(2,1,2)\n",
    "plt.title('Validation Loss')\n",
    "plt.plot(valid_loss_record)"
   ]
  },
  {
   "cell_type": "code",
   "execution_count": 66,
   "id": "fa5d108a",
   "metadata": {},
   "outputs": [],
   "source": [
    "torch.save(model, './models/MIR_HW3-1.pt')"
   ]
  },
  {
   "cell_type": "code",
   "execution_count": 82,
   "id": "b3c6f09c",
   "metadata": {},
   "outputs": [],
   "source": [
    "model = torch.load('./models/MIR_HW3.pt')"
   ]
  },
  {
   "cell_type": "markdown",
   "id": "a5e96ed2",
   "metadata": {},
   "source": [
    "## Problem 7: Implement Generation (25 pts)\n",
    "- In this problem, you have to generate a new melody using the trained model\n",
    "- Melody language model can generate a new sequence by sampling a new note for each timestep, and feed the generated new note again to the model to predict the next note\n",
    "\n"
   ]
  },
  {
   "cell_type": "markdown",
   "id": "a3cd915d",
   "metadata": {},
   "source": [
    "### Problem 7-1: Implement model inference (15 pts)\n",
    "- Inference in Language model is little bit different from an ordniary forward loop during the training.\n",
    "    - While training, you have entire sequence, from beginning to end.\n",
    "    - During the inference, you have to generate one note, and then feed it as an input for the next step\n",
    "- You have to implement given functions one by one to complete `generate()`"
   ]
  },
  {
   "cell_type": "code",
   "execution_count": 83,
   "id": "2afa1675",
   "metadata": {},
   "outputs": [
    {
     "name": "stdout",
     "output_type": "stream",
     "text": [
      "input_vec: \n",
      "tensor([[[38., 44.]],\n",
      "\n",
      "        [[38., 44.]]]) \n",
      " initial_hidden: \n",
      " tensor([[[0., 0., 0., 0., 0., 0., 0., 0., 0., 0., 0., 0., 0., 0., 0., 0., 0., 0., 0., 0., 0., 0., 0.,\n",
      "          0., 0., 0., 0., 0., 0., 0., 0., 0., 0., 0., 0., 0., 0., 0., 0., 0., 0., 0., 0., 0., 0., 0.,\n",
      "          0., 0., 0., 0., 0., 0., 0., 0., 0., 0., 0., 0., 0., 0., 0., 0., 0., 0.],\n",
      "         [0., 0., 0., 0., 0., 0., 0., 0., 0., 0., 0., 0., 0., 0., 0., 0., 0., 0., 0., 0., 0., 0., 0.,\n",
      "          0., 0., 0., 0., 0., 0., 0., 0., 0., 0., 0., 0., 0., 0., 0., 0., 0., 0., 0., 0., 0., 0., 0.,\n",
      "          0., 0., 0., 0., 0., 0., 0., 0., 0., 0., 0., 0., 0., 0., 0., 0., 0., 0.]],\n",
      "\n",
      "        [[0., 0., 0., 0., 0., 0., 0., 0., 0., 0., 0., 0., 0., 0., 0., 0., 0., 0., 0., 0., 0., 0., 0.,\n",
      "          0., 0., 0., 0., 0., 0., 0., 0., 0., 0., 0., 0., 0., 0., 0., 0., 0., 0., 0., 0., 0., 0., 0.,\n",
      "          0., 0., 0., 0., 0., 0., 0., 0., 0., 0., 0., 0., 0., 0., 0., 0., 0., 0.],\n",
      "         [0., 0., 0., 0., 0., 0., 0., 0., 0., 0., 0., 0., 0., 0., 0., 0., 0., 0., 0., 0., 0., 0., 0.,\n",
      "          0., 0., 0., 0., 0., 0., 0., 0., 0., 0., 0., 0., 0., 0., 0., 0., 0., 0., 0., 0., 0., 0., 0.,\n",
      "          0., 0., 0., 0., 0., 0., 0., 0., 0., 0., 0., 0., 0., 0., 0., 0., 0., 0.]],\n",
      "\n",
      "        [[0., 0., 0., 0., 0., 0., 0., 0., 0., 0., 0., 0., 0., 0., 0., 0., 0., 0., 0., 0., 0., 0., 0.,\n",
      "          0., 0., 0., 0., 0., 0., 0., 0., 0., 0., 0., 0., 0., 0., 0., 0., 0., 0., 0., 0., 0., 0., 0.,\n",
      "          0., 0., 0., 0., 0., 0., 0., 0., 0., 0., 0., 0., 0., 0., 0., 0., 0., 0.],\n",
      "         [0., 0., 0., 0., 0., 0., 0., 0., 0., 0., 0., 0., 0., 0., 0., 0., 0., 0., 0., 0., 0., 0., 0.,\n",
      "          0., 0., 0., 0., 0., 0., 0., 0., 0., 0., 0., 0., 0., 0., 0., 0., 0., 0., 0., 0., 0., 0., 0.,\n",
      "          0., 0., 0., 0., 0., 0., 0., 0., 0., 0., 0., 0., 0., 0., 0., 0., 0., 0.]]])\n"
     ]
    }
   ],
   "source": [
    "def get_initial_input_and_hidden_state(model, batch_size=1):\n",
    "  '''\n",
    "  This function generates initial input vector and hidden state for model's GRU\n",
    "  \n",
    "  To generate a new sequence, you have to provide initial seed token, which is ['start', 'start'].\n",
    "  You have to make a initial vector that has [pitch_category_index_of_'start', duration_category_index_of_'start']\n",
    "  \n",
    "  You also have to initial hidden state for the model's RNN.\n",
    "  In uni-directional RNN(or GRU), hidden state of RNN has to be a zero tensor with shape of (num_layers, batch_size, hidden_size)\n",
    "\n",
    "  \n",
    "  Argument:\n",
    "    model (MelodyLanguageModel)\n",
    "    \n",
    "  Returns:\n",
    "    initial_input_vec (torch.Tensor): Has a shape of [batch_size, 1 (timestep), 2]\n",
    "    initial_hidden (torch.Tensor): Has a shape of [num_layers, bach_size, hidden_size]\n",
    "    \n",
    "  TODO: Complete this function\n",
    "  \n",
    "  이 함수는 모델의 GRU에 대한 초기 입력 벡터와 숨겨진 상태를 생성합니다.\n",
    "  \n",
    "  새 시퀀스를 생성하려면 초기 시드 토큰(['start', 'start'])을 제공해야 합니다.\n",
    "  초기 벡터는 [pitch_category_index_of_'start', duration_category_index_of_'start']로 만들어야 합니다.\n",
    "  \n",
    "  모델의 RNN에 대한 초기 숨김 상태도 지정해야 합니다.\n",
    "  단방향 RNN(또는 GRU)에서 RNN의 숨겨진 상태는 (num_layers, batch_size, hidden_size)의 모양을 가진 0 텐서여야 합니다.\n",
    "\n",
    "  '''\n",
    "  initial_token = [[model.pitch2idx['start'], model.dur2idx['start']]]\n",
    "  initial_input_vec = torch.Tensor([initial_token]*batch_size)\n",
    "\n",
    "  initial_hidden = torch.zeros((model.num_layers, batch_size, model.hidden_size))\n",
    "  return initial_input_vec, initial_hidden\n",
    "\n",
    "batch_size = 2\n",
    "input_vec, initial_hidden = get_initial_input_and_hidden_state(model, batch_size=batch_size)\n",
    "print(f'input_vec: \\n{input_vec} \\n initial_hidden: \\n {initial_hidden}')\n",
    "\n",
    "assert input_vec.ndim == 3\n",
    "assert initial_hidden.ndim == 3\n",
    "assert input_vec.shape == (batch_size, 1, 2)\n",
    "assert initial_hidden.shape == (model.num_layers, batch_size, model.hidden_size)"
   ]
  },
  {
   "cell_type": "markdown",
   "id": "589c5e91",
   "metadata": {},
   "source": [
    "### Hint: Sampling from distribution\n",
    "- The language model predict probability distribution of pitch and duration for  upcoming note\n",
    "- To do that, you have to know how to sample a result from a given probability distribution\n",
    "- In PyTorch, you can use `atensor.multinomial(num_samples)`\n",
    "    - In this assignment you don't have to sample more than 1, but \n",
    "    - multinomial(num_samples=100, replacement=False) means that you want to sample 100 samples without overlapping category\n",
    "        - Thus, the total class has to be larger than 100, because you cannot sample a single category multiple time\n",
    "    - multinomial(num_samples=100, replacement=True) means that you will sample 100 from the distrubtion independently"
   ]
  },
  {
   "cell_type": "code",
   "execution_count": 84,
   "id": "23845568",
   "metadata": {},
   "outputs": [
    {
     "name": "stdout",
     "output_type": "stream",
     "text": [
      "tensor([4, 2, 1, 4, 2, 2, 1, 1, 1, 1, 1, 1, 1, 2, 1, 1, 1, 1, 2, 2])\n"
     ]
    },
    {
     "data": {
      "text/plain": [
       "Counter({4: 1576, 2: 2035, 1: 4989, 3: 438, 0: 962})"
      ]
     },
     "execution_count": 84,
     "metadata": {},
     "output_type": "execute_result"
    }
   ],
   "source": [
    "from collections import Counter\n",
    "'''\n",
    "Example of sampling a result from a given probability distribution\n",
    "'''\n",
    "\n",
    "dummy_prob_distribution = torch.Tensor([0.1, 0.5, 0.2, 0.05, 0.15])\n",
    "sampled_out = dummy_prob_distribution.multinomial(num_samples=10000, replacement=True)\n",
    "print(sampled_out[:20])\n",
    "Counter(sampled_out.tolist()) # Number of each category sampled is almost same as num_samples * probability"
   ]
  },
  {
   "cell_type": "code",
   "execution_count": 85,
   "id": "15fef28a",
   "metadata": {
    "scrolled": true
   },
   "outputs": [
    {
     "name": "stdout",
     "output_type": "stream",
     "text": [
      "out_note: \n",
      "tensor([[[ 2., 10.]]]) \n",
      " last_hidden: \n",
      " tensor([[[0., 0., 0., 0., 0., 0., 0., 0., 0., 0., 0., 0., 0., 0., 0., 0., 0., 0., 0., 0., 0., 0., 0.,\n",
      "          0., 0., 0., 0., 0., 0., 0., 0., 0., 0., 0., 0., 0., 0., 0., 0., 0., 0., 0., 0., 0., 0., 0.,\n",
      "          0., 0., 0., 0., 0., 0., 0., 0., 0., 0., 0., 0., 0., 0., 0., 0., 0., 0.]],\n",
      "\n",
      "        [[0., 0., 0., 0., 0., 0., 0., 0., 0., 0., 0., 0., 0., 0., 0., 0., 0., 0., 0., 0., 0., 0., 0.,\n",
      "          0., 0., 0., 0., 0., 0., 0., 0., 0., 0., 0., 0., 0., 0., 0., 0., 0., 0., 0., 0., 0., 0., 0.,\n",
      "          0., 0., 0., 0., 0., 0., 0., 0., 0., 0., 0., 0., 0., 0., 0., 0., 0., 0.]],\n",
      "\n",
      "        [[0., 0., 0., 0., 0., 0., 0., 0., 0., 0., 0., 0., 0., 0., 0., 0., 0., 0., 0., 0., 0., 0., 0.,\n",
      "          0., 0., 0., 0., 0., 0., 0., 0., 0., 0., 0., 0., 0., 0., 0., 0., 0., 0., 0., 0., 0., 0., 0.,\n",
      "          0., 0., 0., 0., 0., 0., 0., 0., 0., 0., 0., 0., 0., 0., 0., 0., 0., 0.]]])\n"
     ]
    }
   ],
   "source": [
    "def predict_single_step(model, cur_input, prev_hidden):\n",
    "  '''\n",
    "  This function runs MelodyLangaugeModel just for one step, for the given current input and previous hidden state.\n",
    "  \n",
    "  Arguments:\n",
    "    model (MelodyLanguageModel)\n",
    "    cur_input (torch.LongTensor): Input for the current time step. Has a shape of (batch_size=1, 1 (timestep), 2)\n",
    "    prev_hidden (torch.Tensor): Hidden state of RNN after previous timestep\n",
    "\n",
    "  Returns:\n",
    "    cur_output (torch.LongTensor): Sampled note [pitch_category_idx, duration_category_idx] from the predicted probability distribution, with shape of [1,1,2]\n",
    "    last_hidden (torch.Tensor): Hidden state of RNN\n",
    "  Think about running the model.forward() step-by-step.\n",
    "  \n",
    "  input_seq → self.get_concat_embedding → self.rnn → self.final_layer → torch.softmax for [pitch, duration] → sampled [pitch, duration]\n",
    "  \n",
    "  ######\n",
    "  이 함수는 주어진 current input과 previous hidden state에 대해 1 step동안 MelodyLanguageModel을 실행합니다.\n",
    "  Returns:\n",
    "    cur_output (torch.LongTensor): 예측 확률 분포에서 [1,1,2] 모양의 노트 [pitch_category_idx, duration_category_idx]를 샘플링\n",
    "    last_hidden (torch.Tensor): Hidden state of RNN\n",
    "\n",
    "  '''\n",
    "  out_pitch, out_dur = model.forward(cur_input.long())\n",
    "\n",
    "  prob_pitch, idx_pitch = out_pitch.max(2)\n",
    "  prob_dur, idx_dur = out_dur.max(2)\n",
    "  \n",
    "  cur_output = torch.Tensor([[[idx_pitch, idx_dur]]])\n",
    "  \n",
    "#   pitch = model.idx2pitch[idx_pitch]\n",
    "#   dur = model.idx2dur[idx_dur]\n",
    "\n",
    "#   cur_output = torch.Tensor([[[pitch, dur]]])\n",
    "  last_hidden = prev_hidden\n",
    "  return cur_output, last_hidden\n",
    "\n",
    "input_vec, initial_hidden = get_initial_input_and_hidden_state(model, batch_size=1)\n",
    "out_note, last_hidden = predict_single_step(model, input_vec, initial_hidden)\n",
    "print(f'out_note: \\n{out_note} \\n last_hidden: \\n {last_hidden}')\n",
    "\n",
    "assert out_note.ndim == 3\n",
    "assert last_hidden.ndim == 3\n",
    "assert out_note.shape == (1,1,2)\n",
    "\n",
    "assert len(set([predict_single_step(model, input_vec, initial_hidden)[0] for i in range(5)]))==5, 'Generated output has to be different based on random sampling'"
   ]
  },
  {
   "cell_type": "code",
   "execution_count": 86,
   "id": "5d87107f",
   "metadata": {},
   "outputs": [
    {
     "name": "stdout",
     "output_type": "stream",
     "text": [
      "False\n"
     ]
    }
   ],
   "source": [
    "def is_end_token(model, cur_output):\n",
    "  '''\n",
    "  During the generation, there is a possibility that the generated note predicted 'end' token for either pitch or duration.\n",
    "  (In fact, model can even estimate 'start' token during the generation even though it has very low probability)\n",
    "  \n",
    "  Using information among (model.pitch2idx, model.dur2idx, model.idx2pitch, model.idx2dur, model.num_pitch, model.num_dur), check whether \n",
    "  \n",
    "  Arguments:\n",
    "    model (MelodyLanguageModel)\n",
    "    cur_output (torch.LongTensor): Assume it has shape of [1,1,2 (pitch_idx, duration_idx)]\n",
    "  \n",
    "  Return:\n",
    "    is_end_token (bool): True if cur_output include category index such as 'start' or 'end',\n",
    "                          else False.\n",
    "                          \n",
    "  TODO: Complete this function\n",
    "  '''\n",
    "  idx_pitch = cur_output[..., 0].long()\n",
    "  idx_dur = cur_output[..., 1].long()\n",
    "    \n",
    "  pitch = model.idx2pitch[idx_pitch]\n",
    "  dur = model.idx2dur[idx_dur]\n",
    "  \n",
    "  is_end_token = False\n",
    "  if pitch == 'start' or pitch == 'end' or dur == 'start' or dur == 'end':\n",
    "    is_end_token = True\n",
    "    \n",
    "  return is_end_token\n",
    "\n",
    "print(is_end_token(model, out_note))\n",
    "\n",
    "assert not is_end_token(model, torch.LongTensor([[[10, 7]]]))\n",
    "assert is_end_token(model, torch.LongTensor([[[38, 40]]]))\n",
    "assert is_end_token(model, torch.LongTensor([[[25, 44]]]))\n",
    "assert is_end_token(model, torch.LongTensor([[[39, 41]]]))"
   ]
  },
  {
   "cell_type": "code",
   "execution_count": 87,
   "id": "c079ad9f",
   "metadata": {
    "scrolled": true
   },
   "outputs": [
    {
     "name": "stdout",
     "output_type": "stream",
     "text": [
      "tensor([[[ 2., 10.]]])\n",
      "tensor([[[35., 10.]]])\n",
      "tensor([[[39., 10.]]])\n",
      "gen_out: \n",
      " tensor([[ 2, 10],\n",
      "        [35, 10]])\n"
     ]
    }
   ],
   "source": [
    "model.cpu()\n",
    "\n",
    "def generate(model, random_seed=0):\n",
    "  '''\n",
    "  This function generates a new melody sequence with a given model and random_seed.\n",
    "  \n",
    "  Arguments:\n",
    "    model (MelodyLanguageModel)\n",
    "    random_seed (int): Language model's inference will always generate different result, because it uses random sampling for the prediction.\n",
    "                       Therefore, if you want to reproduce the same generation result, you have to fix random_seed.\n",
    "  \n",
    "  Returns:\n",
    "    generated_note_sequence (torch.LongTensor): Has a shape of [num_generated_notes, 2]\n",
    "  \n",
    "  TODO: Complete this function using get_initial_input_and_hidden_state(), predict_single_step(), is_end_token()\n",
    "  \n",
    "  Hint: You can use while loop\n",
    "        You have to track the generated single note in a list or somewhere. \n",
    "        \n",
    "  Arguments:\n",
    "    model (MelodyLanguageModel)\n",
    "    random_seed(int): 언어 모델의 추론은 예측에 랜덤 표본을 사용하기 때문에 항상 다른 결과를 생성합니다.\n",
    "                       따라서 동일한 생성 결과를 재현하려면 random_seed를 고정해야 합니다.\n",
    "  \n",
    "  Returns:\n",
    "    generated_note_sequence (torch.LongTensor): Has a shape of [num_generated_notes, 2]\n",
    "  \n",
    "  TODO: get_initial_input_and_hidden_state(), predict_single_step(), is_end_token()을 사용하여 이 함수를 완료합니다.\n",
    "  \n",
    "  [!] 힌트: while loop을 사용할 수 있습니다.\n",
    "        생성된 단일 노트를 목록이나 다른 곳에서 추적해야 합니다.\n",
    "  '''\n",
    "  \n",
    "  torch.manual_seed(random_seed) # To reproduce the result, we have to control random sequence\n",
    "  \n",
    "  '''\n",
    "  Write your code from here\n",
    "  '''\n",
    "  input_vec, initial_hidden = get_initial_input_and_hidden_state(model)\n",
    "  out_note, last_hidden = input_vec, initial_hidden\n",
    "  generated_note_sequence = []\n",
    "  while True:\n",
    "    out_note, last_hidden = predict_single_step(model, out_note, last_hidden)\n",
    "    print(out_note)\n",
    "    if is_end_token(model, out_note):\n",
    "      break\n",
    "    generated_note_sequence.append(out_note.flatten().long().tolist())\n",
    "\n",
    "      \n",
    "  return torch.LongTensor(generated_note_sequence)\n",
    "\n",
    "gen_out = generate(model)\n",
    "print(f\"gen_out: \\n {gen_out}\")\n",
    "\n",
    "assert isinstance(gen_out, torch.LongTensor), f\"output of generate() has to be torch.LongTensor, not {type(gen_out)}\"\n",
    "assert gen_out.ndim == 2, f\"output of generate() has to be 2D tensor, not {gen_out.ndim}D tensor\"\n",
    "assert gen_out.shape[1] == 2"
   ]
  },
  {
   "cell_type": "markdown",
   "id": "e681a9e5",
   "metadata": {},
   "source": [
    "### Problem 7-2. Convert neural network's prediction to music score (10 pts)\n",
    "- Even though neural network has succeeded in generating a new sequence, it is just a sequence of index that neural network uses\n",
    "    - For example, generated note event [17, 10] means that this note has pitch value of 17th pitch category and duration value of 10th duration category\n",
    "- We have to convert categorical index to original value\n",
    "    - We saved this information as `idx2pitch`, `idx2dur` while we declared the dataset"
   ]
  },
  {
   "cell_type": "code",
   "execution_count": 88,
   "id": "3f6f18b2",
   "metadata": {},
   "outputs": [],
   "source": [
    "def convert_idx_pred_to_origin(pred:torch.Tensor, idx2pitch:list, idx2dur:list):\n",
    "  '''\n",
    "  This function convert neural net's output index to original pitch value (MIDI Pitch) and duration value \n",
    "  \n",
    "  Argument:\n",
    "    pred: generated output of the model. Has a shape of [num_notes, 2]. \n",
    "          0th dimension of each note represents pitch category index \n",
    "          and 1st dimension of each note represents duration category index\n",
    "  \n",
    "  Return:\n",
    "    converted_out (torch.Tensor): Has a same shape with 'pred'.\n",
    "    \n",
    "  TODO: Complete this function\n",
    "  '''\n",
    "  converted_out = []\n",
    "  for x in pred:\n",
    "    pitch, dur = idx2pitch[x[0]], idx2dur[x[1]]\n",
    "    converted_out.append([pitch, dur])\n",
    "  return torch.Tensor(converted_out)\n",
    "\n",
    "converted_out = convert_idx_pred_to_origin(gen_out, model.idx2pitch, model.idx2dur)\n",
    "assert converted_out.shape == gen_out.shape"
   ]
  },
  {
   "cell_type": "code",
   "execution_count": 89,
   "id": "2be29831",
   "metadata": {},
   "outputs": [
    {
     "data": {
      "text/plain": [
       "array([[   0,   72,   24,   64],\n",
       "       [  24,   72,   24,   64],\n",
       "       [  48,   77,   12,   64],\n",
       "       [  60,   72,   24,   64],\n",
       "       [  84,   70,   12,   64],\n",
       "       [  96,   67,   12,   64],\n",
       "       [ 108,   72,   12,   64],\n",
       "       [ 120,   63,   12,   64],\n",
       "       [ 132,   65,   12,   64],\n",
       "       [ 144,   67,   48,   64],\n",
       "       [ 192,   72,   24,   64],\n",
       "       [ 216,   72,   24,   64],\n",
       "       [ 240,   77,   12,   64],\n",
       "       [ 252,   72,   24,   64],\n",
       "       [ 276,   70,   12,   64],\n",
       "       [ 288,   67,   12,   64],\n",
       "       [ 300,   72,   12,   64],\n",
       "       [ 312,   63,   12,   64],\n",
       "       [ 324,   65,   12,   64],\n",
       "       [ 336,   67,   48,   64],\n",
       "       [ 384,   77,   12,   64],\n",
       "       [ 396,   74,   12,   64],\n",
       "       [ 408,   77,   18,   64],\n",
       "       [ 426,   74,    6,   64],\n",
       "       [ 432,   72,   12,   64],\n",
       "       [ 444,   77,   12,   64],\n",
       "       [ 456,   74,   12,   64],\n",
       "       [ 468,   77,   12,   64],\n",
       "       [ 480,   72,   24,   64],\n",
       "       [ 504,   70,   12,   64],\n",
       "       [ 516,   67,   12,   64],\n",
       "       [ 528,   72,   48,   64],\n",
       "       [ 576,   67,   12,   64],\n",
       "       [ 588,   67,    6,   64],\n",
       "       [ 594,   67,    6,   64],\n",
       "       [ 600,   67,   12,   64],\n",
       "       [ 612,   72,   12,   64],\n",
       "       [ 624,   67,   12,   64],\n",
       "       [ 636,   65,   12,   64],\n",
       "       [ 648,   63,   12,   64],\n",
       "       [ 660,   62,   12,   64],\n",
       "       [ 672,   60,   48,   64],\n",
       "       [ 720,   65,   12,   64],\n",
       "       [ 732,   63,   24,   64],\n",
       "       [ 756,   65,   12,   64],\n",
       "       [ 768,   67,   48,   64],\n",
       "       [ 816,   72,   48,   64],\n",
       "       [ 864,   67,   24,   64],\n",
       "       [ 888,   69,   12,   64],\n",
       "       [ 900,   67,   12,   64],\n",
       "       [ 912,   65,   36,   64],\n",
       "       [ 948,   69,   12,   64],\n",
       "       [ 960,   67,   12,   64],\n",
       "       [ 972,   65,   12,   64],\n",
       "       [ 984,   63,   12,   64],\n",
       "       [ 996,   62,   12,   64],\n",
       "       [1008,   60,   48,   64]])"
      ]
     },
     "execution_count": 89,
     "metadata": {},
     "output_type": "execute_result"
    }
   ],
   "source": [
    "'''\n",
    "To solve the next problem, you have to know how note_representation looks like in muspy.\n",
    "\n",
    "In note representation, each note is represented as [start_timestep, pitch, duration, velocity]\n",
    "\n",
    "'''\n",
    "note_repr_example = train_set.dataset[0]\n",
    "note_repr_example"
   ]
  },
  {
   "cell_type": "code",
   "execution_count": 90,
   "id": "e067efdf",
   "metadata": {
    "scrolled": true
   },
   "outputs": [
    {
     "data": {
      "text/plain": [
       "array([[ 64,  50,  12,  64],\n",
       "       [128,  83,  12,  64]])"
      ]
     },
     "execution_count": 90,
     "metadata": {},
     "output_type": "execute_result"
    }
   ],
   "source": [
    "def convert_pitch_dur_to_note_representation(pitch_dur:torch.LongTensor):\n",
    "  '''\n",
    "  This function takes pitch_dur (shape of [num_notes, 2]) and returns the corresponding note representation (shape of [num_notes, 4])\n",
    "  In note representation, each note is represented as [start_timestep, pitch, duration, velocity]\n",
    "  \n",
    "  Since our generation is monophonic, you can regard start_timestep starts from 0 and accumulate the duration of note.\n",
    "  You can fix velocity to 64.\n",
    "  \n",
    "  \n",
    "  Arguments:\n",
    "    pitch_dur: LongTensor of note where each note represented as pitch and duration value\n",
    "    \n",
    "  return:\n",
    "    note_repr: numpy.Array with shape of [num_notes, 4]\n",
    "               each note has value of [start_timestep, pitch, duration, velocity]\n",
    "\n",
    "  TODO: Complete this function\n",
    "  Hint: You can use torch.cumsum() to accumulate the duration.\n",
    "  To convert torch tensor to numpy, you can use atensor.numpy()\n",
    "  \n",
    "  이 함수는 pitch_dur([num_notes, 2]의 모양)를 사용하고 해당 음표 표현([num_notes, 4]의 모양)을 반환합니다.\n",
    "  노트 표현에서 각 노트는 [start_timestep, 피치, 지속 시간, 속도]로 표현됩니다.\n",
    "  \n",
    "  우리 세대는 단음파이기 때문에 start_timestep starts를 0에서 시작하여 음의 지속시간을 누적시킬 수 있습니다.\n",
    "  속도를 64로 고정할 수 있습니다.\n",
    "  \n",
    "  \n",
    "  인수:\n",
    "    pitch_dur: 각 음이 피치 및 지속 시간 값으로 표시되는 노트의 LongTensor입니다.\n",
    "    \n",
    "  반환하십시오.\n",
    "    note_repr: numpy입니다.모양이 [num_notes, 4]인 배열입니다.\n",
    "               각 노트의 값은 [start_contip, 피치, 지속 시간, 속도]입니다.\n",
    "\n",
    "  TODO: 이 기능을 완료합니다.\n",
    "  힌트: torch.cumsum()을 사용하여 기간을 누적할 수 있습니다.\n",
    "  토치 텐서를 numpy로 변환하려면 텐서를 사용할 수 있습니\n",
    "  \n",
    "  '''\n",
    "#   print(pitch_dur)\n",
    "  timestep = torch.cumsum(torch.Tensor([64]*len(pitch_dur)), dim=0)\n",
    "  velocity = torch.Tensor([64]*len(pitch_dur))\n",
    "  note_repr = torch.stack([timestep, pitch_dur[...,0], pitch_dur[...,1], velocity], dim=-1).long()\n",
    "#   print(f'note_repr: {note_repr}')\n",
    "  return note_repr.numpy()\n",
    "\n",
    "note_repr = convert_pitch_dur_to_note_representation(converted_out)\n",
    "note_repr"
   ]
  },
  {
   "cell_type": "markdown",
   "id": "b66d9303",
   "metadata": {},
   "source": [
    "## Generation: Visualize and synthesize the generated result (10 pts)\n",
    "- Try to generate different melody using different `random_seed`\n",
    "- In your submission, include **Three** examples of your favorite among the generated results in wav\n",
    "    - You have to install soundfont and music font using \n",
    "        - `muspy.download_bravura_font()`\n",
    "        - `muspy.download_musescore_soundfont()`\n",
    "    - You may need fluidsynth to synthesize the sound.\n",
    "        - In colab, `!sudo apt-get install fluidsynth` will work\n",
    "        - In other Ubuntu os, `sudo apt-get update` and then `sudo apt-get install fluidsynth` will work"
   ]
  },
  {
   "cell_type": "code",
   "execution_count": null,
   "id": "0d71a3d7",
   "metadata": {
    "scrolled": true
   },
   "outputs": [],
   "source": [
    "import IPython.display as ipd\n",
    "\n",
    "gen_music = muspy.from_note_representation(note_repr)\n",
    "gen_music.show_score()\n",
    "\n",
    "gen_audio = gen_music.synthesize().T\n",
    "ipd.Audio(gen_audio/2**15, rate=44100)"
   ]
  },
  {
   "cell_type": "markdown",
   "id": "44f9a3cb",
   "metadata": {},
   "source": [
    "- Try with different random seed and generate interesting melodies"
   ]
  },
  {
   "cell_type": "code",
   "execution_count": 254,
   "id": "f300bd4b",
   "metadata": {},
   "outputs": [
    {
     "ename": "FileNotFoundError",
     "evalue": "[Errno 2] No such file or directory: 'fluidsynth'",
     "output_type": "error",
     "traceback": [
      "\u001b[0;31m---------------------------------------------------------------------------\u001b[0m",
      "\u001b[0;31mFileNotFoundError\u001b[0m                         Traceback (most recent call last)",
      "Input \u001b[0;32mIn [254]\u001b[0m, in \u001b[0;36m<module>\u001b[0;34m\u001b[0m\n\u001b[1;32m     11\u001b[0m gen_music \u001b[38;5;241m=\u001b[39m generate_muspy_music(model, random_seed\u001b[38;5;241m=\u001b[39m\u001b[38;5;241m2\u001b[39m)\n\u001b[1;32m     12\u001b[0m gen_music\u001b[38;5;241m.\u001b[39mshow_score()\n\u001b[0;32m---> 13\u001b[0m gen_audio \u001b[38;5;241m=\u001b[39m \u001b[43mgen_music\u001b[49m\u001b[38;5;241;43m.\u001b[39;49m\u001b[43msynthesize\u001b[49m\u001b[43m(\u001b[49m\u001b[43m)\u001b[49m\u001b[38;5;241m.\u001b[39mT\n\u001b[1;32m     14\u001b[0m ipd\u001b[38;5;241m.\u001b[39mAudio(gen_audio\u001b[38;5;241m/\u001b[39m\u001b[38;5;241m2\u001b[39m\u001b[38;5;241m*\u001b[39m\u001b[38;5;241m*\u001b[39m\u001b[38;5;241m15\u001b[39m, rate\u001b[38;5;241m=\u001b[39m\u001b[38;5;241m44100\u001b[39m)\n",
      "File \u001b[0;32m/opt/homebrew/lib/python3.9/site-packages/muspy/music.py:652\u001b[0m, in \u001b[0;36mMusic.synthesize\u001b[0;34m(self, **kwargs)\u001b[0m\n\u001b[1;32m    646\u001b[0m \u001b[38;5;28;01mdef\u001b[39;00m \u001b[38;5;21msynthesize\u001b[39m(\u001b[38;5;28mself\u001b[39m, \u001b[38;5;241m*\u001b[39m\u001b[38;5;241m*\u001b[39mkwargs) \u001b[38;5;241m-\u001b[39m\u001b[38;5;241m>\u001b[39m ndarray:\n\u001b[1;32m    647\u001b[0m     \u001b[38;5;124;03m\"\"\"Synthesize a Music object to raw audio.\u001b[39;00m\n\u001b[1;32m    648\u001b[0m \n\u001b[1;32m    649\u001b[0m \u001b[38;5;124;03m    Refer to :func:`muspy.synthesize` for full documentation.\u001b[39;00m\n\u001b[1;32m    650\u001b[0m \n\u001b[1;32m    651\u001b[0m \u001b[38;5;124;03m    \"\"\"\u001b[39;00m\n\u001b[0;32m--> 652\u001b[0m     \u001b[38;5;28;01mreturn\u001b[39;00m \u001b[43msynthesize\u001b[49m\u001b[43m(\u001b[49m\u001b[38;5;28;43mself\u001b[39;49m\u001b[43m,\u001b[49m\u001b[43m \u001b[49m\u001b[38;5;241;43m*\u001b[39;49m\u001b[38;5;241;43m*\u001b[39;49m\u001b[43mkwargs\u001b[49m\u001b[43m)\u001b[49m\n",
      "File \u001b[0;32m/opt/homebrew/lib/python3.9/site-packages/muspy/outputs/audio.py:72\u001b[0m, in \u001b[0;36msynthesize\u001b[0;34m(music, soundfont_path, rate, gain)\u001b[0m\n\u001b[1;32m     69\u001b[0m     write_midi(midi_path, music)\n\u001b[1;32m     71\u001b[0m     \u001b[38;5;66;03m# Synthesize the MIDI file using fluidsynth\u001b[39;00m\n\u001b[0;32m---> 72\u001b[0m     result \u001b[38;5;241m=\u001b[39m \u001b[43msubprocess\u001b[49m\u001b[38;5;241;43m.\u001b[39;49m\u001b[43mrun\u001b[49m\u001b[43m(\u001b[49m\n\u001b[1;32m     73\u001b[0m \u001b[43m        \u001b[49m\u001b[43m[\u001b[49m\n\u001b[1;32m     74\u001b[0m \u001b[43m            \u001b[49m\u001b[38;5;124;43m\"\u001b[39;49m\u001b[38;5;124;43mfluidsynth\u001b[39;49m\u001b[38;5;124;43m\"\u001b[39;49m\u001b[43m,\u001b[49m\n\u001b[1;32m     75\u001b[0m \u001b[43m            \u001b[49m\u001b[38;5;124;43m\"\u001b[39;49m\u001b[38;5;124;43m-T\u001b[39;49m\u001b[38;5;124;43m\"\u001b[39;49m\u001b[43m,\u001b[49m\n\u001b[1;32m     76\u001b[0m \u001b[43m            \u001b[49m\u001b[38;5;124;43m\"\u001b[39;49m\u001b[38;5;124;43mraw\u001b[39;49m\u001b[38;5;124;43m\"\u001b[39;49m\u001b[43m,\u001b[49m\n\u001b[1;32m     77\u001b[0m \u001b[43m            \u001b[49m\u001b[38;5;124;43m\"\u001b[39;49m\u001b[38;5;124;43m-F-\u001b[39;49m\u001b[38;5;124;43m\"\u001b[39;49m\u001b[43m,\u001b[49m\n\u001b[1;32m     78\u001b[0m \u001b[43m            \u001b[49m\u001b[38;5;124;43m\"\u001b[39;49m\u001b[38;5;124;43m-r\u001b[39;49m\u001b[38;5;124;43m\"\u001b[39;49m\u001b[43m,\u001b[49m\n\u001b[1;32m     79\u001b[0m \u001b[43m            \u001b[49m\u001b[38;5;28;43mstr\u001b[39;49m\u001b[43m(\u001b[49m\u001b[43mrate\u001b[49m\u001b[43m)\u001b[49m\u001b[43m,\u001b[49m\n\u001b[1;32m     80\u001b[0m \u001b[43m            \u001b[49m\u001b[38;5;124;43m\"\u001b[39;49m\u001b[38;5;124;43m-g\u001b[39;49m\u001b[38;5;124;43m\"\u001b[39;49m\u001b[43m,\u001b[49m\n\u001b[1;32m     81\u001b[0m \u001b[43m            \u001b[49m\u001b[38;5;28;43mstr\u001b[39;49m\u001b[43m(\u001b[49m\u001b[43mgain\u001b[49m\u001b[43m)\u001b[49m\u001b[43m,\u001b[49m\n\u001b[1;32m     82\u001b[0m \u001b[43m            \u001b[49m\u001b[38;5;124;43m\"\u001b[39;49m\u001b[38;5;124;43m-i\u001b[39;49m\u001b[38;5;124;43m\"\u001b[39;49m\u001b[43m,\u001b[49m\n\u001b[1;32m     83\u001b[0m \u001b[43m            \u001b[49m\u001b[38;5;28;43mstr\u001b[39;49m\u001b[43m(\u001b[49m\u001b[43msoundfont_path\u001b[49m\u001b[43m)\u001b[49m\u001b[43m,\u001b[49m\n\u001b[1;32m     84\u001b[0m \u001b[43m            \u001b[49m\u001b[38;5;28;43mstr\u001b[39;49m\u001b[43m(\u001b[49m\u001b[43mmidi_path\u001b[49m\u001b[43m)\u001b[49m\u001b[43m,\u001b[49m\n\u001b[1;32m     85\u001b[0m \u001b[43m        \u001b[49m\u001b[43m]\u001b[49m\u001b[43m,\u001b[49m\n\u001b[1;32m     86\u001b[0m \u001b[43m        \u001b[49m\u001b[43mcheck\u001b[49m\u001b[38;5;241;43m=\u001b[39;49m\u001b[38;5;28;43;01mTrue\u001b[39;49;00m\u001b[43m,\u001b[49m\n\u001b[1;32m     87\u001b[0m \u001b[43m        \u001b[49m\u001b[43mstdout\u001b[49m\u001b[38;5;241;43m=\u001b[39;49m\u001b[43msubprocess\u001b[49m\u001b[38;5;241;43m.\u001b[39;49m\u001b[43mPIPE\u001b[49m\u001b[43m,\u001b[49m\n\u001b[1;32m     88\u001b[0m \u001b[43m    \u001b[49m\u001b[43m)\u001b[49m\n\u001b[1;32m     90\u001b[0m \u001b[38;5;66;03m# Decode bytes to waveform\u001b[39;00m\n\u001b[1;32m     91\u001b[0m waveform \u001b[38;5;241m=\u001b[39m np\u001b[38;5;241m.\u001b[39mfrombuffer(result\u001b[38;5;241m.\u001b[39mstdout, np\u001b[38;5;241m.\u001b[39mint16)\u001b[38;5;241m.\u001b[39mreshape(\u001b[38;5;241m-\u001b[39m\u001b[38;5;241m1\u001b[39m, \u001b[38;5;241m2\u001b[39m)\n",
      "File \u001b[0;32m/opt/homebrew/Cellar/python@3.9/3.9.12/Frameworks/Python.framework/Versions/3.9/lib/python3.9/subprocess.py:505\u001b[0m, in \u001b[0;36mrun\u001b[0;34m(input, capture_output, timeout, check, *popenargs, **kwargs)\u001b[0m\n\u001b[1;32m    502\u001b[0m     kwargs[\u001b[38;5;124m'\u001b[39m\u001b[38;5;124mstdout\u001b[39m\u001b[38;5;124m'\u001b[39m] \u001b[38;5;241m=\u001b[39m PIPE\n\u001b[1;32m    503\u001b[0m     kwargs[\u001b[38;5;124m'\u001b[39m\u001b[38;5;124mstderr\u001b[39m\u001b[38;5;124m'\u001b[39m] \u001b[38;5;241m=\u001b[39m PIPE\n\u001b[0;32m--> 505\u001b[0m \u001b[38;5;28;01mwith\u001b[39;00m \u001b[43mPopen\u001b[49m\u001b[43m(\u001b[49m\u001b[38;5;241;43m*\u001b[39;49m\u001b[43mpopenargs\u001b[49m\u001b[43m,\u001b[49m\u001b[43m \u001b[49m\u001b[38;5;241;43m*\u001b[39;49m\u001b[38;5;241;43m*\u001b[39;49m\u001b[43mkwargs\u001b[49m\u001b[43m)\u001b[49m \u001b[38;5;28;01mas\u001b[39;00m process:\n\u001b[1;32m    506\u001b[0m     \u001b[38;5;28;01mtry\u001b[39;00m:\n\u001b[1;32m    507\u001b[0m         stdout, stderr \u001b[38;5;241m=\u001b[39m process\u001b[38;5;241m.\u001b[39mcommunicate(\u001b[38;5;28minput\u001b[39m, timeout\u001b[38;5;241m=\u001b[39mtimeout)\n",
      "File \u001b[0;32m/opt/homebrew/Cellar/python@3.9/3.9.12/Frameworks/Python.framework/Versions/3.9/lib/python3.9/subprocess.py:951\u001b[0m, in \u001b[0;36mPopen.__init__\u001b[0;34m(self, args, bufsize, executable, stdin, stdout, stderr, preexec_fn, close_fds, shell, cwd, env, universal_newlines, startupinfo, creationflags, restore_signals, start_new_session, pass_fds, user, group, extra_groups, encoding, errors, text, umask)\u001b[0m\n\u001b[1;32m    947\u001b[0m         \u001b[38;5;28;01mif\u001b[39;00m \u001b[38;5;28mself\u001b[39m\u001b[38;5;241m.\u001b[39mtext_mode:\n\u001b[1;32m    948\u001b[0m             \u001b[38;5;28mself\u001b[39m\u001b[38;5;241m.\u001b[39mstderr \u001b[38;5;241m=\u001b[39m io\u001b[38;5;241m.\u001b[39mTextIOWrapper(\u001b[38;5;28mself\u001b[39m\u001b[38;5;241m.\u001b[39mstderr,\n\u001b[1;32m    949\u001b[0m                     encoding\u001b[38;5;241m=\u001b[39mencoding, errors\u001b[38;5;241m=\u001b[39merrors)\n\u001b[0;32m--> 951\u001b[0m     \u001b[38;5;28;43mself\u001b[39;49m\u001b[38;5;241;43m.\u001b[39;49m\u001b[43m_execute_child\u001b[49m\u001b[43m(\u001b[49m\u001b[43margs\u001b[49m\u001b[43m,\u001b[49m\u001b[43m \u001b[49m\u001b[43mexecutable\u001b[49m\u001b[43m,\u001b[49m\u001b[43m \u001b[49m\u001b[43mpreexec_fn\u001b[49m\u001b[43m,\u001b[49m\u001b[43m \u001b[49m\u001b[43mclose_fds\u001b[49m\u001b[43m,\u001b[49m\n\u001b[1;32m    952\u001b[0m \u001b[43m                        \u001b[49m\u001b[43mpass_fds\u001b[49m\u001b[43m,\u001b[49m\u001b[43m \u001b[49m\u001b[43mcwd\u001b[49m\u001b[43m,\u001b[49m\u001b[43m \u001b[49m\u001b[43menv\u001b[49m\u001b[43m,\u001b[49m\n\u001b[1;32m    953\u001b[0m \u001b[43m                        \u001b[49m\u001b[43mstartupinfo\u001b[49m\u001b[43m,\u001b[49m\u001b[43m \u001b[49m\u001b[43mcreationflags\u001b[49m\u001b[43m,\u001b[49m\u001b[43m \u001b[49m\u001b[43mshell\u001b[49m\u001b[43m,\u001b[49m\n\u001b[1;32m    954\u001b[0m \u001b[43m                        \u001b[49m\u001b[43mp2cread\u001b[49m\u001b[43m,\u001b[49m\u001b[43m \u001b[49m\u001b[43mp2cwrite\u001b[49m\u001b[43m,\u001b[49m\n\u001b[1;32m    955\u001b[0m \u001b[43m                        \u001b[49m\u001b[43mc2pread\u001b[49m\u001b[43m,\u001b[49m\u001b[43m \u001b[49m\u001b[43mc2pwrite\u001b[49m\u001b[43m,\u001b[49m\n\u001b[1;32m    956\u001b[0m \u001b[43m                        \u001b[49m\u001b[43merrread\u001b[49m\u001b[43m,\u001b[49m\u001b[43m \u001b[49m\u001b[43merrwrite\u001b[49m\u001b[43m,\u001b[49m\n\u001b[1;32m    957\u001b[0m \u001b[43m                        \u001b[49m\u001b[43mrestore_signals\u001b[49m\u001b[43m,\u001b[49m\n\u001b[1;32m    958\u001b[0m \u001b[43m                        \u001b[49m\u001b[43mgid\u001b[49m\u001b[43m,\u001b[49m\u001b[43m \u001b[49m\u001b[43mgids\u001b[49m\u001b[43m,\u001b[49m\u001b[43m \u001b[49m\u001b[43muid\u001b[49m\u001b[43m,\u001b[49m\u001b[43m \u001b[49m\u001b[43mumask\u001b[49m\u001b[43m,\u001b[49m\n\u001b[1;32m    959\u001b[0m \u001b[43m                        \u001b[49m\u001b[43mstart_new_session\u001b[49m\u001b[43m)\u001b[49m\n\u001b[1;32m    960\u001b[0m \u001b[38;5;28;01mexcept\u001b[39;00m:\n\u001b[1;32m    961\u001b[0m     \u001b[38;5;66;03m# Cleanup if the child failed starting.\u001b[39;00m\n\u001b[1;32m    962\u001b[0m     \u001b[38;5;28;01mfor\u001b[39;00m f \u001b[38;5;129;01min\u001b[39;00m \u001b[38;5;28mfilter\u001b[39m(\u001b[38;5;28;01mNone\u001b[39;00m, (\u001b[38;5;28mself\u001b[39m\u001b[38;5;241m.\u001b[39mstdin, \u001b[38;5;28mself\u001b[39m\u001b[38;5;241m.\u001b[39mstdout, \u001b[38;5;28mself\u001b[39m\u001b[38;5;241m.\u001b[39mstderr)):\n",
      "File \u001b[0;32m/opt/homebrew/Cellar/python@3.9/3.9.12/Frameworks/Python.framework/Versions/3.9/lib/python3.9/subprocess.py:1821\u001b[0m, in \u001b[0;36mPopen._execute_child\u001b[0;34m(self, args, executable, preexec_fn, close_fds, pass_fds, cwd, env, startupinfo, creationflags, shell, p2cread, p2cwrite, c2pread, c2pwrite, errread, errwrite, restore_signals, gid, gids, uid, umask, start_new_session)\u001b[0m\n\u001b[1;32m   1819\u001b[0m     \u001b[38;5;28;01mif\u001b[39;00m errno_num \u001b[38;5;241m!=\u001b[39m \u001b[38;5;241m0\u001b[39m:\n\u001b[1;32m   1820\u001b[0m         err_msg \u001b[38;5;241m=\u001b[39m os\u001b[38;5;241m.\u001b[39mstrerror(errno_num)\n\u001b[0;32m-> 1821\u001b[0m     \u001b[38;5;28;01mraise\u001b[39;00m child_exception_type(errno_num, err_msg, err_filename)\n\u001b[1;32m   1822\u001b[0m \u001b[38;5;28;01mraise\u001b[39;00m child_exception_type(err_msg)\n",
      "\u001b[0;31mFileNotFoundError\u001b[0m: [Errno 2] No such file or directory: 'fluidsynth'"
     ]
    },
    {
     "name": "stderr",
     "output_type": "stream",
     "text": [
      "/opt/homebrew/lib/python3.9/site-packages/IPython/core/events.py:89: UserWarning: Glyph 108 (l) missing from current font.\n",
      "  func(*args, **kwargs)\n",
      "/opt/homebrew/lib/python3.9/site-packages/IPython/core/events.py:89: UserWarning: Glyph 112 (p) missing from current font.\n",
      "  func(*args, **kwargs)\n",
      "/opt/homebrew/lib/python3.9/site-packages/IPython/core/pylabtools.py:151: UserWarning: Glyph 108 (l) missing from current font.\n",
      "  fig.canvas.print_figure(bytes_io, **kw)\n",
      "/opt/homebrew/lib/python3.9/site-packages/IPython/core/pylabtools.py:151: UserWarning: Glyph 112 (p) missing from current font.\n",
      "  fig.canvas.print_figure(bytes_io, **kw)\n"
     ]
    },
    {
     "data": {
      "image/png": "[encoded data removed]",
      "text/plain": [
       "<Figure size 432x288 with 1 Axes>"
      ]
     },
     "metadata": {
      "image/png": {
       "height": 302,
       "width": 277
      },
      "needs_background": "light"
     },
     "output_type": "display_data"
    }
   ],
   "source": [
    "\n",
    "def generate_muspy_music(model, random_seed=0):\n",
    "  '''\n",
    "  This function combines 'generate', 'convert_idx_pred_to_origin', 'convert_pitch_dur_to_note_representation', muspy.from_note_representation\n",
    "  '''\n",
    "  gen_out = generate(model, random_seed)\n",
    "  converted_out = convert_idx_pred_to_origin(gen_out, model.idx2pitch, model.idx2dur)\n",
    "  note_repr = convert_pitch_dur_to_note_representation(converted_out)\n",
    "  gen_music = muspy.from_note_representation(note_repr)\n",
    "  return gen_music\n",
    "\n",
    "gen_music = generate_muspy_music(model, random_seed=2)\n",
    "gen_music.show_score()\n",
    "gen_audio = gen_music.synthesize().T\n",
    "ipd.Audio(gen_audio/2**15, rate=44100)"
   ]
  },
  {
   "cell_type": "code",
   "execution_count": null,
   "id": "6ed38eca",
   "metadata": {},
   "outputs": [],
   "source": [
    "'''\n",
    "You can save audio as wave file with muspy.write_audio\n",
    "'''\n",
    "gen_music.write_audio('result_0.wav')"
   ]
  }
 ],
 "metadata": {
  "kernelspec": {
   "display_name": "Python 3 (ipykernel)",
   "language": "python",
   "name": "python3"
  },
  "language_info": {
   "codemirror_mode": {
    "name": "ipython",
    "version": 3
   },
   "file_extension": ".py",
   "mimetype": "text/x-python",
   "name": "python",
   "nbconvert_exporter": "python",
   "pygments_lexer": "ipython3",
   "version": "3.9.13"
  }
 },
 "nbformat": 4,
 "nbformat_minor": 5
}
