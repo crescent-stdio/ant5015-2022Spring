{
 "cells": [
  {
   "cell_type": "markdown",
   "id": "7a17b6d4",
   "metadata": {},
   "source": [
    "# Music Generation\n",
    "- Music Generation with Bach Corpus"
   ]
  },
  {
   "cell_type": "code",
   "execution_count": null,
   "id": "ddebf66c",
   "metadata": {},
   "outputs": [],
   "source": [
    "'''\n",
    "Download dataset\n",
    "'''\n",
    "!gdown 1Cp25qM48d-mWm8f77jt-RU3rpZ41DII-"
   ]
  },
  {
   "cell_type": "code",
   "execution_count": null,
   "id": "def85864",
   "metadata": {},
   "outputs": [],
   "source": []
  }
 ],
 "metadata": {
  "kernelspec": {
   "display_name": "Python 3 (ipykernel)",
   "language": "python",
   "name": "python3"
  },
  "language_info": {
   "codemirror_mode": {
    "name": "ipython",
    "version": 3
   },
   "file_extension": ".py",
   "mimetype": "text/x-python",
   "name": "python",
   "nbconvert_exporter": "python",
   "pygments_lexer": "ipython3",
   "version": "3.8.10"
  }
 },
 "nbformat": 4,
 "nbformat_minor": 5
}
